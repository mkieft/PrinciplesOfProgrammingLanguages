{
 "cells": [
  {
   "cell_type": "markdown",
   "metadata": {},
   "source": [
    "# CSCI 3155 - L5 - Grammars and Classes - Spencer"
   ]
  },
  {
   "cell_type": "markdown",
   "metadata": {},
   "source": [
    "## Overview\n",
    "* 5000 ft view, where are we going?\n",
    "* Concrete vs abstract syntax (and the AST )\n",
    "* Review of generative grammars\n",
    "* More on generative grammars\n",
    "* Making a class from your generative grammar"
   ]
  },
  {
   "cell_type": "markdown",
   "metadata": {},
   "source": [
    "## Announcements\n",
    "* The first spot exam is Friday, February 8 in your recitation\n",
    "\t* Covers week 1 and week 2 material\n",
    "\t\t* Things covered in lecture\n",
    "        * Things covered on your homeworks\n",
    "        * Things covered in the Moodle quizzes\n",
    "\t* This is one of at least 4 spot exams that we will have within the term\n",
    "\t* If you want to see more coverage of these topics in class or in readings please let me know ASAP so that I can accommodate this\n",
    "\t* If you have an accommodation letter please get that to me ASAP, like before the end of today…"
   ]
  },
  {
   "cell_type": "markdown",
   "metadata": {},
   "source": [
    "## 5000 ft view, where are we going?\n",
    "See the supplemental reading document…"
   ]
  },
  {
   "cell_type": "markdown",
   "metadata": {},
   "source": [
    "## Concrete syntax vs abstract syntax (and the AST)\n",
    "* Terms\n",
    "    * **semantic**: meaning\n",
    "    * **syntax**: \n",
    "        * the manner in which a sematic is expressed\n",
    "        * the manner in which multiple semantic are combined to form new semantics\n",
    "    * **concrete syntax**: ???\n",
    "    * **abstract syntax**: ???\n",
    "    * **abstract syntax tree**: ???\n",
    "* We can use grammars to define any language we wish.\n",
    "* I hope that later in the course I can show you how we use these to develop images and music but…\n",
    "* For now we will look at programming languages\n",
    "    * This is a course in programming languages after all…\n",
    "    * Throughout this course we’ll look at many tools that can be used to create your own PL if you were so inclined.\n",
    "* Today we will look at a subset of python and develop a Scala interpreter for that language. \n",
    "    * Consider the python following expressions:\n",
    "        * True\n",
    "        * not True\n",
    "        * True and False\n",
    "        * not False or True\n",
    "        * not (False or True)\n",
    "    * these expressions are in concrete python syntax\n",
    "    * Don’t believe me? Try it yourself\n",
    "        * open a python interpreter\n",
    "        * put these sentences in and see what happens\n",
    "        * each of them will evaluate to either True or False\n",
    "    * These don’t mean anything in Scala.\n",
    "        * Don’t believe me? Let's try it:"
   ]
  },
  {
   "cell_type": "code",
   "execution_count": null,
   "metadata": {
    "collapsed": true
   },
   "outputs": [],
   "source": [
    "True\n",
    "not True\n",
    "True and False\n",
    "not False or True\n",
    "not (False or True)"
   ]
  },
  {
   "cell_type": "markdown",
   "metadata": {},
   "source": [
    "* But what if I want these statements to mean something in Scala?\n",
    "* Can I do that? How would I do that?\n",
    "* Let’s abstract this concrete python syntax into something that Scala can understand\n",
    "    * ASIDE: This isn't the best example. If I were a true Scala master I could probably get this to become concrete syntax in Scala. But let's just assume for a moment that I'm not a master of Scala and then well have to abstract this a bit...\n",
    "* That would be the abstract python syntax\n",
    "* Here I ought to introduce you to the abstract syntax tree (AST):\n",
    "    * The AST is a *tree-like* data structure\n",
    "    * It is used to orgainze syntax, typically **abstract syntax**\n",
    "        * similar to how a binary search tree is used to organize data\n",
    "    * A pain point:\n",
    "        * I am about to show you some images\n",
    "        * These images are visualization for an AST\n",
    "        * Typically when we draw the image we look at concrete syntax\n",
    "        * But... the AST as it is implemented (later today) actually implements abstract syntax, NOT concrete syntax\n",
    "        * If you have ideas about how to better explain this please let me know.\n",
    "* Consider these sentences and their visualizations bellow:\n",
    "    * True\n",
    "    * not True\n",
    "    * True and False"
   ]
  },
  {
   "cell_type": "markdown",
   "metadata": {},
   "source": [
    "* I can't get the image to load... So I posted it online next to this doc"
   ]
  },
  {
   "cell_type": "markdown",
   "metadata": {},
   "source": [
    "#### Qs?"
   ]
  },
  {
   "cell_type": "markdown",
   "metadata": {},
   "source": [
    "#### Try it yourself\n",
    "* Now consider these sentences, can you construct your own visulaizations?\n",
    "    * not False or True\n",
    "    * not (False or True)\n",
    "* Do the parens make a difference?\n",
    "* I have solutions at the bottom of this document..."
   ]
  },
  {
   "cell_type": "markdown",
   "metadata": {},
   "source": [
    "#### Qs?"
   ]
  },
  {
   "cell_type": "markdown",
   "metadata": {},
   "source": [
    "\n",
    "### Discuss with a peer\n",
    "* define in your own words:\n",
    "    * **concrete syntax**: \n",
    "        *what the programmer sees\n",
    "        *rules about the medium through which the information is expressed\n",
    "    * **abstract syntax**: \n",
    "        *how the compiler interprets the concrete\n",
    "        *extracts info from the concrete syntax\n",
    "    * **abstract syntax tree**: ???\n",
    "\n",
    "### Qs?"
   ]
  },
  {
   "cell_type": "markdown",
   "metadata": {},
   "source": [
    "## Review of generative grammars\n",
    "* first, some notation\n",
    "    * **&RightArrow;**: This means produces\n",
    "    * **|**: This means “OR” (as you likely expected)\n",
    "* Now we can define a linked list of numbers using a generative grammar\n",
    "    * First I should name this thing I'm making: *List*\n",
    "    * Next, I need to define a term for the end of the List: *Nil*\n",
    "    * Finally I need to define a term for the node: *Node(n, List)*\n",
    "    * Now I’m ready, here is my generative grammar for a linked list\n",
    "        * *List* &RightArrow; *Nil* | *Node(n, List)*\n",
    "        * *n* is a Scala Int\n",
    "* Below is one way that grammar could be made into code:"
   ]
  },
  {
   "cell_type": "code",
   "execution_count": 1,
   "metadata": {
    "collapsed": true
   },
   "outputs": [
    {
     "data": {
      "text/plain": [
       "defined trait List\n",
       "defined object Nil\n",
       "defined class Node\n"
      ]
     },
     "execution_count": 1,
     "metadata": {},
     "output_type": "execute_result"
    }
   ],
   "source": [
    "// List --> Nil | Node(n, List)\n",
    "// n is a Scala Int\n",
    "\n",
    "sealed trait List // List\n",
    "case object Nil extends List // Nil\n",
    "case class Node(n:Int, l:List) extends List\n",
    "\n",
    "/* \n",
    "Note, if you don't like case object you can use case class:\n",
    "    case class Nil() extends List\n",
    "    but I don't like this... case object is sufficient\n",
    "    and case object looks more like my generative grammar\n",
    "*/\n"
   ]
  },
  {
   "cell_type": "markdown",
   "metadata": {},
   "source": [
    "## Help me out\n",
    "### Generative grammar\n",
    "* I would like to create a generative grammar that represents how python codes Boolean algebra. \n",
    "* Here are some sentences that are in that language\n",
    "\t* True\n",
    "\t* False\n",
    "    * True and False\n",
    "    * not True\n",
    "    * not False or True\n",
    "    * not (False or True)\n",
    "* Let me show you how we write a grammar to describe the  concrete syntax:\n",
    "    * grammar\n",
    "        * S &RightArrow; True | False | not S | S and S | S or S | (S)\n",
    "    * observations\n",
    "        * \n",
    "* Help me create a generative grammar for this language:\n",
    "\t* S &RightArrow;  b | Not(s) | Or(S, S) | And(S,S)\n",
    "            *b is a Scala Boolean\n",
    "            **observation: (S) is in the concrete and not the abstract \n",
    "\n",
    "### Coding a class\n",
    "* Now that we have a generative grammar we should be ready to write a scala class.\n",
    "* Specifically we are ready to implement our first **Abstract Syntax Tree (AST)**\n",
    "* For now we will use:\n",
    "\t* sealed trait ???\n",
    "\t* case object ??? extends ???\n",
    "\t* case class ??? extends ??? (Has (S) in it)\n",
    "* We might also need:\n",
    "    * sealed trait ??? extends ???\n",
    "* Notes\n",
    "    * \"case object\" is less expensive than a \"case class\"\n",
    "    * \"case object\" is less powerful than a \"case class\"\n",
    "    * if you need to encapsulate data then you ought to use \"case class\"\n",
    "    * but if you don't need to encapsulate data then \"case object\" is likely sufficient\n",
    "* Let me show you how we write a class for our generative grammar and then you'll get a chance to try it yourself\n",
    "* This will be an **AST** because it is a tree that holds abstract syntax\n",
    "* Generative Grammar: \n",
    "    * SPWI, past the grammar from above down here...\n",
    "    "
   ]
  },
  {
   "cell_type": "code",
   "execution_count": 11,
   "metadata": {
    "collapsed": true
   },
   "outputs": [
    {
     "data": {
      "text/plain": [
       "defined trait Logic\n",
       "defined class Value\n",
       "defined object True\n",
       "defined object False\n",
       "defined class Not\n",
       "defined class Or\n",
       "defined class And\n"
      ]
     },
     "execution_count": 11,
     "metadata": {},
     "output_type": "execute_result"
    }
   ],
   "source": [
    "// Grammar:\n",
    "/* S--> Value(b) | True| False | Not(Logic) | Or(Logic,Logic) | And(Logic,Logic)\n",
    "    b is a boolean\n",
    "*/\n",
    "// AST:\n",
    "sealed trait Logic\n",
    "case class Value(b: Boolean) extends Logic // b\n",
    "case object True extends Logic//true\n",
    "case object False extends Logic//False\n",
    "case class Not(s1:Logic) extends Logic //Not(Logic)\n",
    "case class Or(s1:Logic, s2:Logic) extends Logic //Or(Logic,Logic)\n",
    "case class And(s1:Logic, s2:Logic) extends Logic //And(Logic,Logic)\n"
   ]
  },
  {
   "cell_type": "markdown",
   "metadata": {},
   "source": [
    "\n",
    "### Qs?"
   ]
  },
  {
   "cell_type": "markdown",
   "metadata": {},
   "source": [
    "## Try it with peer\n",
    "### Define the generative grammar\n",
    "* What if instead of working on Boolean algebra we’d like to work on some simple arithmetic\n",
    "* create a generative grammar that implements the following language features:\n",
    "\t* numbers\n",
    "\t* negation\n",
    "\t* addition\n",
    "\t* multiplication\n",
    "\t* division\n",
    "    * hightening precidence\n",
    "* For some added clarity, here is one possible grammar that implements a concrete syntax for your language:\n",
    "\t* S &RightArrow; n | - S | S + S | S* S | S / S | (S)\n",
    "\t* *n is a number*\n",
    "* Generative Grammar\n",
    "    * Maths &RightArrow; Neg(Maths) | Add(Maths, Maths) | Mult(Maths, Maths) | Div(Maths, Maths) | Number(int)\n",
    "\n",
    "### Code a Class\n",
    "* Using a sealed trait, implement a class for your generative grammar.\n",
    "* Look at your sealed trait and your grammar. Do they look pretty darn similar?\n",
    "\t* if they look similar than you have a great generative grammar\n",
    "\t* if they look super different than your generative grammar isn’t necessarily wrong, but it’s maybe less than ideal. Perhaps try refactoring your grammar now that you have some code."
   ]
  },
  {
   "cell_type": "code",
   "execution_count": 18,
   "metadata": {
    "collapsed": true
   },
   "outputs": [
    {
     "data": {
      "text/plain": [
       "defined trait Arithmetic\n",
       "defined class Num\n",
       "defined class Neg\n",
       "defined class Add\n",
       "defined class Mult\n",
       "defined class Div\n"
      ]
     },
     "execution_count": 18,
     "metadata": {},
     "output_type": "execute_result"
    }
   ],
   "source": [
    "// Generative Grammar:\n",
    "// Arithmetic--> Num(Int) | Neg(Arithmetic) | Add(Arithmetic,Arithmetic) | Mult(Arithmetic,Arithmetic) | Div(Arithmetic,Arithmetic) \n",
    "\n",
    "// AST\n",
    "sealed trait Arithmetic\n",
    "case class Num(n:Int) extends Arithmetic //n\n",
    "case class Neg(s1:Arithmetic) extends Arithmetic //Neg(S)\n",
    "case class Add(s1:Arithmetic, s2:Arithmetic) extends Arithmetic // Add(S,S)\n",
    "case class Mult(s1:Arithmetic, s2:Arithmetic) extends Arithmetic //Mult(S,S)\n",
    "case class Div(s1:Arithmetic, s2:Arithmetic) extends Arithmetic // Div(S,S)"
   ]
  },
  {
   "cell_type": "markdown",
   "metadata": {},
   "source": [
    "### Still need more work to do?\n",
    "* Try joining your arithmetic language with my Boolean algebraic language.\n",
    "\t* write a strong generative grammar\n",
    "\t* implement a class in scala\n",
    "* Is there a better way to solve this problem?"
   ]
  },
  {
   "cell_type": "markdown",
   "metadata": {},
   "source": [
    "### Qs?"
   ]
  },
  {
   "cell_type": "markdown",
   "metadata": {},
   "source": [
    "## TODO\n",
    "* Homework and Quiz 2 are due this Friday\n",
    "* Homework and Quiz 3 will go live this Thursday\n",
    "* The first spot exam is next Friday in recitation"
   ]
  }
 ],
 "metadata": {
  "anaconda-cloud": {},
  "kernelspec": {
   "display_name": "Scala",
   "language": "scala",
   "name": "scala"
  },
  "language_info": {
   "codemirror_mode": "text/x-scala",
   "file_extension": ".scala",
   "mimetype": "",
   "name": "Scala",
   "nbconverter_exporter": "",
   "version": "2.11.12"
  }
 },
 "nbformat": 4,
 "nbformat_minor": 2
}
