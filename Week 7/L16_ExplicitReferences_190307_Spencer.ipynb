{
 "cells": [
  {
   "cell_type": "markdown",
   "metadata": {},
   "source": [
    "# L16: Mutability in Lettuce"
   ]
  },
  {
   "cell_type": "markdown",
   "metadata": {},
   "source": [
    "## Overview\n",
    "* Explicit References\n",
    "* New Eval\n",
    "* Implicit References"
   ]
  },
  {
   "cell_type": "markdown",
   "metadata": {},
   "source": [
    "## Tangent\n",
    "* I re-discovered a quirk about Python that I'd like to share\n",
    "    * I knew about this but I had forgotten\n",
    "    * I came across it at work yesterday\n",
    "* What does the following script print in Python3 / what would you expect it to print?\n",
    "~~~\n",
    "x = 2\n",
    "def f():\n",
    "    x = 4\n",
    "f()\n",
    "print(x)\n",
    "~~~\n",
    "<br /><br /><br /><br /><br /><br /><br /><br />"
   ]
  },
  {
   "cell_type": "markdown",
   "metadata": {},
   "source": [
    "* It prints 2\n",
    "* Why?\n",
    "    * in python, a global variable is a local variable to the global scope\n",
    "    * in python, a functions scope does not implicitly inherit the global scope"
   ]
  },
  {
   "cell_type": "markdown",
   "metadata": {},
   "source": [
    "* What if I want it to print 4?\n",
    "* There are two options here, namely:\n",
    "    * use the global keywork in your function (best practice)\n",
    "    * **heapify** the variable (sort of a hack)"
   ]
  },
  {
   "cell_type": "markdown",
   "metadata": {},
   "source": [
    "* using global\n",
    "~~~\n",
    "x = 2\n",
    "def f():\n",
    "    global x\n",
    "    x = 4\n",
    "f()\n",
    "print(x)\n",
    "~~~"
   ]
  },
  {
   "cell_type": "markdown",
   "metadata": {},
   "source": [
    "* heapifying x\n",
    "~~~\n",
    "x = [2]\n",
    "def f():\n",
    "    x[0] = 4\n",
    "f()\n",
    "print(x[0])\n",
    "~~~"
   ]
  },
  {
   "cell_type": "markdown",
   "metadata": {},
   "source": [
    "* just a fun fact / tangent\n",
    "* You won't be tested on this\n",
    "* You might consider such features if you were creating your own language with implicit references to mutable variables"
   ]
  },
  {
   "cell_type": "markdown",
   "metadata": {},
   "source": [
    "* in a similar vein, the following python program throws an error\n",
    "* it says, hey! you cant use x before it is declared\n",
    "~~~\n",
    "x = 2\n",
    "def f():\n",
    "    print(x)\n",
    "    x = 4\n",
    "f()\n",
    "~~~"
   ]
  },
  {
   "cell_type": "markdown",
   "metadata": {},
   "source": [
    "* Scala has a similar phenomina\n",
    "* If we have an identifier in an outer scope we can't use it and then also shaddow the identifier"
   ]
  },
  {
   "cell_type": "code",
   "execution_count": 20,
   "metadata": {
    "collapsed": false
   },
   "outputs": [
    {
     "name": "stdout",
     "output_type": "stream",
     "text": [
      "4\n"
     ]
    },
    {
     "data": {
      "text/plain": [
       "\u001b[36mx\u001b[39m: \u001b[32mInt\u001b[39m = \u001b[32m2\u001b[39m\n",
       "\u001b[36my\u001b[39m: \u001b[32mInt\u001b[39m = \u001b[32m4\u001b[39m"
      ]
     },
     "execution_count": 20,
     "metadata": {},
     "output_type": "execute_result"
    }
   ],
   "source": [
    "// Works\n",
    "val x = 2\n",
    "val y = {\n",
    "    val x = 4\n",
    "    x\n",
    "}\n",
    "println(y)"
   ]
  },
  {
   "cell_type": "code",
   "execution_count": 20,
   "metadata": {
    "collapsed": false
   },
   "outputs": [
    {
     "name": "stderr",
     "output_type": "stream",
     "text": [
      "cmd20.sc:3: forward reference extends over definition of value a\n",
      "    println(a)\n",
      "            ^Compilation Failed"
     ]
    },
    {
     "ename": "",
     "evalue": "",
     "output_type": "error",
     "traceback": [
      "Compilation Failed"
     ]
    }
   ],
   "source": [
    "val a = 2\n",
    "val b = {\n",
    "    println(a)\n",
    "    val a = 4\n",
    "}"
   ]
  },
  {
   "cell_type": "markdown",
   "metadata": {},
   "source": [
    "## Explicit References in Lettuce\n",
    "* We will now allow the Lettuce developer to be able to use mutable variables\n",
    "* We will look at this with both:\n",
    "    * Explicit References (like C)\n",
    "    * Implicit References (like Python)\n",
    "* For Explicit references we allow the programmer to:\n",
    "    * create new reference cells with a value it it (NewRef)\n",
    "    * lookup the value in the cell (DeRef)\n",
    "    * change the value in the cell (AssignRef)"
   ]
  },
  {
   "cell_type": "markdown",
   "metadata": {},
   "source": [
    "### Grammars - new stuff only\n",
    "* NOTEs: \n",
    "    * here, the concrete lettuce syntax looks almost identical to the generative grammar for our AST\n",
    "    * the references and addresses do not exist in the concrete syntax\n",
    "    \n",
    "#### Concrete Grammar\n",
    "$$\\begin{array} &\n",
    "e & \\rightarrow & NewRef(e) \\\\\n",
    "& | & DeRef(e) \\\\\n",
    "& | & AssignRef(e, e) \\\\\n",
    "\\end{array}$$\n",
    "#### Generative Grammar\n",
    "$$\\begin{array} &\n",
    "Expr & \\rightarrow & NewRef(Expr) \\\\\n",
    "& | & DeRef(Expr) \\\\\n",
    "& | & AssignRef(Expr, Expr) \\\\\n",
    "& | & Value \\\\\n",
    "\\\\\n",
    "Value & \\rightarrow & Reference(Address) \\\\\n",
    "\\\\\n",
    "Address & \\rightarrow & Int \\\\\n",
    "\\end{array}$$"
   ]
  },
  {
   "cell_type": "markdown",
   "metadata": {},
   "source": [
    "### AST  - new stuff only"
   ]
  },
  {
   "cell_type": "code",
   "execution_count": null,
   "metadata": {
    "collapsed": false
   },
   "outputs": [],
   "source": [
    "sealed trait Expr\n",
    "sealed trait Value extends Expr\n",
    "type Address = Int\n",
    "\n",
    "case class NewRef(e: Expr) extends Expr\n",
    "case class DeRef(lval: Expr) extends Expr\n",
    "case class AssignRef(lval: Expr, rval: Expr) extends Expr\n",
    "\n",
    "sealed class Reference(a:Address) extends Value"
   ]
  },
  {
   "cell_type": "markdown",
   "metadata": {},
   "source": [
    "### Examples - warming up, taking guesses"
   ]
  },
  {
   "cell_type": "markdown",
   "metadata": {},
   "source": [
    "#### Easy Example\n",
    "~~~\n",
    "let x = NewRef(10) in \n",
    "let y = DeRef(x) + 1 in \n",
    "let z = AssignRef(x, y) in \n",
    "   DeRef(x)\n",
    "~~~"
   ]
  },
  {
   "cell_type": "markdown",
   "metadata": {},
   "source": [
    "#### Hard Example\n",
    "~~~\n",
    "let incr = function (x) \n",
    "           AssignRef(x, DeRef(x) + 1)\n",
    "in \n",
    "let double = function (x) \n",
    "           AssignRef(x, DeRef(x) * 2)\n",
    "in \n",
    "let r = NewRef(15) in \n",
    "let tmp0 = double(r) in \n",
    "let tmp1 = incr(r) in \n",
    "let tmp2 = double(r) in\n",
    "  DeRef(r) \n",
    "~~~"
   ]
  },
  {
   "cell_type": "markdown",
   "metadata": {},
   "source": [
    "### Visualizing memory\n",
    "* For our purposes memory will be an immutable store\n",
    "    * We can create a new stores as we go along\n",
    "    * These new stores will look like the old store, but with incremental changes\n",
    "* Let us visualize this as a table that grows\n",
    "    * In real life, this is a table of fixed size and free space that is populated somewhat randomly over time\n",
    "    * There is nothing truely random about that - usually\n",
    "    * But the determinism of how space is allocated is quite complex and hardware dependent\n",
    "    * So we won't worry about it in this course\n",
    "    * Computer Engineering, OS, and Compilers would teach you more about this topic\n",
    "* I begin with a empty table:\n",
    "<table>\n",
    "    <caption>Memory Size: 0</caption>\n",
    "    <tr>\n",
    "        <th>Address</th>\n",
    "        <th>Value</th>\n",
    "    </tr>\n",
    "</table>\n",
    "\n",
    "* Suppose I NewRef(15) I would then get:\n",
    "<table>\n",
    "    <caption>Memory Size: 1</caption>\n",
    "    <tr>\n",
    "        <th>Address</th>\n",
    "        <th>Value</th>\n",
    "    </tr>\n",
    "    <tr>\n",
    "        <td>0</td>\n",
    "        <td>15</td>\n",
    "    </tr>\n",
    "</table>\n",
    "\n",
    "* Questions?"
   ]
  },
  {
   "cell_type": "markdown",
   "metadata": {},
   "source": [
    "### Examples"
   ]
  },
  {
   "cell_type": "markdown",
   "metadata": {},
   "source": [
    "#### Easy example\n",
    "~~~\n",
    "let x = NewRef(10) in \n",
    "let y = DeRef(x) + 1 in \n",
    "let z = AssignRef(x, y) in \n",
    "   DeRef(x)\n",
    "~~~"
   ]
  },
  {
   "cell_type": "markdown",
   "metadata": {},
   "source": [
    "##### 1\n",
    "~~~\n",
    "EVALUATE:\n",
    "    let x = NewRef(10) in \n",
    "    let y = DeRef(x) + 1 in \n",
    "    let z = AssignRef(x, y) in \n",
    "       DeRef(x)\n",
    "IN ENVIRONMENT:\n",
    "    {}\n",
    "AND STORE:\n",
    "~~~\n",
    "<table>\n",
    "    <caption>Memory Size: 0</caption>\n",
    "    <tr>\n",
    "        <th>Address</th>\n",
    "        <th>Value</th>\n",
    "    </tr>\n",
    "</table>"
   ]
  },
  {
   "cell_type": "markdown",
   "metadata": {},
   "source": [
    "##### 2\n",
    "* we have a let expression binding identifier 'x' to something\n",
    "* evaluate the binding expression 'NewRef(10)' to value 'Reference(0)'\n",
    "    * why 0? because the current store size is 0 and the size is uses as the new reference address\n",
    "* map 'x' to the value of it's binding expression\n",
    "* evaluate the body expression\n",
    "~~~\n",
    "EVALUATE:\n",
    "    let y = DeRef(x) + 1 in \n",
    "    let z = AssignRef(x, y) in \n",
    "       DeRef(x)\n",
    "IN ENVIRONMENT:\n",
    "    {\n",
    "    x -> Reference(0)\n",
    "    }\n",
    "AND STORE:\n",
    "~~~\n",
    "<table>\n",
    "    <caption>Memory Size: 1</caption>\n",
    "    <tr>\n",
    "        <th>Address</th>\n",
    "        <th>Value</th>\n",
    "    </tr>\n",
    "    <tr>\n",
    "        <td>0</td>\n",
    "        <td>10</td>\n",
    "    </tr>\n",
    "</table>"
   ]
  },
  {
   "cell_type": "markdown",
   "metadata": {},
   "source": [
    "##### 3\n",
    "* we have a let expression binding identifier 'y' to something\n",
    "* evaluate the binding expression 'Deref(x) + 1' to value '11'\n",
    "    * in our environment , the identifier x = Reference(0) \n",
    "    * DeRef(x) = DeRef(Reference(0))\n",
    "    * in our memory store, address 0 = 10\n",
    "    * DeRef(Reference(0)) = 10\n",
    "    * DeRef(x) + 1 = 10 + 1 = 11\n",
    "* map 'y' to the value of it's binding expression '11'\n",
    "* evaluate the body expression\n",
    "~~~\n",
    "EVALUATE:\n",
    "    let z = AssignRef(x, y) in \n",
    "       DeRef(x)\n",
    "IN ENVIRONMENT:\n",
    "    {\n",
    "    x -> Reference(0)\n",
    "    y -> 11\n",
    "    }\n",
    "AND STORE:\n",
    "~~~\n",
    "<table>\n",
    "    <caption>Memory Size: 1</caption>\n",
    "    <tr>\n",
    "        <th>Address</th>\n",
    "        <th>Value</th>\n",
    "    </tr>\n",
    "    <tr>\n",
    "        <td>0</td>\n",
    "        <td>10</td>\n",
    "    </tr>\n",
    "</table>"
   ]
  },
  {
   "cell_type": "markdown",
   "metadata": {},
   "source": [
    "##### 4\n",
    "* we have a let expression binding identifier 'z' to something\n",
    "* evaluate the binding expression 'AssignRef(x, y)' to value '11'\n",
    "    * in our environment , the identifier x = Reference(0) \n",
    "    * in our environment , the identifier y = 11\n",
    "    * update the value at address 0 to value 11\n",
    "    * the value of the whole expression is 11\n",
    "* map 'z' to the value of it's binding expression '11'\n",
    "* evaluate the body expression\n",
    "~~~\n",
    "EVALUATE:\n",
    "   DeRef(x)\n",
    "IN ENVIRONMENT:\n",
    "    {\n",
    "    x -> Reference(0)\n",
    "    y -> 11\n",
    "    z -> 11\n",
    "    }\n",
    "AND STORE:\n",
    "~~~\n",
    "<table>\n",
    "    <caption>Memory Size: 1</caption>\n",
    "    <tr>\n",
    "        <th>Address</th>\n",
    "        <th>Value</th>\n",
    "    </tr>\n",
    "    <tr>\n",
    "        <td>0</td>\n",
    "        <td>11</td>\n",
    "    </tr>\n",
    "</table>"
   ]
  },
  {
   "cell_type": "markdown",
   "metadata": {},
   "source": [
    "##### 4\n",
    "* use envrionment to determine value of x: DeRef(x) = DeRef(Refernce(0))\n",
    "* use the store to determine value at address 0: DeRef(Refernce(0)) = 11\n",
    "* return 11\n",
    "~~~\n",
    "EVALUATE:\n",
    "    11\n",
    "IN ENVIRONMENT:\n",
    "    {\n",
    "    x -> Reference(0)\n",
    "    y -> 11\n",
    "    z -> 11\n",
    "    }\n",
    "AND STORE:\n",
    "~~~\n",
    "<table>\n",
    "    <caption>Memory Size: 1</caption>\n",
    "    <tr>\n",
    "        <th>Address</th>\n",
    "        <th>Value</th>\n",
    "    </tr>\n",
    "    <tr>\n",
    "        <td>0</td>\n",
    "        <td>11</td>\n",
    "    </tr>\n",
    "</table>"
   ]
  },
  {
   "cell_type": "markdown",
   "metadata": {},
   "source": [
    "##### 5\n",
    "* We found a value, 11!"
   ]
  },
  {
   "cell_type": "markdown",
   "metadata": {},
   "source": [
    "##### Qs????"
   ]
  },
  {
   "cell_type": "markdown",
   "metadata": {},
   "source": [
    "#### Hard Example\n",
    "~~~\n",
    "let incr = function (x) \n",
    "           AssignRef(x, DeRef(x) + 1)\n",
    "in \n",
    "let double = function (x) \n",
    "           AssignRef(x, DeRef(x) * 2)\n",
    "in \n",
    "let r = NewRef(15) in \n",
    "let tmp0 = double(r) in \n",
    "let tmp1 = incr(r) in \n",
    "let tmp2 = double(r) in DeRef(r) \n",
    "~~~"
   ]
  },
  {
   "cell_type": "markdown",
   "metadata": {},
   "source": [
    "##### 1\n",
    "* evaluate the full expression\n",
    "* environment starts as empty\n",
    "* store starts as empty\n",
    "~~~\n",
    "EVALUATE:\n",
    "    let incr = function (x) \n",
    "               AssignRef(x, DeRef(x) + 1)\n",
    "    in \n",
    "    let double = function (x) \n",
    "               AssignRef(x, DeRef(x) * 2)\n",
    "    in \n",
    "    let r = NewRef(15) in \n",
    "    let tmp0 = double(r) in \n",
    "    let tmp1 = incr(r) in \n",
    "    let tmp2 = double(r) in DeRef(r) \n",
    "IN ENVIRONMENT:\n",
    "    {}\n",
    "AND STORE:\n",
    "~~~\n",
    "<table>\n",
    "    <caption>Memory Size: 0</caption>\n",
    "    <tr>\n",
    "        <th>Address</th>\n",
    "        <th>Value</th>\n",
    "    </tr>\n",
    "</table>"
   ]
  },
  {
   "cell_type": "markdown",
   "metadata": {},
   "source": [
    "##### 2\n",
    "* evaluate the binding expression of the incr identifier\n",
    "    * its a closure\n",
    "* extend the environment to map incr to the closure\n",
    "* evaluate the body expressiong of the let expression\n",
    "~~~\n",
    "EVALUATE:\n",
    "    let double = function (x) \n",
    "               AssignRef(x, DeRef(x) * 2)\n",
    "    in \n",
    "    let r = NewRef(15) in \n",
    "    let tmp0 = double(r) in \n",
    "    let tmp1 = incr(r) in \n",
    "    let tmp2 = double(r) in DeRef(r) \n",
    "IN ENVIRONMENT:\n",
    "    {\n",
    "        incr -> Closure(x, AssignRef(x, DeRef(x) + 1), {})\n",
    "    }\n",
    "AND STORE:\n",
    "~~~\n",
    "<table>\n",
    "    <caption>Memory Size: 0</caption>\n",
    "    <tr>\n",
    "        <th>Address</th>\n",
    "        <th>Value</th>\n",
    "    </tr>\n",
    "</table>"
   ]
  },
  {
   "cell_type": "markdown",
   "metadata": {},
   "source": [
    "##### 3\n",
    "* evaluate the binding expression of the double identifier\n",
    "    * its a closure\n",
    "    * it holds the definition of incr inside of it even though it's not neeeded\n",
    "    * thanks static scoping...\n",
    "    * perhaps that could be optimized in the interpreter... (something about free vars in function bodies)\n",
    "* extend the environment to map double to the closure\n",
    "* evaluate the body expressiong of the let expression\n",
    "~~~\n",
    "EVALUATE:\n",
    "    let r = NewRef(15) in \n",
    "    let tmp0 = double(r) in \n",
    "    let tmp1 = incr(r) in \n",
    "    let tmp2 = double(r) in DeRef(r) \n",
    "IN ENVIRONMENT:\n",
    "    {\n",
    "        double -> Closure(x, AssignRef(x, DeRef(x) * 2), {incr -> Closure(x, AssignRef(x, DeRef(x) + 1), {})}),\n",
    "        incr -> Closure(x, AssignRef(x, DeRef(x) + 1), {})\n",
    "    }\n",
    "AND STORE:\n",
    "~~~\n",
    "<table>\n",
    "    <caption>Memory Size: 0</caption>\n",
    "    <tr>\n",
    "        <th>Address</th>\n",
    "        <th>Value</th>\n",
    "    </tr>\n",
    "</table>"
   ]
  },
  {
   "cell_type": "markdown",
   "metadata": {},
   "source": [
    "##### 4\n",
    "* evaluate the binding expression of the r identifier\n",
    "    * its a reference\n",
    "    * we must randomly get a reference from the store\n",
    "    * put 15 in that address space\n",
    "    * I chose address 3, b/c why not...\n",
    "* extend the environment to map r to the reference\n",
    "* evaluate the body expressiong of the let expression\n",
    "~~~\n",
    "EVALUATE:\n",
    "    let tmp0 = double(r) in \n",
    "    let tmp1 = incr(r) in \n",
    "    let tmp2 = double(r) in DeRef(r) \n",
    "IN ENVIRONMENT:\n",
    "    {\n",
    "        r -> Reference(0)\n",
    "        double -> Closure(x, AssignRef(x, DeRef(x) * 2), {incr -> Closure(x, AssignRef(x, DeRef(x) + 1), {})}),\n",
    "        incr -> Closure(x, AssignRef(x, DeRef(x) + 1), {})\n",
    "    }\n",
    "AND STORE:\n",
    "~~~\n",
    "<table>\n",
    "    <caption>Memory Size: 1</caption>\n",
    "    <tr>\n",
    "        <th>Address</th>\n",
    "        <th>Value</th>\n",
    "    </tr>\n",
    "    <tr>\n",
    "        <td>0</td>\n",
    "        <td>15</td>\n",
    "    </tr>\n",
    "</table>"
   ]
  },
  {
   "cell_type": "markdown",
   "metadata": {},
   "source": [
    "##### 5\n",
    "* evaluate the binding expression of the tmp0 identifier\n",
    "    * call double with r\n",
    "    * double the value in the address associated with r\n",
    "    * don't change r at all\n",
    "* extend the environment to map tmp0 to the returned value from the function call\n",
    "* evaluate the body expressiong of the let expression\n",
    "~~~\n",
    "EVALUATE:\n",
    "    let tmp1 = incr(r) in \n",
    "    let tmp2 = double(r) in DeRef(r) \n",
    "IN ENVIRONMENT:\n",
    "    {\n",
    "        tmp0 -> 30,\n",
    "        r -> Reference(0),\n",
    "        double -> Closure(x, AssignRef(x, DeRef(x) * 2), {incr -> Closure(x, AssignRef(x, DeRef(x) + 1), {})}),\n",
    "        incr -> Closure(x, AssignRef(x, DeRef(x) + 1), {})\n",
    "    }\n",
    "AND STORE:\n",
    "~~~\n",
    "<table>\n",
    "    <caption>Memory Size: 1</caption>\n",
    "    <tr>\n",
    "        <th>Address</th>\n",
    "        <th>Value</th>\n",
    "    </tr>\n",
    "    <tr>\n",
    "        <td>0</td>\n",
    "        <td>30</td>\n",
    "    </tr>\n",
    "</table>"
   ]
  },
  {
   "cell_type": "markdown",
   "metadata": {},
   "source": [
    "##### 6\n",
    "* evaluate the binding expression of the tmp1 identifier\n",
    "    * call incr with r\n",
    "    * increment the value in the address associated with r\n",
    "    * don't change r at all\n",
    "* extend the environment to map tmp1 to the returned value from the function call\n",
    "* evaluate the body expressiong of the let expression\n",
    "~~~\n",
    "EVALUATE:\n",
    "    let tmp2 = double(r) in DeRef(r) \n",
    "IN ENVIRONMENT:\n",
    "    {\n",
    "        tmp1 -> 31,\n",
    "        tmp0 -> 30,\n",
    "        r -> Reference(0),\n",
    "        double -> Closure(x, AssignRef(x, DeRef(x) * 2), {incr -> Closure(x, AssignRef(x, DeRef(x) + 1), {})}),\n",
    "        incr -> Closure(x, AssignRef(x, DeRef(x) + 1), {})\n",
    "    }\n",
    "AND STORE:\n",
    "~~~\n",
    "<table>\n",
    "    <caption>Memory Size: 1</caption>\n",
    "    <tr>\n",
    "        <th>Address</th>\n",
    "        <th>Value</th>\n",
    "    </tr>\n",
    "    <tr>\n",
    "        <td>0</td>\n",
    "        <td>31</td>\n",
    "    </tr>\n",
    "</table>"
   ]
  },
  {
   "cell_type": "markdown",
   "metadata": {},
   "source": [
    "##### 7\n",
    "* evaluate the binding expression of the tmp2 identifier\n",
    "    * call double with r\n",
    "    * double the value in the address associated with r\n",
    "    * don't change r at all\n",
    "* extend the environment to map tmp2 to the returned value from the function call\n",
    "* evaluate the body expressiong of the let expression\n",
    "~~~\n",
    "EVALUATE:\n",
    "    DeRef(r) \n",
    "IN ENVIRONMENT:\n",
    "    {\n",
    "        tmp2 -> 62\n",
    "        tmp1 -> 31,\n",
    "        tmp0 -> 30,\n",
    "        r -> Reference(0),\n",
    "        double -> Closure(x, AssignRef(x, DeRef(x) * 2), {incr -> Closure(x, AssignRef(x, DeRef(x) + 1), {})}),\n",
    "        incr -> Closure(x, AssignRef(x, DeRef(x) + 1), {})\n",
    "    }\n",
    "AND STORE:\n",
    "~~~\n",
    "<table>\n",
    "    <caption>Memory Size: 1</caption>\n",
    "    <tr>\n",
    "        <th>Address</th>\n",
    "        <th>Value</th>\n",
    "    </tr>\n",
    "    <tr>\n",
    "        <td>0</td>\n",
    "        <td>62</td>\n",
    "    </tr>\n",
    "</table>"
   ]
  },
  {
   "cell_type": "markdown",
   "metadata": {},
   "source": [
    "##### 8\n",
    "* Dereferenc r\n",
    "    * r represents address 3\n",
    "    * address 3 holds value 62\n",
    "* return 62\n",
    "~~~\n",
    "EVALUATE:\n",
    "    62 \n",
    "IN ENVIRONMENT:\n",
    "    {\n",
    "        tmp2 -> 62\n",
    "        tmp1 -> 31,\n",
    "        tmp0 -> 30,\n",
    "        r -> Reference(0),\n",
    "        double -> Closure(x, AssignRef(x, DeRef(x) * 2), {incr -> Closure(x, AssignRef(x, DeRef(x) + 1), {})}),\n",
    "        incr -> Closure(x, AssignRef(x, DeRef(x) + 1), {})\n",
    "    }\n",
    "AND STORE:\n",
    "~~~\n",
    "<table>\n",
    "    <caption>Memory Size: 1</caption>\n",
    "    <tr>\n",
    "        <th>Address</th>\n",
    "        <th>Value</th>\n",
    "    </tr>\n",
    "    <tr>\n",
    "        <td>0</td>\n",
    "        <td>62</td>\n",
    "    </tr>\n",
    "</table>"
   ]
  },
  {
   "cell_type": "markdown",
   "metadata": {},
   "source": [
    "##### 9\n",
    "* We've found a value!\n",
    "* the value of the below lettuce program is 62:\n",
    "\n",
    "~~~\n",
    "let incr = function (x) \n",
    "           AssignRef(x, DeRef(x) + 1)\n",
    "in \n",
    "let double = function (x) \n",
    "           AssignRef(x, DeRef(x) * 2)\n",
    "in \n",
    "let r = NewRef(15) in \n",
    "let tmp0 = double(r) in \n",
    "let tmp1 = incr(r) in \n",
    "let tmp2 = double(r) in\n",
    "  DeRef(r) \n",
    "~~~"
   ]
  },
  {
   "cell_type": "markdown",
   "metadata": {},
   "source": [
    "##### Qs????"
   ]
  },
  {
   "cell_type": "markdown",
   "metadata": {},
   "source": [
    "### Are we missing something?\n",
    "* We can create references to values\n",
    "* We can read from the reference\n",
    "* We can write to the reference\n",
    "* Is there anything else that we'd like?\n",
    "    * How would we add that in?\n",
    "    * How do other langauges handle such things?\n",
    "    * Are there security concerns?"
   ]
  },
  {
   "cell_type": "markdown",
   "metadata": {},
   "source": [
    "### Immutable Store\n",
    "* We implement a data type that we name 'ImmutableStore' to help us get the above behavior in the interpreter \n",
    "* The store starts and length 0\n",
    "    * well, it could start anywhere really, but 0 is convenient and logical\n",
    "* If we add a reference, then the first address will be 0 and the length becomes 1\n",
    "* ...then so on"
   ]
  },
  {
   "cell_type": "code",
   "execution_count": null,
   "metadata": {
    "collapsed": false
   },
   "outputs": [],
   "source": [
    "sealed trait Expr\n",
    "sealed trait Value extends Expr\n",
    "type Address = Int\n",
    "\n",
    "\n",
    "// nCells: the current size of the store\n",
    "// storeMap: mapping of addresses to values\n",
    "case class ImmutableStore(val nCells: Int, val storeMap: Map[Address, Value])\n",
    "\n",
    "\n",
    "// consider our AST:\n",
    "case class NewRef(e: Expr) extends Expr\n",
    "case class DeRef(lval: Expr) extends Expr\n",
    "case class AssignRef(lval: Expr, rval: Expr) extends Expr\n",
    "\n",
    "\n",
    "// Which AST node do we use this for? _______\n",
    "def createNewCell(s: ImmutableStore, v: Value): (ImmutableStore, Address) = {\n",
    "        /*- make a new cell -*/\n",
    "        val j = s.nCells\n",
    "        val nMap = s.storeMap + (j -> v)\n",
    "        val nStore = ImmutableStore(s.nCells + 1, nMap) // Make a new store with one more cell\n",
    "        (nStore, j)\n",
    "}    \n",
    "\n",
    "// Which AST node do we use this for? _______\n",
    "def lookupCellValue(s: ImmutableStore, j: Address): Value = {\n",
    "        if (s.storeMap.contains(j))b{\n",
    "            s.storeMap(j)\n",
    "        } else {\n",
    "            throw new IllegalArgumentException(s\"Illegal lookup of nonexistant location $j\")\n",
    "        }\n",
    "}\n",
    "\n",
    "// Which AST node do we use this for? _______\n",
    "def assignToCell(s: ImmutableStore, j: Address, v: Value): ImmutableStore = {\n",
    "        if (s.storeMap.contains(j)){\n",
    "            val nMap = s.storeMap + (j -> v) // Update the store map.\n",
    "            ImmutableStore(s.nCells, nMap)\n",
    "        } else {\n",
    "            throw new IllegalArgumentException(s\"Illegal assignment to nonexistent location $j\")\n",
    "        }\n",
    "    }"
   ]
  },
  {
   "cell_type": "markdown",
   "metadata": {},
   "source": [
    "## New Eval\n",
    "* Now that we have mutability represented with a store, eval changes\n",
    "* Now eval has 3 parameters\n",
    "    * e\n",
    "    * env\n",
    "    * m - store/memory/whatever you want to call it, I call it 'm' for memory because I am lazy\n",
    "* consider that every expression in Lettuce could alter memory in some way\n",
    "* b/c of this, now eval returns a tuple of type (Value, ImmutableStore)\n",
    "* we not only get the value of the expression, but also the memory state after the expression has been evaluated\n",
    "* Operational semantic\n",
    "    * (v, mp) = eval(e, env, m)\n",
    "* Inference rule\n",
    "    * $$\\begin{array} &\n",
    "(n1, mp) = eval(e1, env, m)\n",
    "\\hspace{2cm}\n",
    "(n2, mpp) = eval(e2, env, mp)\n",
    "\\hspace{2cm}\n",
    "vp = n1 * n2\n",
    "\\\\\n",
    "\\hline\n",
    "(vp, mpp) = eval(e1 * e2, env, m)\n",
    "\\end{array} (EvalMult)$$\n",
    "* Note\n",
    "    * m might equal mp\n",
    "    * mp might equal mpp\n",
    "    * but we still need to use the most current memory state when evaluating each expression"
   ]
  },
  {
   "cell_type": "code",
   "execution_count": null,
   "metadata": {
    "collapsed": true
   },
   "outputs": [],
   "source": [
    "sealed trait Expr\n",
    "sealed trait Value extends Expr\n",
    "type Address = Int\n",
    "type Number = Double\n",
    "type Identifier = String\n",
    "\n",
    "sealed trait Environment \n",
    "case object EmptyEnv extends Environment\n",
    "case class Extend(x: Identifier, v: Value, sigma: Environment) extends Environment\n",
    "case class ExtendRec(f: Identifier, x: Identifier, e: Expr, sigma: Environment ) extends Environment\n",
    "\n",
    "case class Mult(e1:Expr, e2:Expr) extends Expr\n",
    "\n",
    "case class Const(n1:Number) extends Value\n",
    "\n",
    "// nCells: the current size of the store\n",
    "// storeMap: mapping of addresses to values\n",
    "case class ImmutableStore(val nCells: Int, val storeMap: Map[Address, Value])\n",
    "\n",
    "\n",
    "def eval(e:Expr, env:Environment = EmptyEnv, m:ImmutableStore = ImmutableStore(0, Map())): (Value, ImmutableStore) = {\n",
    "    e match {\n",
    "        case v:Value => (v,m)\n",
    "        case Mult(e1,e2) => ???\n",
    "    }\n",
    "}\n",
    "\n",
    "assert(eval(Mult(Const(2.0), Const(3.0)))._1 == Const(6.0))"
   ]
  },
  {
   "cell_type": "markdown",
   "metadata": {},
   "source": [
    "### Teaser Continuation\n",
    "* There is a concept termed \"CPS\" or \"Continuation Passing Style\"\n",
    "* We are planning to discuss it next week\n",
    "* It helps turn things into their tail recursive versions of themselves\n",
    "* pass an argument to the function that says...\n",
    "* if I knew the result of this function call, this is what I would do next\n",
    "* Often times I call this parameter either\n",
    "    * 'sc' for success continuation\n",
    "    * OR\n",
    "    * 'andThen' because it says what to do next\n",
    "* I can write all this using CPS"
   ]
  },
  {
   "cell_type": "code",
   "execution_count": 18,
   "metadata": {
    "collapsed": false
   },
   "outputs": [
    {
     "name": "stderr",
     "output_type": "stream",
     "text": [
      "cmd18.sc:26: not found: value applyArith\n",
      "            case Mult(e1,e2) => applyArith(e1,e2){ _* _ }\n",
      "                                ^Compilation Failed"
     ]
    },
    {
     "ename": "",
     "evalue": "",
     "output_type": "error",
     "traceback": [
      "Compilation Failed"
     ]
    }
   ],
   "source": [
    "sealed trait Expr\n",
    "sealed trait Value extends Expr\n",
    "type Address = Int\n",
    "type Number = Double\n",
    "type Identifier = String\n",
    "\n",
    "sealed trait Environment \n",
    "case object EmptyEnv extends Environment\n",
    "case class Extend(x: Identifier, v: Value, sigma: Environment) extends Environment\n",
    "case class ExtendRec(f: Identifier, x: Identifier, e: Expr, sigma: Environment ) extends Environment\n",
    "\n",
    "case class Mult(e1:Expr, e2:Expr) extends Expr\n",
    "\n",
    "case class Const(n1:Number) extends Value\n",
    "\n",
    "// nCells: the current size of the store\n",
    "// storeMap: mapping of addresses to values\n",
    "case class ImmutableStore(val nCells: Int, val storeMap: Map[Address, Value])\n",
    "\n",
    "\n",
    "def eval(e:Expr):Value = {\n",
    "    \n",
    "    def e2v(e:Expr, env:Environment, m:ImmutableStore)(andThen:((Value, ImmutableStore)) => (Value, ImmutableStore)): (Value, ImmutableStore) = {\n",
    "        e match {\n",
    "            case v:Value => ???\n",
    "            case Mult(e1,e2) => applyArith(e1,e2){ _* _ }\n",
    "        }\n",
    "    }\n",
    "    \n",
    "    val (v, _) = e2v(e,EmptyEnv, ImmutableStore(0, Map()))(r => r)\n",
    "    v\n",
    "    \n",
    "}\n",
    "\n",
    "assert(eval(Mult(Const(2.0), Const(3.0))) == Const(6.0))\n",
    "assert(eval(Mult(Mult(Const(2.0), Const(3.0)),Const(5.0))) == Const(30.0))"
   ]
  },
  {
   "cell_type": "markdown",
   "metadata": {},
   "source": [
    "## Implicit References\n",
    "* We looked at explicit references for mutability in lettuce\n",
    "* it's fine...\n",
    "* what about implicit references?\n",
    "* Consider the following"
   ]
  },
  {
   "cell_type": "markdown",
   "metadata": {},
   "source": [
    "### Concrete Lettuce Grammar - implicit refs\n",
    "$$\\begin{array} &\n",
    "e & \\rightarrow & let\\ var\\ x\\ =\\ e\\ in\\ e \\\\\n",
    "& | & AssignVar(e,e) \\\\\n",
    "\\\\\n",
    "x & \\rightarrow & string \\\\\n",
    "\\\\\n",
    "\\end{array} $$"
   ]
  },
  {
   "cell_type": "markdown",
   "metadata": {},
   "source": [
    "#### Concrete Lettuce Examples"
   ]
  },
  {
   "cell_type": "markdown",
   "metadata": {},
   "source": [
    "##### Easy Example\n",
    "###### EXPLICIT REF\n",
    "~~~\n",
    "let x = NewRef(10) in \n",
    "let y = DeRef(x) + 1 in \n",
    "let z = AssignRef(x, y) in \n",
    "DeRef(x)\n",
    "~~~\n",
    "###### Implicit REF\n",
    "~~~\n",
    "let var x = 10 in\n",
    "let y = x + 1 in\n",
    "let z = AssignVar(x,y) in\n",
    "x\n",
    "~~~"
   ]
  },
  {
   "cell_type": "markdown",
   "metadata": {},
   "source": [
    "##### Hard Example\n",
    "###### EXPLICIT REF\n",
    "~~~\n",
    "let incr = function (x) AssignRef(x, DeRef(x) + 1)\n",
    "in \n",
    "let double = function (x) AssignRef(x, DeRef(x) * 2)\n",
    "in \n",
    "let r = NewRef(15) in \n",
    "let tmp0 = double(r) in \n",
    "let tmp1 = incr(r) in \n",
    "let tmp2 = double(r) in\n",
    "DeRef(r) \n",
    "~~~\n",
    "###### Implicit REF\n",
    "~~~\n",
    "let incr = function (x) AssignVar(x, x + 1)\n",
    "in \n",
    "let double = function (x) AssignVar(x, x * 2)\n",
    "in \n",
    "let var r = 15 in \n",
    "let tmp0 = double(r) in \n",
    "let tmp1 = incr(r) in \n",
    "let tmp2 = double(r) in\n",
    "r\n",
    "~~~"
   ]
  },
  {
   "cell_type": "markdown",
   "metadata": {},
   "source": [
    "#### Comments on Concrete Lettuce\n",
    "* you can decide for yourself which is a \"better\" syntax\n",
    "* It's an aesthetic choice\n",
    "* Doesn't make much of a differnce in the performance of the langauge\n",
    "* It does change how the programmer needs to think while programming\n",
    "* Implicit reference trade-off:\n",
    "    * less syntax to remember\n",
    "        * As a lettuce programmer I don't need to type DeRef and NewRef...\n",
    "    * less explicit syntax, ambiguous syntax\n",
    "        * 'x' might be a reference to something in our mememory/ImmutableStore\n",
    "        * 'x' might be something simple and exists in the environment"
   ]
  },
  {
   "cell_type": "markdown",
   "metadata": {},
   "source": [
    "### Generative Grammar for Lettuce AST - implicit refs\n",
    "$$\\begin{array} &\n",
    "Expr & \\rightarrow & LetVar(Identifier,Expr,Expr)\\\\\n",
    "& | & AssignVar(Expr,Expr)\\\\\n",
    "& | & Value \\\\\n",
    "\\\\\n",
    "Value & \\rightarrow & Reference(Address) \\\\\n",
    "\\\\\n",
    "Identifier & \\rightarrow & String \\\\\n",
    "\\\\\n",
    "Address & \\rightarrow & Int \\\\\n",
    "\\\\\n",
    "\\end{array} $$"
   ]
  },
  {
   "cell_type": "markdown",
   "metadata": {},
   "source": [
    "### Interpreter\n",
    "* basically the same, but now we have less nodes to look at\n",
    "* Ident(Identifier) because somewhat special\n",
    "    * it might be a simple value in the environment\n",
    "    * it might be a reference\n",
    "    * Our code will have to check and behave accordingly\n",
    "* Sriram's notes have the code available for your review\n",
    "* We'll discuss this further next week"
   ]
  },
  {
   "cell_type": "markdown",
   "metadata": {},
   "source": [
    "## Solutions"
   ]
  },
  {
   "cell_type": "markdown",
   "metadata": {},
   "source": [
    "### New Eval"
   ]
  },
  {
   "cell_type": "code",
   "execution_count": 5,
   "metadata": {
    "collapsed": false
   },
   "outputs": [
    {
     "name": "stdout",
     "output_type": "stream",
     "text": [
      "6.0\n"
     ]
    },
    {
     "data": {
      "text/plain": [
       "defined \u001b[32mtrait\u001b[39m \u001b[36mExpr\u001b[39m\n",
       "defined \u001b[32mtrait\u001b[39m \u001b[36mValue\u001b[39m\n",
       "defined \u001b[32mtype\u001b[39m \u001b[36mAddress\u001b[39m\n",
       "defined \u001b[32mtype\u001b[39m \u001b[36mNumber\u001b[39m\n",
       "defined \u001b[32mtype\u001b[39m \u001b[36mIdentifier\u001b[39m\n",
       "defined \u001b[32mtrait\u001b[39m \u001b[36mEnvironment\u001b[39m\n",
       "defined \u001b[32mobject\u001b[39m \u001b[36mEmptyEnv\u001b[39m\n",
       "defined \u001b[32mclass\u001b[39m \u001b[36mExtend\u001b[39m\n",
       "defined \u001b[32mclass\u001b[39m \u001b[36mExtendRec\u001b[39m\n",
       "defined \u001b[32mclass\u001b[39m \u001b[36mMult\u001b[39m\n",
       "defined \u001b[32mclass\u001b[39m \u001b[36mConst\u001b[39m\n",
       "defined \u001b[32mclass\u001b[39m \u001b[36mImmutableStore\u001b[39m\n",
       "defined \u001b[32mfunction\u001b[39m \u001b[36meval\u001b[39m"
      ]
     },
     "execution_count": 5,
     "metadata": {},
     "output_type": "execute_result"
    }
   ],
   "source": [
    "sealed trait Expr\n",
    "sealed trait Value extends Expr\n",
    "type Address = Int\n",
    "type Number = Double\n",
    "type Identifier = String\n",
    "\n",
    "sealed trait Environment \n",
    "case object EmptyEnv extends Environment\n",
    "case class Extend(x: Identifier, v: Value, sigma: Environment) extends Environment\n",
    "case class ExtendRec(f: Identifier, x: Identifier, e: Expr, sigma: Environment ) extends Environment\n",
    "\n",
    "case class Mult(e1:Expr, e2:Expr) extends Expr\n",
    "\n",
    "case class Const(n1:Number) extends Value\n",
    "\n",
    "// nCells: the current size of the store\n",
    "// storeMap: mapping of addresses to values\n",
    "case class ImmutableStore(val nCells: Int, val storeMap: Map[Address, Value])\n",
    "\n",
    "\n",
    "def eval(e:Expr, env:Environment = EmptyEnv, m:ImmutableStore = ImmutableStore(0, Map())): (Value, ImmutableStore) = {\n",
    "    e match {\n",
    "        case v:Value => (v,m)\n",
    "        case Mult(e1,e2) => {\n",
    "            val (v1, mp) = eval(e1,env,m)\n",
    "            val (v2, mpp) = eval(e2, env, mp)\n",
    "            (v1,v2) match {\n",
    "                case (Const(n1),Const(n2)) => {\n",
    "                    val np = n1 * n2\n",
    "                    val vp = Const(np)\n",
    "                    println(np)\n",
    "                    (vp, mpp)\n",
    "                }\n",
    "                case _ => ???\n",
    "            }\n",
    "        }\n",
    "    }\n",
    "}\n",
    "\n",
    "assert(eval(Mult(Const(2.0), Const(3.0)))._1 == Const(6.0))"
   ]
  },
  {
   "cell_type": "markdown",
   "metadata": {},
   "source": [
    "### New Eval with Continuations"
   ]
  },
  {
   "cell_type": "code",
   "execution_count": 18,
   "metadata": {
    "collapsed": false
   },
   "outputs": [
    {
     "data": {
      "text/plain": [
       "defined \u001b[32mtrait\u001b[39m \u001b[36mExpr\u001b[39m\n",
       "defined \u001b[32mtrait\u001b[39m \u001b[36mValue\u001b[39m\n",
       "defined \u001b[32mtype\u001b[39m \u001b[36mAddress\u001b[39m\n",
       "defined \u001b[32mtype\u001b[39m \u001b[36mNumber\u001b[39m\n",
       "defined \u001b[32mtype\u001b[39m \u001b[36mIdentifier\u001b[39m\n",
       "defined \u001b[32mtrait\u001b[39m \u001b[36mEnvironment\u001b[39m\n",
       "defined \u001b[32mobject\u001b[39m \u001b[36mEmptyEnv\u001b[39m\n",
       "defined \u001b[32mclass\u001b[39m \u001b[36mExtend\u001b[39m\n",
       "defined \u001b[32mclass\u001b[39m \u001b[36mExtendRec\u001b[39m\n",
       "defined \u001b[32mclass\u001b[39m \u001b[36mMult\u001b[39m\n",
       "defined \u001b[32mclass\u001b[39m \u001b[36mConst\u001b[39m\n",
       "defined \u001b[32mclass\u001b[39m \u001b[36mImmutableStore\u001b[39m\n",
       "defined \u001b[32mfunction\u001b[39m \u001b[36meval\u001b[39m"
      ]
     },
     "execution_count": 18,
     "metadata": {},
     "output_type": "execute_result"
    }
   ],
   "source": [
    "sealed trait Expr\n",
    "sealed trait Value extends Expr\n",
    "type Address = Int\n",
    "type Number = Double\n",
    "type Identifier = String\n",
    "\n",
    "sealed trait Environment \n",
    "case object EmptyEnv extends Environment\n",
    "case class Extend(x: Identifier, v: Value, sigma: Environment) extends Environment\n",
    "case class ExtendRec(f: Identifier, x: Identifier, e: Expr, sigma: Environment ) extends Environment\n",
    "\n",
    "case class Mult(e1:Expr, e2:Expr) extends Expr\n",
    "\n",
    "case class Const(n1:Number) extends Value\n",
    "\n",
    "// nCells: the current size of the store\n",
    "// storeMap: mapping of addresses to values\n",
    "case class ImmutableStore(val nCells: Int, val storeMap: Map[Address, Value])\n",
    "\n",
    "\n",
    "def eval(e:Expr):Value = {\n",
    "    \n",
    "    def e2v(e:Expr, env:Environment, m:ImmutableStore, andThen:((Value, ImmutableStore)) => (Value, ImmutableStore)): (Value, ImmutableStore) = {\n",
    "        \n",
    "        def applyArith(e1:Expr, e2:Expr)(f:(Number, Number) => Number):(Value,ImmutableStore) = {\n",
    "            e2v(e1,env,m, {\n",
    "                case (Const(n1),mp) => e2v(e2,env,mp, {\n",
    "                    case (Const(n2),mpp) => andThen((Const(f(n1,n2)), mpp))\n",
    "                    case _ => throw new IllegalArgumentException(s\"e2 not a number in $e\")\n",
    "                })\n",
    "                case _ => throw new IllegalArgumentException(s\"e1 not a number in $e\")\n",
    "            })\n",
    "        }\n",
    "        \n",
    "        e match {\n",
    "            case v:Value => andThen((v,m))\n",
    "            case Mult(e1,e2) => applyArith(e1,e2){_*_}\n",
    "        }\n",
    "        \n",
    "    }\n",
    "    \n",
    "    val (v, _) = e2v(e,EmptyEnv, ImmutableStore(0, Map()), r => r)\n",
    "    v\n",
    "}\n",
    "\n",
    "assert(eval(Mult(Const(2.0), Const(3.0))) == Const(6.0))\n",
    "assert(eval(Mult(Mult(Const(2.0), Const(3.0)),Const(5.0))) == Const(30.0))"
   ]
  },
  {
   "cell_type": "markdown",
   "metadata": {},
   "source": [
    "### Just enough eval for hard example"
   ]
  },
  {
   "cell_type": "code",
   "execution_count": 13,
   "metadata": {
    "collapsed": false
   },
   "outputs": [
    {
     "name": "stdout",
     "output_type": "stream",
     "text": [
      "\n",
      "\n",
      "\n",
      "\n",
      "PASSED ALL TESTS!!!!!\n",
      "\n",
      "\n",
      "\n"
     ]
    },
    {
     "data": {
      "text/plain": [
       "defined \u001b[32mtrait\u001b[39m \u001b[36mProgram\u001b[39m\n",
       "defined \u001b[32mtrait\u001b[39m \u001b[36mExpr\u001b[39m\n",
       "defined \u001b[32mtrait\u001b[39m \u001b[36mValue\u001b[39m\n",
       "defined \u001b[32mtype\u001b[39m \u001b[36mAddress\u001b[39m\n",
       "defined \u001b[32mtype\u001b[39m \u001b[36mIdentifier\u001b[39m\n",
       "defined \u001b[32mtype\u001b[39m \u001b[36mNumber\u001b[39m\n",
       "defined \u001b[32mtrait\u001b[39m \u001b[36mEnvironment\u001b[39m\n",
       "defined \u001b[32mobject\u001b[39m \u001b[36mEmptyEnv\u001b[39m\n",
       "defined \u001b[32mclass\u001b[39m \u001b[36mExtend\u001b[39m\n",
       "defined \u001b[32mclass\u001b[39m \u001b[36mExtendRec\u001b[39m\n",
       "defined \u001b[32mclass\u001b[39m \u001b[36mTopLevel\u001b[39m\n",
       "defined \u001b[32mclass\u001b[39m \u001b[36mMult\u001b[39m\n",
       "defined \u001b[32mclass\u001b[39m \u001b[36mAdd\u001b[39m\n",
       "defined \u001b[32mclass\u001b[39m \u001b[36mFunDef\u001b[39m\n",
       "defined \u001b[32mclass\u001b[39m \u001b[36mFunCall\u001b[39m\n",
       "defined \u001b[32mclass\u001b[39m \u001b[36mNewRef\u001b[39m\n",
       "defined \u001b[32mclass\u001b[39m \u001b[36mDeRef\u001b[39m\n",
       "defined \u001b[32mclass\u001b[39m \u001b[36mAssignRef\u001b[39m\n",
       "defined \u001b[32mclass\u001b[39m \u001b[36mLet\u001b[39m\n",
       "defined \u001b[32mclass\u001b[39m \u001b[36mIdent\u001b[39m\n",
       "defined \u001b[32mclass\u001b[39m \u001b[36mConst\u001b[39m\n",
       "defined \u001b[32mclass\u001b[39m \u001b[36mReference\u001b[39m\n",
       "defined \u001b[32mclass\u001b[39m \u001b[36mClosure\u001b[39m\n",
       "defined \u001b[32mfunction\u001b[39m \u001b[36mlookupEnv\u001b[39m\n",
       "defined \u001b[32mclass\u001b[39m \u001b[36mImmutableStore\u001b[39m\n",
       "defined \u001b[32mfunction\u001b[39m \u001b[36mcreateNewCell\u001b[39m\n",
       "defined \u001b[32mfunction\u001b[39m \u001b[36mlookupCellValue\u001b[39m\n",
       "defined \u001b[32mfunction\u001b[39m \u001b[36massignToCell\u001b[39m\n",
       "defined \u001b[32mfunction\u001b[39m \u001b[36mevalProgram\u001b[39m\n",
       "defined \u001b[32mfunction\u001b[39m \u001b[36meval\u001b[39m\n",
       "\u001b[36mp\u001b[39m: \u001b[32mTopLevel\u001b[39m = \u001b[33mTopLevel\u001b[39m(\n",
       "  \u001b[33mLet\u001b[39m(\n",
       "    \u001b[32m\"incr\"\u001b[39m,\n",
       "    \u001b[33mFunDef\u001b[39m(\u001b[32m\"x\"\u001b[39m, \u001b[33mAssignRef\u001b[39m(\u001b[33mIdent\u001b[39m(\u001b[32m\"x\"\u001b[39m), \u001b[33mAdd\u001b[39m(\u001b[33mDeRef\u001b[39m(\u001b[33mIdent\u001b[39m(\u001b[32m\"x\"\u001b[39m)), \u001b[33mConst\u001b[39m(\u001b[32m1.0\u001b[39m)))),\n",
       "    \u001b[33mLet\u001b[39m(\n",
       "      \u001b[32m\"double\"\u001b[39m,\n",
       "      \u001b[33mFunDef\u001b[39m(\u001b[32m\"x\"\u001b[39m, \u001b[33mAssignRef\u001b[39m(\u001b[33mIdent\u001b[39m(\u001b[32m\"x\"\u001b[39m), \u001b[33mMult\u001b[39m(\u001b[33mDeRef\u001b[39m(\u001b[33mIdent\u001b[39m(\u001b[32m\"x\"\u001b[39m)), \u001b[33mConst\u001b[39m(\u001b[32m2.0\u001b[39m)))),\n",
       "      \u001b[33mLet\u001b[39m(\n",
       "        \u001b[32m\"r\"\u001b[39m,\n",
       "        \u001b[33mNewRef\u001b[39m(\u001b[33mConst\u001b[39m(\u001b[32m15.0\u001b[39m)),\n",
       "        \u001b[33mLet\u001b[39m(\n",
       "          \u001b[32m\"tmp0\"\u001b[39m,\n",
       "          \u001b[33mFunCall\u001b[39m(\u001b[33mIdent\u001b[39m(\u001b[32m\"double\"\u001b[39m), \u001b[33mIdent\u001b[39m(\u001b[32m\"r\"\u001b[39m)),\n",
       "          \u001b[33mLet\u001b[39m(\n",
       "            \u001b[32m\"tmp1\"\u001b[39m,\n",
       "            \u001b[33mFunCall\u001b[39m(\u001b[33mIdent\u001b[39m(\u001b[32m\"incr\"\u001b[39m), \u001b[33mIdent\u001b[39m(\u001b[32m\"r\"\u001b[39m)),\n",
       "            \u001b[33mLet\u001b[39m(\u001b[32m\"tmp2\"\u001b[39m, \u001b[33mFunCall\u001b[39m(\u001b[33mIdent\u001b[39m(\u001b[32m\"double\"\u001b[39m), \u001b[33mIdent\u001b[39m(\u001b[32m\"r\"\u001b[39m)), \u001b[33mDeRef\u001b[39m(\u001b[33mIdent\u001b[39m(\u001b[32m\"r\"\u001b[39m)))\n",
       "          )\n",
       "        )\n",
       "      )\n",
       "    )\n",
       "  )\n",
       ")\n",
       "\u001b[36mv\u001b[39m: \u001b[32mConst\u001b[39m = \u001b[33mConst\u001b[39m(\u001b[32m62.0\u001b[39m)"
      ]
     },
     "execution_count": 13,
     "metadata": {},
     "output_type": "execute_result"
    }
   ],
   "source": [
    "/** AST **/\n",
    "sealed trait Program\n",
    "sealed trait Expr\n",
    "sealed trait Value extends Expr\n",
    "type Address = Int\n",
    "type Identifier = String\n",
    "type Number = Double\n",
    "\n",
    "sealed trait Environment \n",
    "case object EmptyEnv extends Environment\n",
    "case class Extend(x: Identifier, v: Value, sigma: Environment) extends Environment\n",
    "case class ExtendRec(f: Identifier, x: Identifier, e: Expr, sigma: Environment ) extends Environment\n",
    "\n",
    "case class TopLevel(e:Expr) extends Program\n",
    "\n",
    "case class Mult(e1:Expr, e2:Expr) extends Expr\n",
    "case class Add(e1:Expr, e2:Expr) extends Expr\n",
    "case class FunDef(x:Identifier, e:Expr) extends Expr\n",
    "case class FunCall(e1:Expr,e2:Expr) extends Expr\n",
    "case class NewRef(e: Expr) extends Expr\n",
    "case class DeRef(lval: Expr) extends Expr\n",
    "case class AssignRef(lval: Expr, rval: Expr) extends Expr\n",
    "case class Let(x:Identifier, e1:Expr, e2:Expr) extends Expr\n",
    "case class Ident(x:Identifier) extends Expr\n",
    "\n",
    "case class Const(n:Number) extends Value\n",
    "case class Reference(a:Address) extends Value\n",
    "case class Closure(x:Identifier, e:Expr, env:Environment) extends Value\n",
    "\n",
    "/*-- Operations on environments --*/\n",
    "\n",
    "def lookupEnv(env: Environment, x: Identifier): Value = env match {\n",
    "    case EmptyEnv => throw new IllegalArgumentException(s\"Error could not find string $x in environment\")\n",
    "    case Extend(y, v, _) if y == x => v\n",
    "    case Extend(_, _, envp) => lookupEnv(envp, x)\n",
    "    case ExtendRec(f, y, e, envp) => if (x == f) \n",
    "                                          Closure(y, e, env)\n",
    "                                   else\n",
    "                                          lookupEnv(envp, x)\n",
    "}\n",
    "\n",
    "/** ImmutableStore **/\n",
    "\n",
    "// nCells: the current size of the store\n",
    "// storeMap: mapping of addresses to values\n",
    "case class ImmutableStore(val nCells: Int, val storeMap: Map[Address, Value])\n",
    "\n",
    "\n",
    "/** Operation on ImmutableStore **/\n",
    "\n",
    "// Used in eval for ???\n",
    "def createNewCell(s: ImmutableStore, v: Value): (ImmutableStore, Address) = {\n",
    "        /*- make a new cell -*/\n",
    "        val j = s.nCells\n",
    "        val nMap = s.storeMap + (j -> v)\n",
    "        val nStore = ImmutableStore(s.nCells + 1, nMap) // Make a new store with one more cell\n",
    "        (nStore, j)\n",
    "}    \n",
    "\n",
    "// Used in eval for ???\n",
    "def lookupCellValue(s: ImmutableStore, j: Address): Value = {\n",
    "        if (s.storeMap.contains(j)){\n",
    "            s.storeMap(j)\n",
    "        } else {\n",
    "            throw new IllegalArgumentException(s\"Illegal lookup of nonexistant location $j\")\n",
    "        }\n",
    "}\n",
    "\n",
    "// Used in eval for ???\n",
    "def assignToCell(s: ImmutableStore, j: Address, v: Value): ImmutableStore = {\n",
    "        if (s.storeMap.contains(j)){\n",
    "            val nMap = s.storeMap + (j -> v) // Update the store map.\n",
    "            ImmutableStore(s.nCells, nMap)\n",
    "        } else {\n",
    "            throw new IllegalArgumentException(s\"Illegal assignment to nonexistent location $j\")\n",
    "        }\n",
    "    }\n",
    "\n",
    "/** Interpreter **/\n",
    "def evalProgram(p:Program):Value = {\n",
    "    val TopLevel(e) = p\n",
    "    // static checks...\n",
    "    val (v,_) = eval(e)\n",
    "    v\n",
    "}\n",
    "\n",
    "def eval(e:Expr, env:Environment = EmptyEnv, m:ImmutableStore = ImmutableStore(0, Map())): (Value, ImmutableStore) = {\n",
    "\n",
    "    def e2v(e:Expr):(Value, ImmutableStore) = eval(e, env, m) \n",
    "    \n",
    "    def applyBinArith(e1:Expr, e2:Expr)(f:(Number,Number) => Number):(Value, ImmutableStore) = {\n",
    "        e2v(e1) match {\n",
    "            case (Const(n1),mp) => eval(e2, env, mp) match {\n",
    "                case (Const(n2),mpp) => (Const(f(n1,n2)),mpp)\n",
    "                case _ => ???\n",
    "            }\n",
    "            case _ => ???\n",
    "        }\n",
    "    }\n",
    "        \n",
    "    e match {\n",
    "        case v:Value => (v, m)\n",
    "        case Add(e1,e2) => applyBinArith(e1,e2){_+_}\n",
    "        case Mult(e1,e2) => applyBinArith(e1,e2){_*_}\n",
    "        case FunDef(x,eBody) => (Closure(x,eBody,env), m)\n",
    "        case Let(x,e1,e2) => {\n",
    "            val (v2,mp) = e2v(e1)\n",
    "            eval(e2, Extend(x,v2,env), mp)\n",
    "        }\n",
    "        case Ident(x) => (lookupEnv(env, x), m)\n",
    "        case FunCall(e1,arg) => e2v(e1) match {\n",
    "            case (Closure(x,eBody,envOld),mp) => {\n",
    "                val (v2, mpp) = eval(arg,env,mp)\n",
    "                eval(eBody, Extend(x,v2,envOld), mpp)\n",
    "            }\n",
    "            case _ => ???\n",
    "        }\n",
    "        \n",
    "        // New stuff:\n",
    "        case NewRef(e) => {\n",
    "            val (v, mp) = e2v(e)\n",
    "            val (mpp, a) = createNewCell(mp, v)\n",
    "            (Reference(a), mpp)\n",
    "        }\n",
    "        case DeRef(e1) => e2v(e1) match {\n",
    "            case (Reference(a), mp) => (lookupCellValue(mp, a), mp)\n",
    "            case _ => ???\n",
    "        }\n",
    "        case AssignRef(e1, e2) => {\n",
    "            e2v(e1) match {\n",
    "                case (Reference(a),mp) => {\n",
    "                    val (v2, mpp) = eval(e2, env, mp)\n",
    "                    val mppp = assignToCell(mpp,a,v2)\n",
    "                    (v2, mppp)\n",
    "                }\n",
    "                case _ => ???\n",
    "            }\n",
    "        }\n",
    "    }\n",
    "}\n",
    "\n",
    "// let incr = function (x) \n",
    "//            AssignRef(x, DeRef(x) + 1)\n",
    "// in \n",
    "// let double = function (x) \n",
    "//            AssignRef(x, DeRef(x) * 2)\n",
    "// in \n",
    "// let r = NewRef(15) in \n",
    "// let tmp0 = double(r) in \n",
    "// let tmp1 = incr(r) in \n",
    "// let tmp2 = double(r) in\n",
    "//   DeRef(r)\n",
    "val p = TopLevel(Let(\n",
    "    \"incr\",\n",
    "    FunDef(\"x\",AssignRef(Ident(\"x\"), Add(DeRef(Ident(\"x\")),Const(1.0)))),\n",
    "    Let(\n",
    "        \"double\",\n",
    "        FunDef(\"x\",AssignRef(Ident(\"x\"), Mult(DeRef(Ident(\"x\")),Const(2.0)))),\n",
    "        Let(\n",
    "            \"r\",\n",
    "            NewRef(Const(15.0)),\n",
    "            Let(\n",
    "                \"tmp0\",\n",
    "                FunCall(Ident(\"double\"),Ident(\"r\")),\n",
    "                Let(\n",
    "                    \"tmp1\",\n",
    "                    FunCall(Ident(\"incr\"),Ident(\"r\")),\n",
    "                    Let(\n",
    "                        \"tmp2\",\n",
    "                        FunCall(Ident(\"double\"),Ident(\"r\")),\n",
    "                        DeRef(Ident(\"r\"))\n",
    "                    )\n",
    "                )\n",
    "            )\n",
    "        )\n",
    "    )\n",
    "))\n",
    "\n",
    "val v = Const(62.0)\n",
    "\n",
    "assert(evalProgram(p) == v)\n",
    "println(\"\\n\\n\\n\\nPASSED ALL TESTS!!!!!\\n\\n\\n\")"
   ]
  },
  {
   "cell_type": "markdown",
   "metadata": {},
   "source": [
    "## Overview\n",
    "* Explicit References\n",
    "* New Eval\n",
    "* Implicit References"
   ]
  },
  {
   "cell_type": "markdown",
   "metadata": {},
   "source": [
    "## TODOs:\n",
    "* Homework and Quiz are going live soon - they will be due next Friday\n",
    "* Project 2 will go live this weekend\n",
    "    * It will be due after Spring Break\n",
    "    * It will create Lettuce with Figs\n",
    "    * Or rather, a variant of lettuce that works with Figures\n",
    "        * lines\n",
    "        * circles\n",
    "        * squares\n",
    "        * and so on\n",
    "    * it can be used to create neat fractle patterns\n",
    "    * with a few extentions it could be used to create a tool similar to power point\n",
    "* AST visuallizer posted to Piazza\n",
    "    * a student in Fall'18 created a visualizer for ASTs\n",
    "    * highly recommend that you check this out\n",
    "* LGBTQ-friendly Employer & Student Mixer\n",
    "    * Tonight 5:30-7:00pm\n",
    "    * UMC Aspen Room\n",
    "    * Appetizers served.\n",
    "    * Free for all CU Boulder students! No need to sign up - just show up."
   ]
  }
 ],
 "metadata": {
  "anaconda-cloud": {},
  "kernelspec": {
   "display_name": "Scala",
   "language": "scala",
   "name": "scala"
  },
  "language_info": {
   "codemirror_mode": "text/x-scala",
   "file_extension": ".scala",
   "mimetype": "text/x-scala",
   "name": "scala",
   "nbconvert_exporter": "script",
   "version": "2.12.8"
  }
 },
 "nbformat": 4,
 "nbformat_minor": 1
}
