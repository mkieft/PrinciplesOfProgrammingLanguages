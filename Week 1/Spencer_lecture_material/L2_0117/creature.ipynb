{
 "cells": [
  {
   "cell_type": "code",
   "execution_count": 1,
   "metadata": {
    "collapsed": false
   },
   "outputs": [
    {
     "name": "stdout",
     "output_type": "stream",
     "text": [
      "EXPECTING: FALSE\n",
      "\n",
      "\n",
      "\n",
      "EXPECTING: TRUE\n"
     ]
    },
    {
     "data": {
      "text/plain": [
       "defined \u001b[32mclass\u001b[39m \u001b[36mCreature\u001b[39m\n",
       "defined \u001b[32mfunction\u001b[39m \u001b[36mtest\u001b[39m"
      ]
     },
     "execution_count": 1,
     "metadata": {},
     "output_type": "execute_result"
    }
   ],
   "source": [
    "class Creature(val name:String, val height:Int) {\n",
    "\n",
    "    // TODO: simplify isValid\n",
    "    def isValid():Boolean = {\n",
    "        val validName = this.name != \"\"\n",
    "        val validHeight = this.height > 0\n",
    "        if (validName && validHeight) {\n",
    "            true\n",
    "        } else {\n",
    "            false\n",
    "        }\n",
    "    }\n",
    "\n",
    "    // write a method to compare 'this' to another creature\n",
    "\n",
    "    // SPWI solution notes\n",
    "    // 0: not very scala code ; return if/else\n",
    "    // 1: looking more like scala\n",
    "    // 2: cleaner code\n",
    "    // 3: a one liner option\n",
    "    // 4: perhaps a better function name\n",
    "}\n",
    "\n",
    "\n",
    "def test() {\n",
    "    val fish1 = new Creature(\"KimChi\", 3)\n",
    "    val fish2 = new Creature(\"Chilly\", 3)\n",
    "    val fish3 = new Creature(\"KimChi\", 5)\n",
    "    val fish4 = new Creature(\"KimChi\", 3)\n",
    "    val dog = new Creature(\"Mochi\", 24)\n",
    "\n",
    "    println(\"EXPECTING: FALSE\")\n",
    "    // TODO: write print statements or assertions\n",
    "\n",
    "\n",
    "    println(\"\\n\\n\")\n",
    "    println(\"EXPECTING: TRUE\")\n",
    "    // TODO: write print statements or assertions\n",
    "\n",
    "}\n",
    "\n",
    "\n",
    "test()\n",
    "\n",
    "\n"
   ]
  }
 ],
 "metadata": {
  "anaconda-cloud": {},
  "kernelspec": {
   "display_name": "Scala",
   "language": "scala",
   "name": "scala"
  },
  "language_info": {
   "codemirror_mode": "text/x-scala",
   "file_extension": ".scala",
   "mimetype": "text/x-scala",
   "name": "scala",
   "nbconvert_exporter": "script",
   "version": "2.12.8"
  }
 },
 "nbformat": 4,
 "nbformat_minor": 1
}
