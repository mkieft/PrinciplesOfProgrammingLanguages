{
 "cells": [
  {
   "cell_type": "code",
   "execution_count": 1,
   "metadata": {
    "collapsed": false
   },
   "outputs": [
    {
     "name": "stdout",
     "output_type": "stream",
     "text": [
      "//||   _--_   _--_\n",
      "  ||  | () | | () |\n",
      "  ||   -__-   -__-\n"
     ]
    },
    {
     "data": {
      "text/plain": [
       "defined \u001b[32mfunction\u001b[39m \u001b[36mfactorial\u001b[39m\n",
       "defined \u001b[32mfunction\u001b[39m \u001b[36mtest\u001b[39m\n",
       "defined \u001b[32mfunction\u001b[39m \u001b[36mtestNegativeCases\u001b[39m\n",
       "defined \u001b[32mfunction\u001b[39m \u001b[36mtestInductiveCases\u001b[39m\n",
       "defined \u001b[32mfunction\u001b[39m \u001b[36mtestBaseCases\u001b[39m"
      ]
     },
     "execution_count": 1,
     "metadata": {},
     "output_type": "execute_result"
    }
   ],
   "source": [
    "/* solnTddFactorial.scala\n",
    "\tI left the TDD intermediate function implementations in with comments.\n",
    "\tDisclaimer: I didn't actually test my intermediate solutions\n",
    "\n",
    "\tall this does is call the test function\n",
    "\tThe test function doesn't return anything\n",
    "\tIf you pass all the tests, then you'll get 100.\n",
    "\tIf you fail a test, you'll see an error message. \n",
    " */\n",
    "\n",
    "\n",
    "// x! = x * (x-1)!\n",
    "def factorial(x:Int):Int = {\n",
    "\trequire(x >= 0)\n",
    "\tdef fact(x:Int): Int = x match {\n",
    "\t\tcase 0 | 1 => 1\n",
    "\t\tcase _ => x * fact(x - 1)\n",
    "\t}\n",
    "\tfact(x)\n",
    "}\n",
    "\n",
    "\n",
    "def test():Unit = {\n",
    "\t// I broke this into multiple functions, because why not...\n",
    "\ttestBaseCases()\n",
    "\ttestInductiveCases()\n",
    "\t// testNegativeCases()\n",
    "\tprintln(\"//||   _--_   _--_\")\n",
    "\tprintln(\"  ||  | () | | () |\")\n",
    "\tprintln(\"  ||   -__-   -__-\")\n",
    "\n",
    "}\n",
    "\n",
    "\n",
    "def testNegativeCases():Unit = {\n",
    "\t// DISCLAIMER: this is a pretty hacky test, but it works in a useful way\n",
    "\ttry {\n",
    "\t\tfactorial(-1)\n",
    "\t\tthrow new Error(\"Failed on -1\")\n",
    "\t} catch {\n",
    "\t\tcase error:java.lang.IllegalArgumentException => assert(1 == 1)\n",
    "\t\tcase e:Throwable => throw e\n",
    "\t}\n",
    "}\n",
    "\n",
    "\n",
    "def testInductiveCases():Unit = {\n",
    "\t// 1 * 2 => 2\n",
    "\tassert(2 == factorial(2))\n",
    "\t// 2 * 3 => 6\n",
    "\tassert(6 == factorial(3))\n",
    "\t// 6 * 4 => 24\n",
    "\tassert(24 == factorial(4))\n",
    "\t// TODO: write another test\n",
    "}\n",
    "\n",
    "def testBaseCases():Unit = {\n",
    "\tval fact0 = factorial(0)\n",
    "\t// For testing, I prefer to use assert statements over printing\n",
    "\t// but you do you\n",
    "\t// println(fact0)\n",
    "\tassert(fact0 == 1)\n",
    "\n",
    "\tval fact1 = factorial(1)\n",
    "\t// order in about '==' shouldn't matter\n",
    "\tassert(fact1 == 1)\n",
    "\t// bellow is faster in C, but idk about Scala\n",
    "\tassert(1 == fact1)\n",
    "}\n",
    "\n",
    "\n",
    "test()\n"
   ]
  }
 ],
 "metadata": {
  "kernelspec": {
   "display_name": "Scala",
   "language": "scala",
   "name": "scala"
  },
  "language_info": {
   "codemirror_mode": "text/x-scala",
   "file_extension": ".scala",
   "mimetype": "text/x-scala",
   "name": "scala",
   "nbconvert_exporter": "script",
   "version": "2.12.8"
  }
 },
 "nbformat": 4,
 "nbformat_minor": 1
}
