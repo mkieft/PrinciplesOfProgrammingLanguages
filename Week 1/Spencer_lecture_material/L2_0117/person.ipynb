{
 "cells": [
  {
   "cell_type": "code",
   "execution_count": 4,
   "metadata": {
    "collapsed": false
   },
   "outputs": [
    {
     "name": "stdout",
     "output_type": "stream",
     "text": [
      "Hello, I'm Spencer Wilson!\n",
      "yo\n"
     ]
    },
    {
     "data": {
      "text/plain": [
       "defined \u001b[32mclass\u001b[39m \u001b[36mPerson\u001b[39m\n",
       "\u001b[36mspwi\u001b[39m: \u001b[32mPerson\u001b[39m = ammonite.$sess.cmd3$Helper$Person@10bbe959\n",
       "\u001b[36mres3_3\u001b[39m: \u001b[32mBoolean\u001b[39m = true"
      ]
     },
     "execution_count": 4,
     "metadata": {},
     "output_type": "execute_result"
    }
   ],
   "source": [
    "class Person(val first:String, val last:String){\n",
    "\n",
    "    // TODO: implement isValid\n",
    "    def isValid():Boolean = {\n",
    "        println(\"yo\")\n",
    "        true\n",
    "    }\n",
    "    \n",
    "    def sayHi():Unit = {\n",
    "        println(s\"Hello, I'm $first $last!\")\n",
    "    }\n",
    "}\n",
    "\n",
    "val spwi = new Person(\"Spencer\", \"Wilson\")\n",
    "spwi.sayHi()\n",
    "// VV this also works but caused some problems that I don't want to deal with\n",
    "// spwi sayHi\n"
   ]
  },
  {
   "cell_type": "code",
   "execution_count": null,
   "metadata": {
    "collapsed": true
   },
   "outputs": [],
   "source": []
  }
 ],
 "metadata": {
  "anaconda-cloud": {},
  "kernelspec": {
   "display_name": "Scala",
   "language": "scala",
   "name": "scala"
  },
  "language_info": {
   "codemirror_mode": "text/x-scala",
   "file_extension": ".scala",
   "mimetype": "text/x-scala",
   "name": "scala",
   "nbconvert_exporter": "script",
   "version": "2.12.8"
  }
 },
 "nbformat": 4,
 "nbformat_minor": 1
}
