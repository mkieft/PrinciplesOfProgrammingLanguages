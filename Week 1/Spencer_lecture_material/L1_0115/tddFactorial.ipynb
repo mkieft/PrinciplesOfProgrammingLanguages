{
 "cells": [
  {
   "cell_type": "code",
   "execution_count": 1,
   "metadata": {
    "collapsed": false
   },
   "outputs": [
    {
     "ename": "",
     "evalue": "",
     "output_type": "error",
     "traceback": [
      "\u001b[31mjava.lang.AssertionError: assertion failed\u001b[39m\n  scala.Predef$.assert(\u001b[32mPredef.scala\u001b[39m:\u001b[32m208\u001b[39m)\n  ammonite.$sess.cmd0$Helper.testBaseCases(\u001b[32mcmd0.sc\u001b[39m:\u001b[32m39\u001b[39m)\n  ammonite.$sess.cmd0$Helper.test(\u001b[32mcmd0.sc\u001b[39m:\u001b[32m13\u001b[39m)\n  ammonite.$sess.cmd0$Helper.<init>(\u001b[32mcmd0.sc\u001b[39m:\u001b[32m49\u001b[39m)\n  ammonite.$sess.cmd0$.<init>(\u001b[32mcmd0.sc\u001b[39m:\u001b[32m7\u001b[39m)\n  ammonite.$sess.cmd0$.<clinit>(\u001b[32mcmd0.sc\u001b[39m:\u001b[32m-1\u001b[39m)"
     ]
    }
   ],
   "source": [
    "/* tddFactorial.scala\n",
    "\tcomplete the TODOs\n",
    "\tthen check out the solns that I've posted\n",
    "\tall this does is call the test function\n",
    "\tThe test function doesn't return anything\n",
    "\tIf you pass all the tests, then you'll get 100.\n",
    "\tIf you fail a test, you'll see an error message. \n",
    " */\n",
    "\n",
    "\n",
    "// x! = x * (x - 1)!\n",
    "def factorial(x:Int):Int = {\n",
    " // TODO: implement for base case\n",
    " // TODO: uncomment testInductiveCases()\n",
    " // TODO: implement for test inductive cases\n",
    " // TODO: write some negative number test cases\n",
    " // TODO: implement to match you negative number test cases\n",
    " 0\n",
    "}\n",
    "\n",
    "\n",
    "def test():Unit = {\n",
    "\t// I broke this into multiple functions, because why not...\n",
    "\ttestBaseCases()\n",
    "\t// TO\n",
    "\t// testInductiveCases()\n",
    "\t// TODO: test negative numbers\n",
    "\n",
    "\tprintln(\"//||   _--_   _--_\")\n",
    "\tprintln(\"  ||  | () | | () |\")\n",
    "\tprintln(\"  ||   -__-   -__-\")\n",
    "\n",
    "}\n",
    "\n",
    "def testInductiveCases():Unit = {\n",
    "\t// 1 * 2 => 2\n",
    "\tassert(2 == factorial(2))\n",
    "\t// 2 * 3 => 6\n",
    "\tassert(6 == factorial(3))\n",
    "\t// 6 * 4 => 24\n",
    "\tassert(24 == factorial(4))\n",
    "\t// TODO: write another test\n",
    "}\n",
    "\n",
    "def testBaseCases():Unit = {\n",
    "\tval fact0 = factorial(0)\n",
    "\t// For testing, I prefer to use assert statements over printing\n",
    "\t// but you do you\n",
    "\t// println(fact0)\n",
    "\tassert(fact0 == 1)\n",
    "\n",
    "\tval fact1 = factorial(1)\n",
    "\t// order in about '==' shouldn't matter\n",
    "\tassert(fact1 == 1)\n",
    "\t// bellow is faster in C, but idk about Scala\n",
    "\tassert(1 == fact1)\n",
    "}\n",
    "\n",
    "\n",
    "test()\n"
   ]
  }
 ],
 "metadata": {
  "anaconda-cloud": {},
  "kernelspec": {
   "display_name": "Scala",
   "language": "scala",
   "name": "scala"
  },
  "language_info": {
   "codemirror_mode": "text/x-scala",
   "file_extension": ".scala",
   "mimetype": "text/x-scala",
   "name": "scala",
   "nbconvert_exporter": "script",
   "version": "2.12.8"
  }
 },
 "nbformat": 4,
 "nbformat_minor": 1
}
