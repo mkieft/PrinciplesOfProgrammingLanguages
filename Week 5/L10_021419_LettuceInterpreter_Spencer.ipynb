{
 "cells": [
  {
   "cell_type": "markdown",
   "metadata": {},
   "source": [
    "# L10: Lettuce Operational Semantics\n",
    "* This document is subject to change before Lecture"
   ]
  },
  {
   "cell_type": "markdown",
   "metadata": {},
   "source": [
    "## Overview\n",
    "* The Lettuce AST\n",
    "* Well Formed vs ILL Formed expressions\n",
    "* Interpreter"
   ]
  },
  {
   "cell_type": "markdown",
   "metadata": {},
   "source": [
    "## The Lettuce AST"
   ]
  },
  {
   "cell_type": "markdown",
   "metadata": {},
   "source": [
    "### Grammar for lettuce\n",
    "We are now ready to define a grammar for Lettuce. Here is a part of the grammar\n",
    "\n",
    "$$\\begin{array}{rcll}\n",
    "\\mathbf{Expr} & \\rightarrow &  Value \\\\\n",
    " & | & Ident(\\mathbf{Identifier}) \\\\\n",
    " & | & Plus(\\mathbf{Expr}, \\mathbf{Expr}) \\\\\n",
    " & | & Let( \\mathbf{Identifier}, \\mathbf{Expr}, \\mathbf{Expr}) & \\text{let identifier = expr in expr} \\\\\n",
    "\\mathbf{Value} & \\rightarrow & Const(\\mathbf{Number}) \\\\\n",
    " & | & True \\\\\n",
    " & | & False \\\\\n",
    " & | & FunDef( \\mathbf{Identifier}, \\mathbf{Expr}) & \\text{function (identifier) expr } \\\\ \n",
    "\\mathbf{Identifier} & \\rightarrow & String \\\\\n",
    "\\mathbf{Number} & \\rightarrow & Double \\\\\n",
    "\\end{array}$$\n",
    "\n",
    "It helps to how programs written in the concrete syntax translate into abstract syntax using the grammar."
   ]
  },
  {
   "cell_type": "markdown",
   "metadata": {},
   "source": [
    "#### Example 1\n",
    "\n",
    "~~~\n",
    "let x = 10 + 15 in \n",
    "    x + 35\n",
    "~~~\n",
    "\n",
    "will translate to \n",
    "\n",
    "~~~\n",
    "Let(\"x\", Plus(Const(10), Const(15)), \n",
    "         Plus(Ident(\"x\"), Const(\"35\")\n",
    "    )\n",
    "~~~"
   ]
  },
  {
   "cell_type": "markdown",
   "metadata": {},
   "source": [
    "#### Example 2\n",
    "\n",
    "~~~\n",
    "let dog = 5 in \n",
    "    let cat = dog + dog in\n",
    "        cat + dog\n",
    "~~~\n",
    "\n",
    "will translate to \n",
    "\n",
    "~~~\n",
    "Let(\"dog\", Const(5),\n",
    "           Let(\"cat\", Plus(Ident(\"dog\"), Ident(\"dog\"),\n",
    "                      Plus(Ident(\"cat\"), Ident(\"dog\"))\n",
    "              )\n",
    "    )\n",
    "~~~"
   ]
  },
  {
   "cell_type": "markdown",
   "metadata": {},
   "source": [
    "           \n",
    "### Writing the AST\n",
    "Shall we write the AST Together?"
   ]
  },
  {
   "cell_type": "code",
   "execution_count": 2,
   "metadata": {
    "collapsed": false
   },
   "outputs": [
    {
     "data": {
      "text/plain": [
       "defined \u001b[32mtype\u001b[39m \u001b[36mIdentifier\u001b[39m\n",
       "defined \u001b[32mtype\u001b[39m \u001b[36mNumber\u001b[39m"
      ]
     },
     "execution_count": 2,
     "metadata": {},
     "output_type": "execute_result"
    }
   ],
   "source": [
    "// Expr\n",
    "// Ident(Identifier)\n",
    "// Plus(Expr, Expr)\n",
    "// Let(Identifier, Expr, Expr)\n",
    "\n",
    "// Value\n",
    "// Const(Number)\n",
    "// True\n",
    "// False\n",
    "\n",
    "// Identifier\n",
    "type Identifier = String\n",
    "\n",
    "// Number\n",
    "type Number = Double"
   ]
  },
  {
   "cell_type": "markdown",
   "metadata": {},
   "source": [
    "#### Examples for the AST\n",
    "Can we now write Scala code representing our ASTs from the above examples?"
   ]
  },
  {
   "cell_type": "markdown",
   "metadata": {},
   "source": [
    "#### Example 1\n",
    "\n",
    "~~~\n",
    "let x = 10 + 15 in \n",
    "    x + 35\n",
    "~~~\n",
    "\n",
    "will translate to \n",
    "\n",
    "~~~\n",
    "Let(\"x\", Plus(Const(10), Const(15)), \n",
    "         Plus(Ident(\"x\"), Const(\"35\")\n",
    "    )\n",
    "~~~"
   ]
  },
  {
   "cell_type": "code",
   "execution_count": null,
   "metadata": {
    "collapsed": true
   },
   "outputs": [],
   "source": [
    "val ex1:Expr = ???"
   ]
  },
  {
   "cell_type": "markdown",
   "metadata": {},
   "source": [
    "#### Example 2\n",
    "\n",
    "~~~\n",
    "let dog = 5 in \n",
    "    let cat = dog + dog in\n",
    "        cat + dog\n",
    "~~~\n",
    "\n",
    "will translate to \n",
    "\n",
    "~~~\n",
    "Let(\"dog\", Const(5),\n",
    "           Let(\"cat\", Plus(Ident(\"dog\"), Ident(\"dog\"),\n",
    "                      Plus(Ident(\"cat\"), Ident(\"dog\"))\n",
    "              )\n",
    "    )\n",
    "~~~"
   ]
  },
  {
   "cell_type": "code",
   "execution_count": null,
   "metadata": {
    "collapsed": true
   },
   "outputs": [],
   "source": [
    "val ex2:Expr = ???"
   ]
  },
  {
   "cell_type": "markdown",
   "metadata": {},
   "source": [
    "## Well Formed vs ILL Formed expressions\n",
    "__Fact:__ Abstract Syntax Trees are built from Context Free Grammars. Unfortunately, due to limitations arising\n",
    "from context freedom (i.e, LHS of each rule is just a single nonterminal), we cannot really enforce rules like \n",
    "- Variables should be declared before use.\n",
    "- Boolean expressions cannot be added to integer expressions\n",
    "- Function calls can only be made over proper functions.\n",
    "\n",
    "Programming languages generally have different enforcement mechanisms:\n",
    "- Check if a program is _well-formed_ while parsing the program.\n",
    "- Check types of expressions while parsing the program (static type checking).\n",
    "- Check types of expressions while interpreting/evaluating the program (runtime typechecking).\n",
    "- A combination of above.\n",
    "\n",
    "Consider our definition of the language lettuce.\n",
    "* What are some strange programs that can be built based on the grammar itself?\n",
    "* What are some valid ASTs that don’t make any sense in code?"
   ]
  },
  {
   "cell_type": "markdown",
   "metadata": {},
   "source": [
    "### Example 1\n",
    "* AST: TopLevel(Plus(True, Const(5)))\n",
    "* Concrete Lettuce Syntax: true + 5\n",
    "* What is the value of such an expression?\n",
    "* Is there a way to get a value?\n",
    "    * We could maybe do some type casting and get this to work\n",
    "    * We could just throw errors on this during evaluation (dynamic time)\n",
    "    * We could throw and error on this before ever evaluating it, perhaps by checking type safety (static time)\n",
    "* What does Scala do with this expression?"
   ]
  },
  {
   "cell_type": "code",
   "execution_count": 2,
   "metadata": {
    "collapsed": false
   },
   "outputs": [
    {
     "name": "stderr",
     "output_type": "stream",
     "text": [
      "cmd2.sc:1: type mismatch;\n",
      " found   : Double(5.0)\n",
      " required: String\n",
      "val res2 = true + 5.0\n",
      "                  ^Compilation Failed"
     ]
    },
    {
     "ename": "",
     "evalue": "",
     "output_type": "error",
     "traceback": [
      "Compilation Failed"
     ]
    }
   ],
   "source": [
    "true + 5.0"
   ]
  },
  {
   "cell_type": "markdown",
   "metadata": {},
   "source": [
    "* What does JavaScript do with this expression?"
   ]
  },
  {
   "cell_type": "markdown",
   "metadata": {},
   "source": [
    "### Example 2\n",
    "* AST: Ident(“dog”)\n",
    "* Concrete: dog\n",
    "* What would Scala do?"
   ]
  },
  {
   "cell_type": "code",
   "execution_count": 2,
   "metadata": {
    "collapsed": false
   },
   "outputs": [
    {
     "name": "stderr",
     "output_type": "stream",
     "text": [
      "cmd2.sc:1: not found: value dog\n",
      "val res2 = dog\n",
      "           ^Compilation Failed"
     ]
    },
    {
     "ename": "",
     "evalue": "",
     "output_type": "error",
     "traceback": [
      "Compilation Failed"
     ]
    }
   ],
   "source": [
    "dog"
   ]
  },
  {
   "cell_type": "markdown",
   "metadata": {},
   "source": [
    "* What does JavaScript do with this expression?"
   ]
  },
  {
   "cell_type": "markdown",
   "metadata": {},
   "source": [
    "### Additional Examples"
   ]
  },
  {
   "cell_type": "markdown",
   "metadata": {},
   "source": [
    "* AST: ???\n",
    "* Concrete: ???\n",
    "* What would Scala do?"
   ]
  },
  {
   "cell_type": "code",
   "execution_count": null,
   "metadata": {
    "collapsed": true
   },
   "outputs": [],
   "source": []
  },
  {
   "cell_type": "markdown",
   "metadata": {},
   "source": [
    "* AST: ???\n",
    "* Concrete: ???\n",
    "* What would Scala do?"
   ]
  },
  {
   "cell_type": "code",
   "execution_count": null,
   "metadata": {
    "collapsed": true
   },
   "outputs": [],
   "source": []
  },
  {
   "cell_type": "markdown",
   "metadata": {},
   "source": [
    "* AST: ???\n",
    "* Concrete: ???\n",
    "* What would Scala do?"
   ]
  },
  {
   "cell_type": "code",
   "execution_count": null,
   "metadata": {
    "collapsed": true
   },
   "outputs": [],
   "source": []
  },
  {
   "cell_type": "markdown",
   "metadata": {},
   "source": [
    "We will have our interpreter catch errors in Lettuce programs at compile time. \n",
    "- Variables should be declared before use (we can catch this using a special declare before use check).\n",
    "- Boolean expressions cannot be added to integer expressions (we will catch this when we do type checking).\n",
    "- Function calls can only be made over proper functions (we will catch this during type checking)."
   ]
  },
  {
   "cell_type": "markdown",
   "metadata": {},
   "source": [
    "### Review of Inference Rulse\n",
    "* Now for our inference rules. The inference rules leverage the operational semantic and some inductive logic to create strong documentation of the code.\n",
    "    * They are also helpful if you ever need to **PROVE** anything about your code\n",
    "        * not to worry, we aren’t proving anything in this course…\n",
    "* General pattern for Inference Rule: \n",
    "\n",
    "$$\\begin{array}{c}\n",
    "\\text{0-or-many premises that must hold true for the conclusion to hold true} \\\\\n",
    "\\hline\n",
    "\\text{conclusions that can be drawn} \\\\\n",
    "\\end{array}\\ \\text{(Option to Name the Rule)}$$\n",
    "\n",
    "* Or if you prefer\n",
    "\n",
    "$$\\begin{array}{c}\n",
    "\\text{P0}\n",
    "\\hspace{1cm}\n",
    "\\text{P1}\n",
    "\\hspace{1cm}\n",
    "\\text{...}\n",
    "\\hspace{1cm}\n",
    "\\text{Pn-1}\n",
    "\\hspace{1cm}\n",
    "\\text{Pn} \\\\\n",
    "\\hline\n",
    "\\text{C} \\\\\n",
    "\\end{array}\\ \\text{Name}$$"
   ]
  },
  {
   "cell_type": "markdown",
   "metadata": {},
   "source": [
    "### Lettuce inference rules for Well Formed programs\n",
    "Let us define inference rules that will help us check if an expression is checked before use. "
   ]
  },
  {
   "cell_type": "markdown",
   "metadata": {},
   "source": [
    "* Operational Semantic: $wellFormed(\\texttt{e}, S)$\n",
    "    * “e” is an expression\n",
    "    * “S” is the set of variables currently defined (the set of bound variables)\n",
    "    * This implies a Boolean return value\n",
    "    * If an expression is not explicitly well formed according to the inference rules then the expression is implicitly ill formed\n",
    "    * let’s code it (see below)"
   ]
  },
  {
   "cell_type": "markdown",
   "metadata": {},
   "source": [
    "* Inference Rules:\n",
    "    * $$ \\begin{array}{c}\n",
    "e \\in \\{True, False, Const(n)\\} \\\\\n",
    "\\hline\n",
    "wellFormed(\\texttt{e}, S) \\\\\n",
    "\\end{array} \\text{wellFormedValue} $$\n",
    "        * English : any expression e is well formed in set S, so long as the expression e is True, False, or a Const(n)\n",
    "        * Meaning: numbers and Booleans are well formed\n",
    "        * let’s code it (see below)\n",
    "    * $$\\begin{array}{c}\n",
    "wellFormed(\\texttt{e1}, S) \\;\\;\\; wellFormed(\\texttt{e2}, S \\cup \\{ x\\} ) \\\\\n",
    "\\hline\n",
    "wellFormed(\\texttt{Let(x, e1, e2)}, S) \\\\\n",
    "\\end{array} \\text{wellFormedLet} $$\n",
    "        * English: Any let over “x”, “e1”, “e2” in set “S” is only well formed if “e1” is wellfomed in set “S” and if “e2” is well formed in set “S” joined with “x”.\n",
    "        * Meaning: For a let binding to be valid, the binding expression “e1” must be valid. Also the body expression “e2” must be valid in the parent set “S” extended to include our variable “x”.\n",
    "        * let’s code it (see below)\n",
    "    * $$\\begin{array}{c}\n",
    "x \\in S \\\\\n",
    "\\hline\n",
    "wellFormed(\\texttt{Ident(x)}, S) \\\\\n",
    "\\end{array} \\text{wellFormedIdent} $$\n",
    "        * English: Any identifier “x” in set “S” is well formed iff “x” exists in “S”.\n",
    "        * Meaning: For an identifier to be well formed it must already exist in the set of bound variable\n",
    "        * let’s code it (see below)"
   ]
  },
  {
   "cell_type": "code",
   "execution_count": null,
   "metadata": {
    "collapsed": true
   },
   "outputs": [],
   "source": [
    "// wellFormed(e, S)\n",
    "// wellFormedValue\n",
    "// wellFormedLet\n",
    "// wellFormedIdent"
   ]
  },
  {
   "cell_type": "markdown",
   "metadata": {},
   "source": [
    "* Given the partial implementation of wellFormed that we have so far, what sort of expressions ought to be well formed?"
   ]
  },
  {
   "cell_type": "code",
   "execution_count": null,
   "metadata": {
    "collapsed": true
   },
   "outputs": [],
   "source": [
    "val e0: Expr = ???\n",
    "assert(wellFormed(e0))\n",
    "val e1: Expr = ???\n",
    "assert(wellFormed(e1))\n",
    "val e2: Expr = ???\n",
    "assert(wellFormed(e2))"
   ]
  },
  {
   "cell_type": "markdown",
   "metadata": {},
   "source": [
    "* Given the partial implementation of wellFormed that we have so far, what sort of expressions ought to be ill formed (not well formed)?"
   ]
  },
  {
   "cell_type": "code",
   "execution_count": 9,
   "metadata": {
    "collapsed": false
   },
   "outputs": [
    {
     "name": "stderr",
     "output_type": "stream",
     "text": [
      "cmd9.sc:4: not enough arguments for method wellFormed: (e: ammonite.$sess.cmd7.wrapper.cmd4.Expr, S: Set[String])Boolean.\n",
      "Unspecified value parameter S.\n",
      "val res9_2 = assert(wellFormed(e3))\n",
      "                              ^cmd9.sc:6: not enough arguments for method wellFormed: (e: ammonite.$sess.cmd7.wrapper.cmd4.Expr, S: Set[String])Boolean.\n",
      "Unspecified value parameter S.\n",
      "val res9_4 = assert(wellFormed(e4))\n",
      "                              ^cmd9.sc:8: not enough arguments for method wellFormed: (e: ammonite.$sess.cmd7.wrapper.cmd4.Expr, S: Set[String])Boolean.\n",
      "Unspecified value parameter S.\n",
      "val res9_6 = assert(wellFormed(e5))\n",
      "                              ^Compilation Failed"
     ]
    },
    {
     "ename": "",
     "evalue": "",
     "output_type": "error",
     "traceback": [
      "Compilation Failed"
     ]
    }
   ],
   "source": [
    "def illFormed(e:Expr):Boolean = !wellFormed(e, Set())\n",
    "\n",
    "val e3: Expr = ???\n",
    "assert(wellFormed(e3))\n",
    "val e4: Expr = ???\n",
    "assert(wellFormed(e4))\n",
    "val e5: Expr = ???\n",
    "assert(wellFormed(e5))"
   ]
  },
  {
   "cell_type": "markdown",
   "metadata": {},
   "source": [
    "* What is the wellFormed function? \n",
    "    * It is a static checker\n",
    "    * It checks at static time if the expression is valid\n",
    "        * static time == compilation time == before evaluation\n",
    "* See the course notes for more details"
   ]
  },
  {
   "cell_type": "markdown",
   "metadata": {},
   "source": [
    "## Evaluation of Lettuce\n",
    "* Let’s write an interpreter for the Lettuce language."
   ]
  },
  {
   "cell_type": "markdown",
   "metadata": {},
   "source": [
    "### Operational Semantic (Op. Sem.)\n",
    "* First we’ll define an operational sematic\n",
    "    * If I were a programming linguist I would write the op. sem.: $\\sigma \\models \\texttt{e} \\Downarrow v$\n",
    "        * this means: that an expression “e” is evaluated to a value “v” in 0-or-many steps inside a variable environment sigma ($\\sigma$)\n",
    "    * But I’m not a programming linguist and I don’t love this notation instead, Ill write: “v = eval(e, env)”\n",
    "    * What is env? Why is it useful? We didn’t need this for “Logic” or “Maths”, what could this be?\n",
    "    * “env” – often $\\sigma$ - is our variable environment. \n",
    "        * It maps Identifiers to values\n",
    "            * …for now. Later on we’ll allow it to map to locations, expressions and values.\n",
    "        * environments map variables “x” to values “v”\n",
    "* Let’s look at the function definition\n",
    "* Op. Sem.: v = eval(e, env)"
   ]
  },
  {
   "cell_type": "code",
   "execution_count": null,
   "metadata": {
    "collapsed": true
   },
   "outputs": [],
   "source": [
    "def eval0(e:Expr, env:Map[String, Value] = Map()): Value = ???"
   ]
  },
  {
   "cell_type": "markdown",
   "metadata": {},
   "source": [
    "* Observations\n",
    "    * e: Expr, nothing new there\n",
    "    * The type of env is “Map[String, Value]”\n",
    "        * Map[A,B] is a Scala type – often denoted Map[K,V] because key-value pairs...\n",
    "        * It’s an awful lot like python dictionary, or JavaScript Objects\n",
    "        * Generally I would call these a variant of an “associative array”\n",
    "    * The env has a default value \"Map()\" - the empty map\n",
    "    * the return type is a “Value” – a subset of all “Expr”\n",
    "        * Unlike Maths and Logic, Lettuce has many types in it’s value domain\n",
    "        * We can no longer return simple Scala types like “Int” and “Boolean”"
   ]
  },
  {
   "cell_type": "markdown",
   "metadata": {},
   "source": [
    "### Inference Rules\n",
    "* Now for some inference rules!\n",
    "* I’ll write a rule for True, and ask you to write your own for False and Const(n)"
   ]
  },
  {
   "cell_type": "markdown",
   "metadata": {},
   "source": [
    "* True\n",
    "    * $$\\begin{array} & \\\\\n",
    "\\hline\n",
    "True\\ =\\ eval(True,\\ env)\\\\\n",
    "\\end{array} \\text{evalTrue}$$"
   ]
  },
  {
   "cell_type": "markdown",
   "metadata": {},
   "source": [
    "* False\n",
    "    * $$\\begin{array} & \n",
    "??? \\\\\n",
    "\\hline\n",
    "??? \\\\\n",
    "\\end{array} \\text{evalFalse}$$"
   ]
  },
  {
   "cell_type": "markdown",
   "metadata": {},
   "source": [
    "* Const\n",
    "    * $$\\begin{array} & \n",
    "??? \\\\\n",
    "\\hline\n",
    "??? \\\\\n",
    "\\end{array} \\text{evalConst}$$"
   ]
  },
  {
   "cell_type": "markdown",
   "metadata": {},
   "source": [
    "* Let’s code it"
   ]
  },
  {
   "cell_type": "code",
   "execution_count": null,
   "metadata": {
    "collapsed": true
   },
   "outputs": [],
   "source": [
    "def eval1(e:Expr, env:Map[String, Value]): Value = e match {\n",
    "    // evalTrue\n",
    "    // evalFalse\n",
    "    // evalConst\n",
    "    case _ => ???\n",
    "}"
   ]
  },
  {
   "cell_type": "markdown",
   "metadata": {},
   "source": [
    "* Can we combine our 3 eval inference rules?\n",
    "    * $$\\begin{array} & \n",
    "??? \\\\\n",
    "\\hline\n",
    "??? \\\\\n",
    "\\end{array} \\text{evalValue}$$"
   ]
  },
  {
   "cell_type": "code",
   "execution_count": null,
   "metadata": {
    "collapsed": true
   },
   "outputs": [],
   "source": [
    "def eval2(e:Expr, env:Map[String, Value]): Value = e match {\n",
    "    // evalVal\n",
    "    case _ => ???\n",
    "}"
   ]
  },
  {
   "cell_type": "markdown",
   "metadata": {},
   "source": [
    "* Here is an inference rule for Ident\n",
    "    * $$\\begin{array} &\n",
    "v = env(x) \\\\\n",
    "\\hline\n",
    "v = eval(Ident(x), env)\\\\\n",
    "\\end{array} {evalIdent}$$"
   ]
  },
  {
   "cell_type": "code",
   "execution_count": null,
   "metadata": {
    "collapsed": true
   },
   "outputs": [],
   "source": [
    "def eval3(e:Expr, env:Map[String, Value]): Value = e match {\n",
    "    // evalVal\n",
    "    case _ => ???\n",
    "}"
   ]
  },
  {
   "cell_type": "markdown",
   "metadata": {},
   "source": [
    "* Now for some more interesting stuff. Let us consider the let bindings – we’ll start with a stupid statement\n",
    "    * Expr: Let(“x”, True, False)\n",
    "        * Value: False\n",
    "        * Concrete Lettuce: let x = true in false\n",
    "        * Lettuce value: false\n",
    "        * Steps: \n",
    "            * eval(let x = true in false, {}) -->\n",
    "            * eval(false, { “x” -> true } ) --> \n",
    "            * true\n",
    "    * Expr: Let(“x”, True, Ident(“x”))\n",
    "        * Value: True\n",
    "        * Concrete Lettuce: let x = true in x\n",
    "        * Lettuce value: true\n",
    "        * Steps: \n",
    "            * eval(let x = true in x, {}) -->\n",
    "            * eval(x, { “x” -> true } ) --> \n",
    "            * eval(true, { “x” -> true })--> \n",
    "            * true"
   ]
  },
  {
   "cell_type": "markdown",
   "metadata": {},
   "source": [
    "* Are we ready to write an inference rule of let bindings using our operational sematic?\n",
    "    * Or at least some part of it?\n",
    "    * Let’s use the chalkboards…\n",
    "    * op. sem.: v = eval(e, env)\n",
    "    * $$ \\begin{array} &\n",
    "??? \\\\\n",
    "\\hline\n",
    "??? \\\\\n",
    "\\end{array} \\text{evalLet} $$"
   ]
  },
  {
   "cell_type": "markdown",
   "metadata": {},
   "source": [
    "## Overview\n",
    "* The Lettuce AST\n",
    "* Well Formed vs ILL Formed expressions\n",
    "* Interpreter"
   ]
  },
  {
   "cell_type": "markdown",
   "metadata": {},
   "source": [
    "## TODOs\n",
    "* Homework and Quiz 4 are due Friday\n",
    "* Project 1 is due March 1"
   ]
  }
 ],
 "metadata": {
  "anaconda-cloud": {},
  "kernelspec": {
   "display_name": "Scala",
   "language": "scala",
   "name": "scala"
  },
  "language_info": {
   "codemirror_mode": "text/x-scala",
   "file_extension": ".scala",
   "mimetype": "text/x-scala",
   "name": "scala",
   "nbconvert_exporter": "script",
   "version": "2.12.8"
  }
 },
 "nbformat": 4,
 "nbformat_minor": 1
}
