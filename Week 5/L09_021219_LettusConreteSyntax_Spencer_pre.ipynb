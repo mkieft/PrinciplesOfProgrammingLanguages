{
 "cells": [
  {
   "cell_type": "markdown",
   "metadata": {},
   "source": [
    "# An introduction to Lettuce concrete syntax\n",
    "* This document is subject to change before Tuesday’s lecture\n",
    "* SPWI, add scala code to all examples…"
   ]
  },
  {
   "cell_type": "markdown",
   "metadata": {},
   "source": [
    "## Overview\n",
    "* Lettuce is just math\n",
    "* Lettuce will have let bindings\n",
    "* Lettuce will have functions (and function calls)\n",
    "* Scoping Rules\n",
    "* Lettuce will have many other things"
   ]
  },
  {
   "cell_type": "markdown",
   "metadata": {},
   "source": [
    "## Terminology\n",
    "* **immutable variable** : ???\n",
    "* **binding expression**: ???\n",
    "* **body expression**: ???\n",
    "* **scope of an identifier**: ???\n",
    "* **closure**: ???\n",
    "* **currying**: ???\n",
    "* **scoping rules**: ??\n",
    "    * **static scoping**: ???\n",
    "    * **dynamic scoping**: ???\n",
    "* Extras\n",
    "    * **shadowing**: ???\n",
    "    * **eager evaluation**: ???\n",
    "    * **lazy evaluation**: ???"
   ]
  },
  {
   "cell_type": "markdown",
   "metadata": {},
   "source": [
    "## Lettuce is just math\n",
    "First let us define the lettuce language as a very simple language over mathematics. Here is a grammar for this language in **concrete syntax**\n",
    "<br />\n",
    "$$\\begin{array}\n",
    "\\mathbf{e} & \\rightarrow & \\mathbf{e} + \\mathbf{e} \\\\\n",
    "& | & \\mathbf{e} - \\mathbf{e} \\\\\n",
    "& | & \\mathbf{e} * \\mathbf{e} \\\\\n",
    "& | & \\mathbf{e} / \\mathbf{e} \\\\\n",
    "& | & (\\mathbf{e}) \\\\\n",
    "& | & \\mathbf{v} \\\\\n",
    "\\mathbf{v} & \\rightarrow & Double \\\\\n",
    "\\end{array}$$\n",
    "<br />\n",
    "* Here are some expressions allowed in this definition of Lettuce\n",
    "    * 1.0 + 2.0 * 3.0 \n",
    "    * (1.0 + 2.0) * 3.0\n",
    "* Each expression in Lettuce has exactly one value\n",
    "    * 1.0 + 2.0 \\* 3.0 **evaluates to** 7.0\n",
    "    * (1.0 + 2.0) \\* 3.0 **evaluates to** 9.0\n",
    "* This a fine language, it does everything that a five-function calculator can do.\n",
    "* But I want Lettuce to be more powerful than this…"
   ]
  },
  {
   "cell_type": "markdown",
   "metadata": {},
   "source": [
    "## Lettuce will have let bindings\n",
    "* Let’s add **immutable variables** to the Lettuce language\n",
    "* We would need to think of a syntax for this\n",
    "    * Scala example"
   ]
  },
  {
   "cell_type": "code",
   "execution_count": 3,
   "metadata": {
    "collapsed": false
   },
   "outputs": [
    {
     "data": {
      "text/plain": [
       "\u001b[36mx\u001b[39m: \u001b[32mInt\u001b[39m = \u001b[32m2\u001b[39m\n",
       "\u001b[36mres2_1\u001b[39m: \u001b[32mInt\u001b[39m = \u001b[32m4\u001b[39m"
      ]
     },
     "execution_count": 3,
     "metadata": {},
     "output_type": "execute_result"
    }
   ],
   "source": [
    "val x = 2\n",
    "x + x"
   ]
  },
  {
   "cell_type": "markdown",
   "metadata": {},
   "source": [
    "* There are many options, but the powers that be have already made one for Lettuce for us\n",
    "* Syntax:\n",
    "    * let x = e in e\n",
    "* Observations:\n",
    "    * The things that are permanent are\n",
    "        * let\n",
    "        * =\n",
    "        * in\n",
    "    * The things that can change are: x and e\n",
    "    * We can have any identifier for **x**\n",
    "    * We can use any valid expression for each **e** observed\n",
    "* Evaluation:\n",
    "    * This will evaluate the first e, our **binding expression** to some value **v**\n",
    "    * This will then bind **v** to **x**\n",
    "    * This will then evaluate the second e, our **body expression* to some value **v**\n",
    "    * This will return that second value\n",
    "* Alternate Syntax representation\n",
    "    * $let \\hspace{5mm} \\mathbf{x} \\hspace{5mm} = \\hspace{5mm} \\mathbf{e}_{binding} \\hspace{5mm} in \\hspace{5mm} \\mathbf{e}_{body} $\n",
    "* We’ll also want to allow for some scoping syntax to allow us to more easily observe various scopes. We’ll use [e]."
   ]
  },
  {
   "cell_type": "markdown",
   "metadata": {},
   "source": [
    "* Here is our new grammar\n",
    "    * $$\\begin{array}\n",
    "\\mathbf{e} & \\rightarrow &  let \\hspace{5mm} \\mathbf{x} \\hspace{5mm} = \\hspace{5mm} \\mathbf{e}_{binding} \\hspace{5mm} in \\hspace{5mm} \\mathbf{e}_{body}  \\\\\n",
    "& | & [\\mathbf{e}] \\\\\n",
    "& | & \\mathbf{e} + \\mathbf{e} \\\\\n",
    "& | & \\mathbf{e} - \\mathbf{e} \\\\\n",
    "& | & \\mathbf{e} * \\mathbf{e} \\\\\n",
    "& | & \\mathbf{e} / \\mathbf{e} \\\\\n",
    "& | & (\\mathbf{e}) \\\\\n",
    "& | & \\mathbf{v} \\\\\n",
    "\\mathbf{x} & \\rightarrow & Identifier \\\\\n",
    "\\mathbf{v} & \\rightarrow & Double \\\\\n",
    "\\end{array}$$\n",
    "    * **NOTE: this subscripting is not allowed in our grammars this semester. Above is not a valid grammar. If you are asked on a homework to write a grammar, you should not use these subscripts in your submission. I just find these useful for getting my point across**\n",
    "\n",
    "* Let’s look through some expression that now exist in Lettuce, we’ll start with some easy ones. Then move into the more complicated/strange ones."
   ]
  },
  {
   "cell_type": "markdown",
   "metadata": {},
   "source": [
    "### Easy examples"
   ]
  },
  {
   "cell_type": "markdown",
   "metadata": {},
   "source": [
    "* ex 1:\n",
    "    * let x = 1.0 in x + 2.0\n",
    "    * This must have a value.\n",
    "    * What do we assume it’s value is?\n",
    "    * let x = 1.0  in x + 2.0  **evaluates to** `???`\n",
    "    * Here is how you would write a program like this in Scala:"
   ]
  },
  {
   "cell_type": "code",
   "execution_count": 6,
   "metadata": {
    "collapsed": false
   },
   "outputs": [
    {
     "data": {
      "text/plain": [
       "\u001b[36mx\u001b[39m: \u001b[32mDouble\u001b[39m = \u001b[32m1.0\u001b[39m\n",
       "\u001b[36mres5_1\u001b[39m: \u001b[32mDouble\u001b[39m = \u001b[32m3.0\u001b[39m"
      ]
     },
     "execution_count": 6,
     "metadata": {},
     "output_type": "execute_result"
    }
   ],
   "source": [
    "val x = 1.0\n",
    "x + 2.0"
   ]
  },
  {
   "cell_type": "markdown",
   "metadata": {},
   "source": [
    "* ex 2:\n",
    "    * let x = 5.0  * 2.0  in x + x\n",
    "    * let x = 5.0  * 2.0  in x + x **evaluates to** `???`\n",
    "    * Why?\n",
    "        * ???\n",
    "    * Here is how you would write a program like this in Scala:"
   ]
  },
  {
   "cell_type": "code",
   "execution_count": 7,
   "metadata": {
    "collapsed": false
   },
   "outputs": [
    {
     "data": {
      "text/plain": [
       "\u001b[36mx\u001b[39m: \u001b[32mDouble\u001b[39m = \u001b[32m10.0\u001b[39m\n",
       "\u001b[36mres6_1\u001b[39m: \u001b[32mDouble\u001b[39m = \u001b[32m20.0\u001b[39m"
      ]
     },
     "execution_count": 7,
     "metadata": {},
     "output_type": "execute_result"
    }
   ],
   "source": [
    "val x = 5.0 * 2.0\n",
    "x + x"
   ]
  },
  {
   "cell_type": "markdown",
   "metadata": {},
   "source": [
    "### Slightly more complex examples"
   ]
  },
  {
   "cell_type": "markdown",
   "metadata": {},
   "source": [
    "* ex 3:\n",
    "    * let x = 5.0  * 2.0  in let y = 20.0  in y + x\n",
    "    * alternate representations:\n",
    "        * let x = [ 5.0  * 2.0  ] in [ let y = 20.0  in y + x ]\n",
    "        * $$\\begin{array}\n",
    "\\text{let\\ x\\ =\\ 5.0 \\ *\\ 2.0 \\ in} \\\\\n",
    "\\hspace{1cm} \\text{let y = 20.0  in} \\\\\n",
    "\\hspace{1cm} \\hspace{1cm} \\text{y + x} \\\\\n",
    "\\end{array}$$\n",
    "    * Observations:\n",
    "        * the **binding expression** of \"x\" is \"5.0  * 2.0 \"\n",
    "        * the **body expression** of \"x\" is \"let y = 20.0  in y + x\"\n",
    "        * the **binding expression** of \"y\" is \"20.0 \"\n",
    "        * the **body expression** of \"y\" is \"y + x\"\n",
    "    * let x = 5.0  * 2.0  in let y = 20.0  in y + x **evaluates to** `???`\n",
    "    * Why?\n",
    "        * ???\n",
    "    * Here is how you would write a program like this in Scala:"
   ]
  },
  {
   "cell_type": "code",
   "execution_count": 8,
   "metadata": {
    "collapsed": false
   },
   "outputs": [
    {
     "data": {
      "text/plain": [
       "\u001b[36mx\u001b[39m: \u001b[32mDouble\u001b[39m = \u001b[32m10.0\u001b[39m\n",
       "\u001b[36my\u001b[39m: \u001b[32mDouble\u001b[39m = \u001b[32m20.0\u001b[39m\n",
       "\u001b[36mres7_2\u001b[39m: \u001b[32mDouble\u001b[39m = \u001b[32m30.0\u001b[39m"
      ]
     },
     "execution_count": 8,
     "metadata": {},
     "output_type": "execute_result"
    }
   ],
   "source": [
    "val x = 5.0 * 2.0\n",
    "val y = 20.0\n",
    "y + x"
   ]
  },
  {
   "cell_type": "markdown",
   "metadata": {},
   "source": [
    "* ex 4:\n",
    "    * let x = let y = 5.0  in y + 2.0  in 20.0  + x\n",
    "    * alternate representations:\n",
    "        * let x = [ let y = 5.0  in y + 2.0  ] in [ 20.0  + x ]\n",
    "        * $$\\begin{array}\n",
    "\\text{let\\ x\\ =} \\\\\n",
    "\\hspace{1cm} \\text{let y = 5.0  in y + 2.0 } \\\\\n",
    "\\hspace{1cm} \\text{in 20.0  + x} \\\\\n",
    "\\end{array}$$\n",
    "    * Questions\n",
    "        * What is the **binding expression** of \"x\": ???\n",
    "        * What is the **body expression** of \"x\": ???\n",
    "        * What is the **binding expression** of \"y\": ???\n",
    "        * What is the **body expression** of \"y\": ???\n",
    "        * What is the value of \"let x = [ let y = 5.0  in y + 2.0  ] in [ 20.0  + x ]\": ???\n",
    "    * Here is how you would write a program like this in Scala:"
   ]
  },
  {
   "cell_type": "code",
   "execution_count": 9,
   "metadata": {
    "collapsed": false
   },
   "outputs": [
    {
     "data": {
      "text/plain": [
       "\u001b[36mx\u001b[39m: \u001b[32mDouble\u001b[39m = \u001b[32m7.0\u001b[39m\n",
       "\u001b[36mres8_1\u001b[39m: \u001b[32mDouble\u001b[39m = \u001b[32m27.0\u001b[39m"
      ]
     },
     "execution_count": 9,
     "metadata": {},
     "output_type": "execute_result"
    }
   ],
   "source": [
    "val x = {\n",
    "    val y = 5.0\n",
    "    y + 2.0\n",
    "}\n",
    "20.0 + x"
   ]
  },
  {
   "cell_type": "markdown",
   "metadata": {},
   "source": [
    "### Some more challenging examples\n",
    "* We've seen examples that have a somewhat obvious answer.\n",
    "* The answers are somewhat \"obvious\" due to your intuition on programming.\n",
    "* Which comes from your previous experience in other languages.\n",
    "* Now let’s look at some more complex examples that involved **shadowing** of our variables"
   ]
  },
  {
   "cell_type": "markdown",
   "metadata": {},
   "source": [
    "* ex 5:\n",
    "    * $$\\begin{array}\n",
    "& let\\ y\\ =\\ 2.0\\ in \\\\\n",
    "\\hspace{1cm} let\\ y\\ =\\ 3.0\\ +\\ y\\ in \\\\\n",
    "\\hspace{2cm} let\\ y\\ =\\ y\\ *\\ y\\ in \\\\\n",
    "\\hspace{3cm} y\\ +\\ y \\\\\n",
    "\\end{array}$$\n",
    "    * What is the value of our expression? Point at a “y” use site, can you identify the “y”s definition site?\n",
    "        * The use sites are in $\\color{blue}{blue}$ below $$\n",
    "\\begin{array}\n",
    "&\n",
    "let\\ y\\ =\\ 2.0\\ in \\\\\n",
    "\\hspace{1cm} let\\ y\\ =\\ 3.0\\ +\\ \\color{blue}y\\ in \\\\\n",
    "\\hspace{2cm} let\\ y\\ =\\ \\color{blue}y\\ *\\ \\color{blue}y\\ in \\\\\n",
    "\\hspace{3cm} \\color{blue}y\\ +\\ \\color{blue}y \\\\\n",
    "\\end{array}\n",
    "$$\n",
    "        * Here is my solution$$\n",
    "\\begin{array}\n",
    "&\n",
    "let\\ \\color{blue}y\\ =\\ 2.0\\ in \\\\\n",
    "\\hspace{1cm} let\\ \\color{red}y\\ =\\ 3.0\\ +\\ \\color{blue}y\\ in \\\\\n",
    "\\hspace{2cm} let\\ \\color{green}y\\ =\\ \\color{red}y\\ *\\ \\color{red}y\\ in \\\\\n",
    "\\hspace{3cm} \\color{green}y\\ +\\ \\color{green}y \\\\\n",
    "\\end{array}\n",
    "$$\n",
    "    * The value is 50"
   ]
  },
  {
   "cell_type": "markdown",
   "metadata": {},
   "source": [
    "* For the life of me I can't figure out how to replicate this in scala.\n",
    "* but note that this is a silly expression. Perhaps, a better expression is:\n",
    "    * $$\\begin{array}\n",
    "& let\\ y0\\ =\\ 2.0\\ in \\\\\n",
    "\\hspace{1cm} let\\ y1\\ =\\ 3.0\\ +\\ y0\\ in \\\\\n",
    "\\hspace{2cm} let\\ y2\\ =\\ y1\\ *\\ y1\\ in \\\\\n",
    "\\hspace{3cm} y2\\ +\\ y2 \\\\\n",
    "\\end{array}$$\n",
    "* That can go to Scala quite easily"
   ]
  },
  {
   "cell_type": "code",
   "execution_count": 11,
   "metadata": {
    "collapsed": false
   },
   "outputs": [
    {
     "data": {
      "text/plain": [
       "\u001b[36my0\u001b[39m: \u001b[32mDouble\u001b[39m = \u001b[32m2.0\u001b[39m\n",
       "\u001b[36my1\u001b[39m: \u001b[32mDouble\u001b[39m = \u001b[32m5.0\u001b[39m\n",
       "\u001b[36my2\u001b[39m: \u001b[32mDouble\u001b[39m = \u001b[32m25.0\u001b[39m\n",
       "\u001b[36mres10_3\u001b[39m: \u001b[32mDouble\u001b[39m = \u001b[32m50.0\u001b[39m"
      ]
     },
     "execution_count": 11,
     "metadata": {},
     "output_type": "execute_result"
    }
   ],
   "source": [
    "val y0 = 2.0\n",
    "val y1 = 3.0 + y0\n",
    "val y2 = y1 * y1\n",
    "y2 + y2"
   ]
  },
  {
   "cell_type": "markdown",
   "metadata": {},
   "source": [
    "### Some troublesome examples"
   ]
  },
  {
   "cell_type": "markdown",
   "metadata": {},
   "source": [
    "* ex 6:\n",
    "    * let x = x + 1.0  in x + 2.0 \n",
    "    * What is the value of \"let x = x + 1.0 in x + 2.0\": ???\n",
    "        * The **binding expression** of \"x\": \"x + 1.0 \"\n",
    "        * What is the value of \"x + 1\":\n",
    "            * Well, that depends, what is the value of this \"x\"?\n",
    "            * We could assume it has some value, like \"0.0\"\n",
    "                * That would yield some interesting behavior...\n",
    "                * But most languages won't allow such a thing\n",
    "            * We could say that we don't know, and throw some Error.\n",
    "    * For Lettuce, the evaluation of \"let x = x + 1.0 in x + 2.0\" will throw an error\n",
    "    * Here is how you would write a program like this in Scala:"
   ]
  },
  {
   "cell_type": "code",
   "execution_count": 9,
   "metadata": {
    "collapsed": false
   },
   "outputs": [
    {
     "name": "stderr",
     "output_type": "stream",
     "text": [
      "cmd9.sc:1: recursive value x needs type\n",
      "val x = x + 1.0\n",
      "        ^Compilation Failed"
     ]
    },
    {
     "ename": "",
     "evalue": "",
     "output_type": "error",
     "traceback": [
      "Compilation Failed"
     ]
    }
   ],
   "source": [
    "val x = x + 1.0\n",
    "x + 2.0"
   ]
  },
  {
   "cell_type": "markdown",
   "metadata": {},
   "source": [
    "* ex 7:\n",
    "    * let x = [ let y = x + 5.6 in y + 2.7 ] in [ x + 7.0 ]\n",
    "    * What is the value?\n",
    "    * Why?\n",
    "    * Here is how you would write a program like this in Scala:"
   ]
  },
  {
   "cell_type": "code",
   "execution_count": 11,
   "metadata": {
    "collapsed": false
   },
   "outputs": [
    {
     "name": "stderr",
     "output_type": "stream",
     "text": [
      "cmd11.sc:2: recursive value x needs type\n",
      "    val y = x + 5.6\n",
      "            ^Compilation Failed"
     ]
    },
    {
     "ename": "",
     "evalue": "",
     "output_type": "error",
     "traceback": [
      "Compilation Failed"
     ]
    }
   ],
   "source": [
    "val x = {\n",
    "    val y = x + 5.6\n",
    "    y + 2.7\n",
    "}\n",
    "x + 7.0"
   ]
  },
  {
   "cell_type": "markdown",
   "metadata": {},
   "source": [
    "* ex 8:\n",
    "    * let x = [ let y = 7.8 + 5.6 in x + y ] in [ x + 7.0 ]\n",
    "    * What is the value?\n",
    "    * Why?\n",
    "    * Here is how you would write a program like this in Scala:"
   ]
  },
  {
   "cell_type": "code",
   "execution_count": 11,
   "metadata": {
    "collapsed": false
   },
   "outputs": [
    {
     "name": "stderr",
     "output_type": "stream",
     "text": [
      "cmd11.sc:3: recursive value x needs type\n",
      "    x + y\n",
      "    ^Compilation Failed"
     ]
    },
    {
     "ename": "",
     "evalue": "",
     "output_type": "error",
     "traceback": [
      "Compilation Failed"
     ]
    }
   ],
   "source": [
    "val x = {\n",
    "    val y = 7.8 + 5.6\n",
    "    x + y\n",
    "}\n",
    "x + 7.0"
   ]
  },
  {
   "cell_type": "markdown",
   "metadata": {},
   "source": [
    "* ex 9:\n",
    "    * let x = [ let y = 7.8 + 5.6 in y + y ] in [ x + y ]\n",
    "    * What is the value?\n",
    "    * Why?\n",
    "    * Here is how you would write a program like this in Scala:"
   ]
  },
  {
   "cell_type": "code",
   "execution_count": 15,
   "metadata": {
    "collapsed": false
   },
   "outputs": [
    {
     "data": {
      "text/plain": [
       "\u001b[36mx\u001b[39m: \u001b[32mDouble\u001b[39m = \u001b[32m26.799999999999997\u001b[39m\n",
       "\u001b[36mres14_1\u001b[39m: \u001b[32mDouble\u001b[39m = \u001b[32m28.799999999999997\u001b[39m"
      ]
     },
     "execution_count": 15,
     "metadata": {},
     "output_type": "execute_result"
    }
   ],
   "source": [
    "// Real Scala throws an error on this.\n",
    "// my JN kernel is being weird...\n",
    "val x = {\n",
    "    val y = 7.8 + 5.6\n",
    "    y + y\n",
    "}\n",
    "x + y  // this y throws an error in scala"
   ]
  },
  {
   "cell_type": "markdown",
   "metadata": {},
   "source": [
    "### Scoping of let bindings\n",
    "* ** scope of an identifier **: \n",
    "    * The region of code where an identifier is defined.\n",
    "    * The region of code after an identifier has a value bound to it and before the identifier becomes no longer valid.\n",
    "    * The region of code where an identifier can be referenced without causing an error to be thrown.\n",
    "* What is the scope of a let binding’s identifier?\n",
    "    * for expressions of the form $let \\hspace{5mm} \\mathbf{x} \\hspace{5mm} = \\hspace{5mm} \\mathbf{e}_{binding} \\hspace{5mm} in \\hspace{5mm} \\mathbf{e}_{body} $, where is “x” valid?\n",
    "    * Discuss with your neighbor."
   ]
  },
  {
   "cell_type": "markdown",
   "metadata": {},
   "source": [
    "## Lettuce will have functions (and function calls)"
   ]
  },
  {
   "cell_type": "markdown",
   "metadata": {},
   "source": [
    "### Anonymous Functions in Scala\n",
    "* Scala has a few ways to write functions."
   ]
  },
  {
   "cell_type": "code",
   "execution_count": 19,
   "metadata": {
    "collapsed": false
   },
   "outputs": [
    {
     "data": {
      "text/plain": [
       "defined \u001b[32mfunction\u001b[39m \u001b[36mf\u001b[39m\n",
       "\u001b[36mres18_1\u001b[39m: \u001b[32mInt\u001b[39m => \u001b[32mInt\u001b[39m = ammonite.$sess.cmd18$Helper$$Lambda$2956/1216366194@dda477f\n",
       "\u001b[36mg\u001b[39m: \u001b[32mInt\u001b[39m => \u001b[32mInt\u001b[39m = ammonite.$sess.cmd18$Helper$$Lambda$2957/1377286082@3a50fe7f\n",
       "\u001b[36mres18_3\u001b[39m: \u001b[32mInt\u001b[39m = \u001b[32m4\u001b[39m\n",
       "\u001b[36mres18_4\u001b[39m: \u001b[32mInt\u001b[39m = \u001b[32m4\u001b[39m"
      ]
     },
     "execution_count": 19,
     "metadata": {},
     "output_type": "execute_result"
    }
   ],
   "source": [
    "// a named function\n",
    "def f(x:Int):Int = { x + x }\n",
    "\n",
    "// an anonymous function\n",
    "(x:Int) => {x + x}\n",
    "\n",
    "// anonymous function bound to a val\n",
    "val g = (x:Int) => { x + x }\n",
    "\n",
    "\n",
    "// some function calls\n",
    "f(2)\n",
    "g(2)\n"
   ]
  },
  {
   "cell_type": "markdown",
   "metadata": {},
   "source": [
    "### Lettuce Function\n",
    "* Syntax: $function (\\mathbf{x}) \\mathbf{e}$\n",
    "* Notes:\n",
    "    * All Lettuce functions take exactly 1 parameter\n",
    "    * That parameter, denoted by x, can be any identifier\n",
    "    * All functions have an expression in them\n",
    "        * Before now we probably referred to that as the function body.\n",
    "        * So it might help us to denote this as $\\mathbf{e}_{body}$ rather than simply $\\mathbf{e}$"
   ]
  },
  {
   "cell_type": "markdown",
   "metadata": {},
   "source": [
    "* Grammar:\n",
    "    * $$\\begin{array}\n",
    "\\mathbf{e} & \\rightarrow &  let \\hspace{5mm} \\mathbf{x} \\hspace{5mm} = \\hspace{5mm} \\mathbf{e}_{binding} \\hspace{5mm} in \\hspace{5mm} \\mathbf{e}_{body}  \\\\\n",
    "& | & [\\mathbf{e}] \\\\\n",
    "& | & \\mathbf{e} + \\mathbf{e} \\\\\n",
    "& | & \\mathbf{e} - \\mathbf{e} \\\\\n",
    "& | & \\mathbf{e} * \\mathbf{e} \\\\\n",
    "& | & \\mathbf{e} / \\mathbf{e} \\\\\n",
    "& | & (\\mathbf{e}) \\\\\n",
    "& | & \\mathbf{v} \\\\\n",
    "\\mathbf{x} & \\rightarrow & Identifier \\\\\n",
    "\\mathbf{v} & \\rightarrow & Double \\\\\n",
    "& | & function (\\mathbf{x}) \\mathbf{e}_{body} \\\\\n",
    "\\end{array}$$\n",
    "   * **NOTE: this subscripting is not allowed in our grammars this semester. Above is not a valid grammar. If you are asked on a homework to write a grammar, you should not use these subscripts in your submission. I just find these useful for getting my point across**"
   ]
  },
  {
   "cell_type": "markdown",
   "metadata": {},
   "source": [
    "* Observation: \n",
    "    * Functions are values!\n",
    "        * This is a functional concept that yields some pretty epic behaviors\n",
    "* Let's look at some examples"
   ]
  },
  {
   "cell_type": "markdown",
   "metadata": {},
   "source": [
    "#### function examples"
   ]
  },
  {
   "cell_type": "markdown",
   "metadata": {},
   "source": [
    "* ex 1:\n",
    "    * function (x) x + 1\n",
    "    * alternate form: function (x) [ x + 1 ]\n",
    "    * What is the value of “function (x) [ x + 1 ]”: ???\n",
    "    * Here is how you would write a program like this in Scala:"
   ]
  },
  {
   "cell_type": "code",
   "execution_count": 20,
   "metadata": {
    "collapsed": false
   },
   "outputs": [
    {
     "data": {
      "text/plain": [
       "\u001b[36mres19\u001b[39m: \u001b[32mDouble\u001b[39m => \u001b[32mDouble\u001b[39m = ammonite.$sess.cmd19$Helper$$Lambda$2968/2054174179@53f2510c"
      ]
     },
     "execution_count": 20,
     "metadata": {},
     "output_type": "execute_result"
    }
   ],
   "source": [
    "(x:Double) => x + 1"
   ]
  },
  {
   "cell_type": "markdown",
   "metadata": {},
   "source": [
    "* ex 2:\n",
    "    * let f = [ function (x) [ x + 1 ] ] in [ f ]\n",
    "    * What is the value of “let f = [ function (x) [ x + 1 ] ] in [ f ]”: ???\n",
    "    * Here is how you would write a program like this in Scala:"
   ]
  },
  {
   "cell_type": "code",
   "execution_count": 21,
   "metadata": {
    "collapsed": false
   },
   "outputs": [
    {
     "data": {
      "text/plain": [
       "\u001b[36mf\u001b[39m: \u001b[32mDouble\u001b[39m => \u001b[32mDouble\u001b[39m = ammonite.$sess.cmd20$Helper$$Lambda$2972/1666403496@51e93571\n",
       "\u001b[36mres20_1\u001b[39m: \u001b[32mDouble\u001b[39m => \u001b[32mDouble\u001b[39m = ammonite.$sess.cmd20$Helper$$Lambda$2972/1666403496@51e93571"
      ]
     },
     "execution_count": 21,
     "metadata": {},
     "output_type": "execute_result"
    }
   ],
   "source": [
    "val f = (x:Double) => x + 1\n",
    "f"
   ]
  },
  {
   "cell_type": "markdown",
   "metadata": {},
   "source": [
    "### Function Calls\n",
    "* We extended the language’s value domain to include functions but we didn’t add any operators on the this value.\n",
    "* We need to add in function calls\n",
    "* Here are the syntax we’ll use in Lettuce:\n",
    "    * function (x) [ e<sub>body</sub> ] (e)\n",
    "        * The second “e” is called an argument\n",
    "        * The argument “e” is bound to the parameter “x” at run time, so we might call it the binding expression\n",
    "        * And then we might write this  to look similar to lets, as in:\n",
    "            * function (x) [ e<sub>body</sub> ] (e<sub>binding</sub>)\n",
    "    * x (e)\n",
    "        * We’ll see what this means\n",
    "        * alternate form: x(e<sub>binding</sub>"
   ]
  },
  {
   "cell_type": "markdown",
   "metadata": {},
   "source": [
    "* And now our grammar becomes:\n",
    "    * $$\\begin{array}\n",
    "\\mathbf{e} & \\rightarrow & function\\ (\\mathbf{x})\\ [\\mathbf{e}_{body}]\\ (\\mathbf{e}_{binding}) \\\\\n",
    "& | & \\mathbf{x}\\ (\\mathbf{e}_{binding}) \\\\\n",
    "& | & let\\ \\mathbf{x}\\ = \\ \\mathbf{e}_{binding}\\ in\\ \\mathbf{e}_{body}  \\\\\n",
    "& | & [\\mathbf{e}] \\\\\n",
    "& | & \\mathbf{e} + \\mathbf{e} \\\\\n",
    "& | & \\mathbf{e} - \\mathbf{e} \\\\\n",
    "& | & \\mathbf{e} * \\mathbf{e} \\\\\n",
    "& | & \\mathbf{e} / \\mathbf{e} \\\\\n",
    "& | & (\\mathbf{e}) \\\\\n",
    "& | & \\mathbf{v} \\\\\n",
    "\\mathbf{x} & \\rightarrow & Identifier \\\\\n",
    "\\mathbf{v} & \\rightarrow & Double \\\\\n",
    "& | & function\\ (\\mathbf{x})\\ \\mathbf{e}_{body} \\\\\n",
    "\\end{array}$$\n",
    "   * **NOTE: this subscripting is not allowed in our grammars this semester. Above is not a valid grammar. If you are asked on a homework to write a grammar, you should not use these subscripts in your submission. I just find these useful for getting my point across**"
   ]
  },
  {
   "cell_type": "markdown",
   "metadata": {},
   "source": [
    "* Note that while functions are values… Function calls are not values\n",
    "    * Function calls are expressions that need to be evaluated to a value\n",
    "* Now for some examples"
   ]
  },
  {
   "cell_type": "markdown",
   "metadata": {},
   "source": [
    "### function call easy examples\n",
    "* **Note that these examples demonstrate “eager evaluation” there is an alternative called “lazy evaluation”. We’ll look at that another time.**"
   ]
  },
  {
   "cell_type": "markdown",
   "metadata": {},
   "source": [
    "* ex 1:\n",
    "    * function (x) [ x + 1 ] ( 10 )\n",
    "    * The body of my function is: “x + 1”\n",
    "    * The binding expression of my parameter “x” is: “10”\n",
    "    * What is the value of “function (x) [ function (x) [ x + 1 ] ( 10 ) ]”: “11”\n",
    "        * Why?\n",
    "            * Evaluate the **binding expression/argument** to a value: “10” is a value\n",
    "            * Evaluate the **body expression/function body** with the arguments value substituted for the parameter:\n",
    "                * function body: “x + 1”\n",
    "               * function body with “10” substituted for “x”: “10 + 1”\n",
    "               * value of “10 + 1” : “11”\n",
    "    * This doesn't translate to Scala really"
   ]
  },
  {
   "cell_type": "markdown",
   "metadata": {},
   "source": [
    "* ex 2:\n",
    "    * function (x) [ x + 1 ] ( 5 * 2 )\n",
    "    * The body of my function is: “x + 1”\n",
    "    * The binding expression of my parameter “x” is: “5 * 2”\n",
    "    * What is the value of “function (x) [ function (x) [ x + 1 ] ( 10 ) ]”: “11”\n",
    "        * Why?\n",
    "            * Evaluate the **binding expression/argument** to a value: “5 * 2” evaluates to value “10”\n",
    "            * Evaluate the **body expression/function body** with the arguments value substituted for the parameter:\n",
    "                * function body: “x + 1”\n",
    "               * function body with “10” substituted for “x”: “10 + 1”\n",
    "               * value of “10 + 1” : “11”\n",
    "    * This doesn't translate to Scala really"
   ]
  },
  {
   "cell_type": "markdown",
   "metadata": {},
   "source": [
    "* ex 3:\n",
    "    * let f = [ function (x) [ x + 1 ] ] in  f (10)\n",
    "    * What is the value of “let f = [ function (x) [ x + 1 ] ] in f(10)” ???\n",
    "    * Here is how you would write a program like this in Scala:"
   ]
  },
  {
   "cell_type": "code",
   "execution_count": 22,
   "metadata": {
    "collapsed": false
   },
   "outputs": [
    {
     "data": {
      "text/plain": [
       "\u001b[36mf\u001b[39m: \u001b[32mDouble\u001b[39m => \u001b[32mDouble\u001b[39m = ammonite.$sess.cmd21$Helper$$Lambda$3002/1459132047@16f6c604\n",
       "\u001b[36mres21_1\u001b[39m: \u001b[32mDouble\u001b[39m = \u001b[32m11.0\u001b[39m"
      ]
     },
     "execution_count": 22,
     "metadata": {},
     "output_type": "execute_result"
    }
   ],
   "source": [
    "val f = (x:Double) => x + 1.0\n",
    "f(10.0)"
   ]
  },
  {
   "cell_type": "markdown",
   "metadata": {},
   "source": [
    "* ex 4:\n",
    "    * $$\\begin{array}\n",
    "& let\\ f\\ =\\ function (x) [\\ x\\ *\\ x\\ ]\\ in \\\\\n",
    "\\hspace{2cm} let\\ g\\ =\\ function\\ (y)\\ [\\ f(\\ y\\ +\\ y\\ )\\ ]\\ in \\\\\n",
    "\\hspace{4cm}  g( 5 * 2 ) \\\\\n",
    "\\end{array}$$\n",
    "    * What is the value? Discuss with a peer.\n",
    "    * Here is how you would write a program like this in Scala:"
   ]
  },
  {
   "cell_type": "code",
   "execution_count": 23,
   "metadata": {
    "collapsed": false
   },
   "outputs": [
    {
     "data": {
      "text/plain": [
       "\u001b[36mf\u001b[39m: \u001b[32mDouble\u001b[39m => \u001b[32mDouble\u001b[39m = ammonite.$sess.cmd22$Helper$$Lambda$3009/90313920@361a369e\n",
       "\u001b[36mg\u001b[39m: \u001b[32mDouble\u001b[39m => \u001b[32mDouble\u001b[39m = ammonite.$sess.cmd22$Helper$$Lambda$3010/1834546956@54d86a88\n",
       "\u001b[36mres22_2\u001b[39m: \u001b[32mDouble\u001b[39m = \u001b[32m40.0\u001b[39m"
      ]
     },
     "execution_count": 23,
     "metadata": {},
     "output_type": "execute_result"
    }
   ],
   "source": [
    "val f = (x:Double) => x + x\n",
    "val g = (y:Double) => f(y + y)\n",
    "g(5*2)"
   ]
  },
  {
   "cell_type": "markdown",
   "metadata": {},
   "source": [
    "### Function calls, strange examples"
   ]
  },
  {
   "cell_type": "markdown",
   "metadata": {},
   "source": [
    "* ex 5:\n",
    "    * let f = function (x) [ function (y) [ x + y ] ] in f\n",
    "    * The body of the function with parameter “x” is: function (y) [ x + y ]\n",
    "    * The body of the function with parameter “y” is: x + y\n",
    "        * This inner function is called a **closure**\n",
    "    * The value of this expression is : “function (x) [ function (y) [ x + y ] ]”\n",
    "    * Why? f is a function. functions are values.\n",
    "    * Here is how you would write a program like this in Scala:"
   ]
  },
  {
   "cell_type": "code",
   "execution_count": 24,
   "metadata": {
    "collapsed": false
   },
   "outputs": [
    {
     "data": {
      "text/plain": [
       "\u001b[36mf\u001b[39m: \u001b[32mDouble\u001b[39m => \u001b[32mDouble\u001b[39m => \u001b[32mDouble\u001b[39m = ammonite.$sess.cmd23$Helper$$Lambda$3042/1776379529@223565e5\n",
       "\u001b[36mres23_1\u001b[39m: \u001b[32mDouble\u001b[39m => \u001b[32mDouble\u001b[39m => \u001b[32mDouble\u001b[39m = ammonite.$sess.cmd23$Helper$$Lambda$3042/1776379529@223565e5"
      ]
     },
     "execution_count": 24,
     "metadata": {},
     "output_type": "execute_result"
    }
   ],
   "source": [
    "val f = (x:Double) => {\n",
    "    (y:Double) => {\n",
    "        x + y\n",
    "    }\n",
    "}\n",
    "f"
   ]
  },
  {
   "cell_type": "markdown",
   "metadata": {},
   "source": [
    "* ex 6:\n",
    "    * let f = function (x) [ function (y) [ x + y ] ] in f(2)\n",
    "    * The body of the function with parameter “x” is: function (y) [ x + y ]\n",
    "    * The body of the function with parameter “y” is: x + y\n",
    "        * This inner function is called a **closure**\n",
    "    * The value of this expression is: function (y) [ 2 + y ]\n",
    "    * We called the function with parameter “x” with the argument “2”\n",
    "    * The body of the function with parameter “x” is: function (y) [ x + y ]\n",
    "    * look through “function (y) [ x + y ]” and replace “x” with “2”\n",
    "    * you’ll get “function (y) [ 2 + y ]”\n",
    "    * Here is how you would write a program like this in Scala:"
   ]
  },
  {
   "cell_type": "code",
   "execution_count": 25,
   "metadata": {
    "collapsed": false
   },
   "outputs": [
    {
     "data": {
      "text/plain": [
       "\u001b[36mf\u001b[39m: \u001b[32mDouble\u001b[39m => \u001b[32mDouble\u001b[39m => \u001b[32mDouble\u001b[39m = ammonite.$sess.cmd24$Helper$$Lambda$3051/1996743581@31199eb7\n",
       "\u001b[36mres24_1\u001b[39m: \u001b[32mDouble\u001b[39m => \u001b[32mDouble\u001b[39m = ammonite.$sess.cmd24$Helper$$Lambda$3052/603988856@26634d67"
      ]
     },
     "execution_count": 25,
     "metadata": {},
     "output_type": "execute_result"
    }
   ],
   "source": [
    "val f = (x:Double) => {\n",
    "    (y:Double) => {\n",
    "        x + y\n",
    "    }\n",
    "}\n",
    "f(2)"
   ]
  },
  {
   "cell_type": "markdown",
   "metadata": {},
   "source": [
    "* ex 7:\n",
    "    * let f = function (x) [ function (y) [ x + y ] ] in f(2)(3)\n",
    "    * What is the value of this expression?\n",
    "        * Take your best guess then discuss with a neighbor\n",
    "    * Do any of us know the term for calling a function in this way? **???**\n",
    "    * Here is how you would write a program like this in Scala:"
   ]
  },
  {
   "cell_type": "code",
   "execution_count": 26,
   "metadata": {
    "collapsed": false
   },
   "outputs": [
    {
     "data": {
      "text/plain": [
       "\u001b[36mf\u001b[39m: \u001b[32mDouble\u001b[39m => \u001b[32mDouble\u001b[39m => \u001b[32mDouble\u001b[39m = ammonite.$sess.cmd25$Helper$$Lambda$3060/1110950235@4e8743e\n",
       "\u001b[36mres25_1\u001b[39m: \u001b[32mDouble\u001b[39m = \u001b[32m5.0\u001b[39m"
      ]
     },
     "execution_count": 26,
     "metadata": {},
     "output_type": "execute_result"
    }
   ],
   "source": [
    "val f = (x:Double) => {\n",
    "    (y:Double) => {\n",
    "        x + y\n",
    "    }\n",
    "}\n",
    "f(2)(3)"
   ]
  },
  {
   "cell_type": "markdown",
   "metadata": {},
   "source": [
    "* Scala has some **syntax sugar** for this one on named functions\n",
    "* We could also write:"
   ]
  },
  {
   "cell_type": "code",
   "execution_count": 28,
   "metadata": {
    "collapsed": false
   },
   "outputs": [
    {
     "data": {
      "text/plain": [
       "defined \u001b[32mfunction\u001b[39m \u001b[36mf\u001b[39m\n",
       "\u001b[36mres27_1\u001b[39m: \u001b[32mDouble\u001b[39m = \u001b[32m5.0\u001b[39m"
      ]
     },
     "execution_count": 28,
     "metadata": {},
     "output_type": "execute_result"
    }
   ],
   "source": [
    "def f(x:Double)(y:Double):Double = {\n",
    "    x + y\n",
    "}\n",
    "f(2)(3)"
   ]
  },
  {
   "cell_type": "markdown",
   "metadata": {},
   "source": [
    "### Currying\n",
    "* A great mathematician named Haskell Curry theorized and proved that functions with many inputs can be decomposed into many functions with only one input and still yield the same results\n",
    "* So this method of calling functions is called currying\n",
    "* It’s practical applications are somewhat more complex then I’m ready to explain today, but I’ll provide an example below"
   ]
  },
  {
   "cell_type": "code",
   "execution_count": 36,
   "metadata": {
    "collapsed": false
   },
   "outputs": [
    {
     "name": "stdout",
     "output_type": "stream",
     "text": [
      "I can't find the first element of the List\n",
      "The first element was 1\n",
      "The first element was 1\n"
     ]
    },
    {
     "ename": "",
     "evalue": "",
     "output_type": "error",
     "traceback": [
      "\u001b[31mjava.lang.IllegalArgumentException: empty list\u001b[39m\n  ammonite.$sess.cmd35$Helper.$anonfun$res35_8$1(\u001b[32mcmd35.sc\u001b[39m:\u001b[32m17\u001b[39m)\n  ammonite.$sess.cmd35$Helper.practical(\u001b[32mcmd35.sc\u001b[39m:\u001b[32m9\u001b[39m)\n  ammonite.$sess.cmd35$Helper.<init>(\u001b[32mcmd35.sc\u001b[39m:\u001b[32m17\u001b[39m)\n  ammonite.$sess.cmd35$.<init>(\u001b[32mcmd35.sc\u001b[39m:\u001b[32m7\u001b[39m)\n  ammonite.$sess.cmd35$.<clinit>(\u001b[32mcmd35.sc\u001b[39m:\u001b[32m-1\u001b[39m)"
     ]
    }
   ],
   "source": [
    "def f(x:Int, y:Int):Int = x + y\n",
    "f(1,2)\n",
    "\n",
    "def f_curry(x:Int)(y:Int):Int = x + y\n",
    "f_curry(1)(2)\n",
    "\n",
    "\n",
    "def practical[A](l:List[Int])(fc:() => A)(sc:(Int) => A):A = l match {\n",
    "    case Nil => fc()\n",
    "    case h :: _ => sc(h)\n",
    "}\n",
    "// printing version\n",
    "practical(Nil)(() => println(\"I can't find the first element of the List\"))((h) => println(s\"The first element was $h\"))\n",
    "practical(List(1,2,3))(() => println(\"I can't find the first element of the List\"))((h) => println(s\"The first element was $h\"))\n",
    "// errors\n",
    "practical(List(1,2,3))(() => throw new IllegalArgumentException(\"empty list\"))((h) => println(s\"The first element was $h\"))\n",
    "practical(Nil)(() => throw new IllegalArgumentException(\"empty list\"))((h) => println(s\"The first element was $h\"))"
   ]
  },
  {
   "cell_type": "markdown",
   "metadata": {},
   "source": [
    "## Scoping Rules\n",
    "* Now recall our definition of Scope. ** scope of an identifier **: \n",
    "    * The region of code where an identifier is defined.\n",
    "    * The region of code after an identifier has a value bound to it and before the identifier\n",
    "* Function introduce a complexity to scope.\n",
    "* Consider the Lettuce program: $$\n",
    "\\begin{array}\n",
    "&\n",
    "let\\ w\\ =\\ 10\\ in \\\\\n",
    "\\hspace{1cm} let\\ f\\ =\\ function(x)[\\ w\\ +\\ x\\ ]\\ in \\\\\n",
    "\\hspace{2cm} let\\ w\\ =\\ 20\\ in \\\\\n",
    "\\hspace{3cm} f(w) \\\\\n",
    "\\end{array}\n",
    "$$\n",
    "* What should be the value of this expression? Discuss with peer."
   ]
  },
  {
   "cell_type": "markdown",
   "metadata": {},
   "source": [
    "* Consider again, $$\n",
    "\\begin{array}\n",
    "&\n",
    "let\\ w\\ =\\ 10\\ in \\\\\n",
    "\\hspace{1cm} let\\ f\\ =\\ function(x)[\\ w\\ +\\ x\\ ]\\ in \\\\\n",
    "\\hspace{2cm} let\\ w\\ =\\ 20\\ in \\\\\n",
    "\\hspace{3cm} f(w) \\\\\n",
    "\\end{array}\n",
    "$$\n",
    "* What is the value of “w” in the function body under:\n",
    "    * static scoping: ???\n",
    "    * dynamic scoping: ???\n",
    "* What is the value of the expression under:\n",
    "    * static scoping: ???\n",
    "    * dynamic scoping: ???"
   ]
  },
  {
   "cell_type": "markdown",
   "metadata": {},
   "source": [
    "* What about in other languages:\n",
    "    * JavaScript: ???\n",
    "    * BASH: ???\n",
    "    * Scala: ???"
   ]
  },
  {
   "cell_type": "code",
   "execution_count": 5,
   "metadata": {
    "collapsed": false
   },
   "outputs": [
    {
     "name": "stdout",
     "output_type": "stream",
     "text": [
      "30\n"
     ]
    },
    {
     "data": {
      "text/plain": [
       "\u001b[36mw\u001b[39m: \u001b[32mInt\u001b[39m = \u001b[32m10\u001b[39m"
      ]
     },
     "execution_count": 5,
     "metadata": {},
     "output_type": "execute_result"
    }
   ],
   "source": [
    "val w = 10\n",
    "{\n",
    "    val f = (x:Int) => { x + w }\n",
    "    {\n",
    "        val w = 20\n",
    "        println(f(w))\n",
    "    }\n",
    "}"
   ]
  },
  {
   "cell_type": "markdown",
   "metadata": {},
   "source": [
    "\n",
    "* What does this say about the scoping rule about functions in these languages:\n",
    "    * JavaScript: ??? scoping\n",
    "    * BASH: ??? scoping\n",
    "    * Scala: ??? scoping"
   ]
  },
  {
   "cell_type": "markdown",
   "metadata": {},
   "source": [
    "## Lettuce will have many other things\n",
    "* Over the course of the rest of this semester we will continue to expand the Lettuce language\n",
    "* we may add in\n",
    "    * booleans\n",
    "    * strings\n",
    "    * artistic types (for music and images)\n",
    "    * I/O\n",
    "    * classes and object\n",
    "    * mutable variables\n",
    "    * recursive functions"
   ]
  }
 ],
 "metadata": {
  "anaconda-cloud": {},
  "kernelspec": {
   "display_name": "Scala",
   "language": "scala",
   "name": "scala"
  },
  "language_info": {
   "codemirror_mode": "text/x-scala",
   "file_extension": ".scala",
   "mimetype": "text/x-scala",
   "name": "scala",
   "nbconvert_exporter": "script",
   "version": "2.12.8"
  }
 },
 "nbformat": 4,
 "nbformat_minor": 1
}
