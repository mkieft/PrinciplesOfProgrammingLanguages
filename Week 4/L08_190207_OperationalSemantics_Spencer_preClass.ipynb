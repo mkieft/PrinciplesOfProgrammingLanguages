{
 "cells": [
  {
   "cell_type": "markdown",
   "metadata": {},
   "source": [
    "# Lecture 08 - Operational Semantic and Inference Rules\n",
    "\n",
    "# This document is subject to Change before class"
   ]
  },
  {
   "cell_type": "markdown",
   "metadata": {},
   "source": [
    "## Overview\n",
    "* Logic\n",
    "* English Documentation\n",
    "* Operational Semantic and Inference Rules\n",
    "* List[Int]"
   ]
  },
  {
   "cell_type": "markdown",
   "metadata": {},
   "source": [
    "## PreClass\n",
    "* Please download this document... spwi, remove if in your section, but keep for Srirams..."
   ]
  },
  {
   "cell_type": "markdown",
   "metadata": {},
   "source": [
    "## Logic\n",
    "Consider below, a language called Logic and it's interpreter in Scala"
   ]
  },
  {
   "cell_type": "code",
   "execution_count": 1,
   "metadata": {
    "collapsed": false
   },
   "outputs": [
    {
     "data": {
      "text/plain": [
       "defined \u001b[32mtrait\u001b[39m \u001b[36mLogic\u001b[39m\n",
       "defined \u001b[32mclass\u001b[39m \u001b[36mValue\u001b[39m\n",
       "defined \u001b[32mclass\u001b[39m \u001b[36mNot\u001b[39m\n",
       "defined \u001b[32mclass\u001b[39m \u001b[36mOr\u001b[39m\n",
       "defined \u001b[32mclass\u001b[39m \u001b[36mAnd\u001b[39m\n",
       "defined \u001b[32mfunction\u001b[39m \u001b[36meval\u001b[39m"
      ]
     },
     "execution_count": 1,
     "metadata": {},
     "output_type": "execute_result"
    }
   ],
   "source": [
    "// Grammar:\n",
    "/*\n",
    " * Logic --> Value(b) | Not(Logic) | Or(Logic, Logic) | And(Logic, Logic)\n",
    " * b is a Boolean\n",
    " */\n",
    "\n",
    "\n",
    "// AST\n",
    "sealed trait Logic\n",
    "case class Value(b:Boolean) extends Logic\n",
    "case class Not(l1:Logic) extends Logic \n",
    "case class Or(l1:Logic, l2:Logic) extends Logic \n",
    "case class And(l1:Logic, l2:Logic) extends Logic\n",
    "\n",
    "\n",
    "// Interpreter\n",
    "def eval(l:Logic):Boolean = l match {\n",
    "    case Value(b1) => b1\n",
    "    case Not(l1) => !eval(l1)\n",
    "    case And(l1,l2) => eval(l1) && eval(l2)\n",
    "    case Or(l1,l2) => eval(l1) || eval(l2)\n",
    "}"
   ]
  },
  {
   "cell_type": "markdown",
   "metadata": {},
   "source": [
    "## English Documentation"
   ]
  },
  {
   "cell_type": "markdown",
   "metadata": {},
   "source": [
    "* Can we define, in English, the language and behavior Logic?\n",
    "* first some review:\n",
    "* The language Logic is a set of statements of the following form. It can be a Value(b) such that b is some Scala Boolean. It can be a Not(Logic). It can be some Or(Logic, Logic). Or it can even be some And(Logic,Logic)\n",
    "* Now, that seems more difficult to read than I would like. Perhaps we can introduce some notation to make this easier to read?\n",
    "* Grammars Terminology\n",
    "\t* &RightArrow; : means Produces\n",
    "\t* | : means “or”\n",
    "\t* anything to the left of a production symbol is called a “variable”\n",
    "\t* the first variable in a set of grammar rules is a “start symbol”\n",
    "* Grammar for our language, Logic:\n",
    "    * Logic &RightArrow; Value(b) | Not(Logic) | Or(Logic, Logic) | And(Logic, Logic)\n",
    "    * b is a Scala Boolean"
   ]
  },
  {
   "cell_type": "markdown",
   "metadata": {},
   "source": [
    "* And now some new stuff\n",
    "* How can we document the behavior of the Logic language?\n",
    "* We’ve already implemented the interpreter.\n",
    "* But I want to document how it works\n",
    "* that way someone new can know what it does without having to look at the code\n",
    "* Let us start with English. First, let me abuse grammars for a moment and define a grammar that might be easier to use for our definition of the behavior of Logic\n",
    "    * l: Logic &RightArrow; Value(b) | Not(l1: Logic) | Or(l1: Logic, l2: Logic) | And(l1: Logic, l2: Logic)\n",
    "    * b is a Scala Boolean\n",
    "* Using the above definition of Logic. The evaluation of a Logic object “l” shall yield a Boolean and shall be determined by the evaluation of it’s pattern. The evaluation of pattern Value(b) shall yield b. The evaluation of pattern Not(l1: Logic) shall yield bPrime such that bPrime equals the flip of b1 and b1 is the evaluation of l1. The evaluation of pattern Or(l1:Logic, l2:Logic) shall yield bPrime such that bPrime is the union of b1 and b2 and b1 is the evaluation of l1 and b2 is the evaluation of l2. The evaluation of pattern And(l1:Logic, l2:Logic) shall yield bPrime such that bPrime is the intersect of b1 and b2 and b1 is the evaluation of l1 and b2 is the evaluation of l2."
   ]
  },
  {
   "cell_type": "markdown",
   "metadata": {},
   "source": [
    "* Is this definition correct?\n",
    "* Could it be more correct?"
   ]
  },
  {
   "cell_type": "markdown",
   "metadata": {},
   "source": [
    "#### Improvements if possible"
   ]
  },
  {
   "cell_type": "markdown",
   "metadata": {},
   "source": [
    "* Now, what do we think about that paragraph which explains the behavior of Logic? Is that useful?\n",
    "* You can form your own opinion but I don’t love that definition."
   ]
  },
  {
   "cell_type": "markdown",
   "metadata": {},
   "source": [
    "## Operational Semantic and Inference Rules\n",
    "* Rather than defining the behavior of Logic in English, let us instead construct a single **operational semantic** and several **inference rules** that describe the same information in a different way."
   ]
  },
  {
   "cell_type": "markdown",
   "metadata": {},
   "source": [
    "### Operational Semantic\n",
    "* First the **operational semantic**: The operational semantic is used to describe the function at a high level.\n",
    "* Consider the statement:“The evaluation of a Logic object “l” shall yield a Boolean and shall be determined by the evaluation of it’s pattern.”\n",
    "* also, consider the type definition of our function: def eval(l:Logic):Boolean\n",
    "* and consider that we are using “l” for list and “b” for Boolean\n",
    "* here is one valid **operational semantic**\n",
    "    * b = eval(l)\n"
   ]
  },
  {
   "cell_type": "markdown",
   "metadata": {},
   "source": [
    "#### Qs ???"
   ]
  },
  {
   "cell_type": "markdown",
   "metadata": {},
   "source": [
    "### Inference Rules\n",
    "* Now for our inference rules. The inference rules leverage the operational semantic and some inductive logic to create strong documentation of the code. They are also helpful if you ever need to **PROVE** anything about your code (not to worry, we aren’t proving anything in this course…)\n",
    "* General pattern for Inference Rule: \n",
    "\n",
    "$$\\begin{array}{c}\n",
    "\\text{0-or-many premises that must hold} \\\\\n",
    "\\hline\n",
    "\\text{conclusions that can be drawn} \\\\\n",
    "\\end{array}\\ \\text{(Option to Name the Rule)}$$"
   ]
  },
  {
   "cell_type": "markdown",
   "metadata": {},
   "source": [
    "#### Value(b)\n",
    "* sentence: The evaluation of pattern Value(b) shall yield b.\n",
    "* **operational semantic**: b = eval(l)\n",
    "* inference rule:\n",
    "    \n",
    "$$\\begin{array}{c}\n",
    "\\\\\n",
    "\\hline\n",
    "\\text{b = eval(Value(b))} \\\\\n",
    "\\end{array}\\ \\text{Value}$$\n",
    "\n",
    "* This reads: The evaluation of pattern Value(b) shall yield b.\n",
    "* Observations:\n",
    "    * This inference rule has no premise. That is known as an **axiom**\n",
    "    * The conclusion of this inference rule is: $\\text{b = eval(Value(b))}$\n",
    "    * This can be read \"The evaluation of Value(b) yields b\""
   ]
  },
  {
   "cell_type": "markdown",
   "metadata": {},
   "source": [
    "#### Not(l1)\n",
    "* sentence: The evaluation of pattern Not(l1: Logic) shall yield bPrime such that bPrime equals the flip of b1 and b1 is the evaluation of l1. \n",
    "* **operational semantic**: b = eval(l)\n",
    "* inference rule:\n",
    "    \n",
    "$$\\begin{array}{c}\n",
    "\\text{b1 = eval(l1)}\n",
    "\\hspace{1cm}\n",
    "\\text{bp = !b1} \\\\\n",
    "\\hline\n",
    "\\text{bp = eval(Not(l1))} \\\\\n",
    "\\end{array}\\ \\text{Not}$$\n",
    "\n",
    "* Observations:\n",
    "    * This inference rule has many premise so it is not an Axiom\n",
    "    * The conclusion is: $\\text{bp = eval(Not(l1))}$\n",
    "    * The first premis is: $\\text{b1 = eval(l1)}$\n",
    "    * The second premise is: $\\text{bp = !b1}$\n",
    "    * This can be read \"The evaluation of Not(l1) yields bp, because the evaluation of l1 yields b1 and the not of b1 is bp.\"\n",
    "    * ???"
   ]
  },
  {
   "cell_type": "markdown",
   "metadata": {},
   "source": [
    "#### Or(l1,l2) - short circuit\n",
    "* sentence: The evaluation of pattern Or(l1:Logic, l2:Logic) shall yield true iff b1 is true such that b1 is the evaluation of l1 \n",
    "* **operational semantic**: b = eval(l)\n",
    "* inference rule option 1:\n",
    "\n",
    "$$\\begin{array}{c}\n",
    "\\text{b1 = eval(l1)}\n",
    "\\hspace{1cm}\n",
    "\\text{true = b1}\n",
    "\\\\\n",
    "\\hline\n",
    "\\text{b1 = eval(Or(l1,l2))}\n",
    "\\\\\n",
    "\\end{array}\\ \\text{Short-circuit OR}$$\n",
    "\n",
    "* This can be read \"The evaluation of Or(l1,l2) yields b1, because the evaluation of l1 yields b1 and b1 is true.\"\n",
    "* Inference rule 2:\n",
    "\n",
    "$$\\begin{array}{c}\n",
    "\\text{true = eval(l1)}\n",
    "\\\\\n",
    "\\hline\n",
    "\\text{true = eval(Or(l1,l2))}\n",
    "\\\\\n",
    "\\end{array}\\ \\text{Short-circuit OR}$$\n",
    "\n",
    "* This can be read \"The evaluation of Or(l1,l2) yields true, because the evaluation of l1 yields true\"\n",
    "* Both of these inference rules are adequate for expressing the sentence for short circuiting Or(l1,l2)"
   ]
  },
  {
   "cell_type": "markdown",
   "metadata": {},
   "source": [
    "#### Or(l1,l2)\n",
    "* sentence: The evaluation of pattern Or(l1:Logic, l2:Logic) shall yield b2 if b1 is false such that b1 is the evaluation of l1 and b2 is the evaluation of l2. \n",
    "* **operational semantic**: b = eval(l)\n",
    "* inference rule (one option):\n",
    "\n",
    "$$\\begin{array}{c}\n",
    "\\text{b1 = eval(l1)}\n",
    "\\hspace{1cm}\n",
    "\\text{false = b1}\n",
    "\\hspace{1cm}\n",
    "\\text{b2 = eval(l2)}\n",
    "\\\\\n",
    "\\hline\n",
    "\\text{b2 = eval(Or(l1,l2))}\n",
    "\\\\\n",
    "\\end{array}\\ \\text{OR}$$\n",
    "\n",
    "\n",
    "* inference rule (another option):\n",
    "\n",
    "$$\\begin{array}{c}\n",
    "\\text{false = eval(l1)}\n",
    "\\hspace{1cm}\n",
    "\\text{b2 = eval(l2)}\n",
    "\\\\\n",
    "\\hline\n",
    "\\text{b2 = eval(Or(l1,l2))}\n",
    "\\\\\n",
    "\\end{array}\\ \\text{OR}$$\n",
    "\n",
    "* Observations:\n",
    "    * ???"
   ]
  },
  {
   "cell_type": "markdown",
   "metadata": {},
   "source": [
    "#### And(l1,l2) - Short Circuiting\n",
    "* sentence: The evaluation of pattern And(l1:Logic, l2:Logic) shall yield false iff b1 is false such that b1 is the evaluation of l1 \n",
    "* inference rule:\n",
    "\n",
    "TRY IT YOURSELF\n",
    "\n",
    "* Observations:\n",
    "    * ???"
   ]
  },
  {
   "cell_type": "markdown",
   "metadata": {},
   "source": [
    "#### And(l1,l2) \n",
    "* sentence: The evaluation of pattern And(l1:Logic, l2:Logic) shall yield b2 if b1 is true such that b1 is the evaluation of l1 and b2 is the evaluation of l2. \n",
    "* inference rule:\n",
    "\n",
    "TRY IT YOURSELF\n",
    "\n",
    "* Observations:\n",
    "    * ???"
   ]
  },
  {
   "cell_type": "markdown",
   "metadata": {},
   "source": [
    "## List[Int]\n",
    "* Not only are operational semantics and inference rules useful in describing a the behavior of  language, but they can also be helpful as pre code tools.\n",
    "* Generally they are good at defining **inductive logic over sets**\n",
    "* Consider the Scala data type List[Int]\n",
    "* I can define some functions over List[Int] using inference rules and operational sematics."
   ]
  },
  {
   "cell_type": "markdown",
   "metadata": {},
   "source": [
    "### decreaseAllByN\n",
    "* Suppose I want to write a function in Scala that decreases all the values in a list of integers by 1. \n",
    "* I can define the task in English as follows: decreaseAllByN is a function that operates on a Scala List[Int] named “list” and a Scala Int named “n”. decreaseAllByN(list, n) yields Nil if the list is Nil. decreaseAllByN(list, n) yields listp such that listp is the headp prepended to tailp and headp is n – head and tailp is the decreaaseAllByN(tail, n) and head is the first Int of list and tail is the list without the head.\n",
    "* Or, I could define it using an operational sematic and a few inference rules\n",
    "\t* and maybe if, I try really hard I can create tools that generate code based on the inference rules. This way I have documentation that writes it’s own code. I know, that sounds a bit like science fiction, but I think it is entirely possible. In fact, I’d wager that we teach all of the tools to make such a utility throughout this course."
   ]
  },
  {
   "cell_type": "markdown",
   "metadata": {},
   "source": [
    "* operational sematic: $\\text{listp = decreaseAllByN(list,n)}$\n",
    "* inference rules:\n",
    "\n",
    "$$\\begin{array}{c}\n",
    "\\\\\n",
    "\\hline\n",
    "\\text{Nil = decreaseAllByN(Nil,n)}\n",
    "\\\\\n",
    "\\end{array}\\ \\text{(Base)}$$\n",
    "\n",
    "\n",
    "$$\\begin{array}{c}\n",
    "\\text{headPrime = head - n}\n",
    "\\hspace{1cm}\n",
    "\\text{tailPrime = decreaseAllByN(tail, n)}\n",
    "\\hspace{1cm}\n",
    "\\text{listPrime = headPrime :: tailPrime}\n",
    "\\\\\n",
    "\\hline\n",
    "\\text{listPrime = decreaseAllByN(head :: tail,n)}\n",
    "\\\\\n",
    "\\end{array}\\ \\text{(Inductive)}$$\n",
    "\n",
    "* now let us write our code to implement the logic of our operational sematic and inference rules:"
   ]
  },
  {
   "cell_type": "code",
   "execution_count": 2,
   "metadata": {
    "collapsed": false
   },
   "outputs": [
    {
     "ename": "",
     "evalue": "",
     "output_type": "error",
     "traceback": [
      "\u001b[31mscala.NotImplementedError: an implementation is missing\u001b[39m\n  scala.Predef$.$qmark$qmark$qmark(\u001b[32mPredef.scala\u001b[39m:\u001b[32m288\u001b[39m)\n  ammonite.$sess.cmd1$Helper.<init>(\u001b[32mcmd1.sc\u001b[39m:\u001b[32m1\u001b[39m)\n  ammonite.$sess.cmd1$.<init>(\u001b[32mcmd1.sc\u001b[39m:\u001b[32m7\u001b[39m)\n  ammonite.$sess.cmd1$.<clinit>(\u001b[32mcmd1.sc\u001b[39m:\u001b[32m-1\u001b[39m)"
     ]
    }
   ],
   "source": [
    "// Operation Semantic listp = decreaseAllByN(list,n)\n",
    "???"
   ]
  },
  {
   "cell_type": "markdown",
   "metadata": {},
   "source": [
    "## So What?\n",
    "* Why should you care about these semantic rules?\n",
    "* They can document what your code does\n",
    "* They are easy to read once you understand them\n",
    "* They are langauge independent\n",
    "    * which means you can take them and apply them to other languages like C, Python, Java, ...\n",
    "    * Well... They can be langugage independent if they are written well"
   ]
  },
  {
   "cell_type": "markdown",
   "metadata": {},
   "source": [
    "## Some Review\n",
    "* Define **Operational Semantic**:\n",
    "* In an **inference rule**\n",
    "    * what is written below the line?\n",
    "    * what is written above the line?\n",
    "* w.r.t. inference rules, what is an **axiom**?"
   ]
  },
  {
   "cell_type": "markdown",
   "metadata": {},
   "source": [
    "## TODO\n",
    "* Spot exam 1 is this Friday in your recitation\n",
    "* Homework 3 is now due Tuesday 02/12\n",
    "* Homework and quiz 4 will go live on Friday\n",
    "    * This will be a small homework (since you are also working on the project\n",
    "* Project 1 will go live this week (likely Friday)"
   ]
  }
 ],
 "metadata": {
  "anaconda-cloud": {},
  "kernelspec": {
   "display_name": "Scala",
   "language": "scala",
   "name": "scala"
  },
  "language_info": {
   "codemirror_mode": "text/x-scala",
   "file_extension": ".scala",
   "mimetype": "text/x-scala",
   "name": "scala",
   "nbconvert_exporter": "script",
   "version": "2.12.8"
  }
 },
 "nbformat": 4,
 "nbformat_minor": 1
}
