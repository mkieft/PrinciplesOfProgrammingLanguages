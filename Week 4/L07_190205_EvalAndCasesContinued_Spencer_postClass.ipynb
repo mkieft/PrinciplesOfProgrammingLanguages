{
 "cells": [
  {
   "cell_type": "markdown",
   "metadata": {},
   "source": [
    "# Lecture 07 - Eval and Cases Continued"
   ]
  },
  {
   "cell_type": "markdown",
   "metadata": {},
   "source": [
    "## Overview\n",
    "* Logic\n",
    "* Maths\n",
    "* OurList\n",
    "* List[Int]\n",
    "* List[A]"
   ]
  },
  {
   "cell_type": "markdown",
   "metadata": {},
   "source": [
    "## PreClass\n",
    "* Download this doc from week 4\n",
    "* Moving forward I am going to drop this section from my lectures\n",
    "* I will expect you to have the document downloaded by the start of class"
   ]
  },
  {
   "cell_type": "markdown",
   "metadata": {},
   "source": [
    "## Tangent - Visitor Pattern and C++'s \"virtual\" function"
   ]
  },
  {
   "cell_type": "code",
   "execution_count": 1,
   "metadata": {
    "collapsed": false
   },
   "outputs": [
    {
     "data": {
      "text/plain": [
       "defined \u001b[32mtrait\u001b[39m \u001b[36mLogic\u001b[39m\n",
       "defined \u001b[32mclass\u001b[39m \u001b[36mValue\u001b[39m\n",
       "defined \u001b[32mclass\u001b[39m \u001b[36mNot\u001b[39m\n",
       "defined \u001b[32mclass\u001b[39m \u001b[36mOr\u001b[39m\n",
       "defined \u001b[32mclass\u001b[39m \u001b[36mAnd\u001b[39m"
      ]
     },
     "execution_count": 1,
     "metadata": {},
     "output_type": "execute_result"
    }
   ],
   "source": [
    "sealed trait Logic {\n",
    "    // in C++ this definition of \"eval\" would be a \"virtual\" function\n",
    "    // and then the other definitions of \"eval\" would not need an \"override\"\n",
    "    def eval():Boolean = this.eval()\n",
    "}\n",
    "case class Value(b:Boolean) extends Logic {\n",
    "    override def eval():Boolean = {\n",
    "        val Value(b) = this\n",
    "        b\n",
    "    }\n",
    "}\n",
    "case class Not(s1:Logic) extends Logic {\n",
    "    override def eval():Boolean = {\n",
    "        val Not(e) = this\n",
    "        !e.eval()\n",
    "    }\n",
    "}\n",
    "case class Or(s1:Logic, s2:Logic) extends Logic {\n",
    "    override def eval():Boolean = {\n",
    "        val Or(e1,e2) = this\n",
    "        e1.eval() || e2.eval()\n",
    "    }\n",
    "}\n",
    "case class And(s1:Logic, s2:Logic) extends Logic {\n",
    "    override def eval():Boolean = {\n",
    "        val And(e1,e2) = this\n",
    "        e1.eval() && e2.eval()\n",
    "    }\n",
    "}"
   ]
  },
  {
   "cell_type": "markdown",
   "metadata": {},
   "source": [
    "## Logic\n",
    "Consider the code below interprets and tests the interpreter of our language named **Logic**"
   ]
  },
  {
   "cell_type": "code",
   "execution_count": 2,
   "metadata": {
    "collapsed": false
   },
   "outputs": [
    {
     "name": "stdout",
     "output_type": "stream",
     "text": [
      "Success on eval(Value(true))\n",
      "Success on eval(Value(false))\n",
      "Success on eval(Not(Value(false)))\n",
      "Success on eval(Not(Value(true)))\n",
      "Success on eval(Not(Not(Value(true))))\n",
      "Success on eval(And(Value(true),Value(true)))\n",
      "Success on eval(Or(Value(false),Value(false)))\n",
      "Success on eval(Or(Not(Value(false)),Value(true)))\n",
      "Success on eval(Not(Or(Value(false),Value(true))))\n"
     ]
    },
    {
     "data": {
      "text/plain": [
       "defined \u001b[32mtrait\u001b[39m \u001b[36mLogic\u001b[39m\n",
       "defined \u001b[32mclass\u001b[39m \u001b[36mValue\u001b[39m\n",
       "defined \u001b[32mclass\u001b[39m \u001b[36mNot\u001b[39m\n",
       "defined \u001b[32mclass\u001b[39m \u001b[36mOr\u001b[39m\n",
       "defined \u001b[32mclass\u001b[39m \u001b[36mAnd\u001b[39m\n",
       "defined \u001b[32mfunction\u001b[39m \u001b[36meval\u001b[39m\n",
       "defined \u001b[32mfunction\u001b[39m \u001b[36mrunMyTests\u001b[39m\n",
       "defined \u001b[32mfunction\u001b[39m \u001b[36mtestOne\u001b[39m\n",
       "defined \u001b[32mfunction\u001b[39m \u001b[36mtestBaseCases\u001b[39m\n",
       "defined \u001b[32mfunction\u001b[39m \u001b[36mtestUnaries\u001b[39m\n",
       "defined \u001b[32mfunction\u001b[39m \u001b[36mtestBinaries\u001b[39m\n",
       "defined \u001b[32mfunction\u001b[39m \u001b[36mtestOther\u001b[39m"
      ]
     },
     "execution_count": 2,
     "metadata": {},
     "output_type": "execute_result"
    }
   ],
   "source": [
    "// Grammar:\n",
    "/*\n",
    " * Logic --> Value(b) | Not(Logic) | Or(Logic, Logic) | And(Logic, Logic)\n",
    " * b is a Boolean\n",
    " */\n",
    "\n",
    "\n",
    "// AST\n",
    "sealed trait Logic\n",
    "case class Value(b:Boolean) extends Logic\n",
    "case class Not(l1:Logic) extends Logic \n",
    "case class Or(l1:Logic, l2:Logic) extends Logic \n",
    "case class And(l1:Logic, l2:Logic) extends Logic\n",
    "\n",
    "\n",
    "// Interpreter\n",
    "def eval(l:Logic):Boolean = l match {\n",
    "    case Value(b1) => b1\n",
    "    case Not(l1) => {\n",
    "        val b1 = eval(l1)\n",
    "        val b1p = !b1\n",
    "        b1p\n",
    "//         !eval(l1)\n",
    "    }\n",
    "    case And(l1,l2) => eval(l1) && eval(l2)\n",
    "    case Or(l1,l2) => eval(l1) || eval(l2)\n",
    "}\n",
    "\n",
    "\n",
    "\n",
    "// Tests:\n",
    "def runMyTests() = {\n",
    "    \n",
    "    testBaseCases()\n",
    "    testUnaries()\n",
    "    testBinaries()\n",
    "    testOther()\n",
    "    \n",
    "}\n",
    "\n",
    "\n",
    "def testOne(l:Logic, bExpected:Boolean) = {\n",
    "    val bGot = eval(l)\n",
    "    if (bGot == bExpected) {\n",
    "        println(s\"Success on eval($l)\")\n",
    "    } else {\n",
    "        println(s\"Failure on eval($l)\")\n",
    "        println(s\"\\tExpected : $bExpected\")\n",
    "        println(s\"\\tGot      : $bGot\")\n",
    "    }\n",
    "}\n",
    "\n",
    "\n",
    "def testBaseCases() = {\n",
    "    \n",
    "    val l0 = Value(true)\n",
    "    val bExpected0 = true\n",
    "    testOne(l0, bExpected0)\n",
    "    \n",
    "    testOne(Value(false), false)\n",
    "    \n",
    "}\n",
    "\n",
    "def testUnaries() = {\n",
    "    testOne(Not(Value(false)), true)\n",
    "    testOne(Not(Value(true)), false)\n",
    "    testOne(Not(Not(Value(true))), true)\n",
    "}\n",
    "\n",
    "def testBinaries() = {\n",
    "    testOne(And(Value(true),Value(true)), true)\n",
    "\n",
    "    testOne(Or(Value(false),Value(false)), false)\n",
    "}\n",
    "\n",
    "def testOther() = {\n",
    "    // True = not False or True\n",
    "    testOne(Or(Not(Value(false)),Value(true)), true)\n",
    "    // False = not (False or True)\n",
    "    testOne(Not(Or(Value(false),Value(true))), false)\n",
    "}\n",
    "\n",
    "\n",
    "runMyTests()\n",
    "            \n"
   ]
  },
  {
   "cell_type": "markdown",
   "metadata": {},
   "source": [
    "## Maths\n",
    "* Consider our language Maths, let's write an interpreter for it and some tests.\n",
    "* We'll first write a few test cases.\n",
    "* Then I'll give you 5 minutes to get as far as you can, then I'll ask you to help me solve it."
   ]
  },
  {
   "cell_type": "code",
   "execution_count": 3,
   "metadata": {
    "collapsed": false
   },
   "outputs": [
    {
     "name": "stdout",
     "output_type": "stream",
     "text": [
      "Success on doMaths(Number(1))\n",
      "Success on doMaths(Number(-5))\n",
      "Success on doMaths(Negative(Number(2)))\n",
      "Success on doMaths(Negative(Negative(Number(2))))\n",
      "Success on doMaths(Negative(Add(Number(2),Number(3))))\n"
     ]
    },
    {
     "data": {
      "text/plain": [
       "defined \u001b[32mtrait\u001b[39m \u001b[36mMaths\u001b[39m\n",
       "defined \u001b[32mclass\u001b[39m \u001b[36mNumber\u001b[39m\n",
       "defined \u001b[32mclass\u001b[39m \u001b[36mNegative\u001b[39m\n",
       "defined \u001b[32mclass\u001b[39m \u001b[36mAdd\u001b[39m\n",
       "defined \u001b[32mclass\u001b[39m \u001b[36mDivide\u001b[39m\n",
       "defined \u001b[32mclass\u001b[39m \u001b[36mMultiply\u001b[39m\n",
       "defined \u001b[32mfunction\u001b[39m \u001b[36mdoMaths\u001b[39m\n",
       "defined \u001b[32mfunction\u001b[39m \u001b[36mtestHelper\u001b[39m\n",
       "defined \u001b[32mfunction\u001b[39m \u001b[36mmyTests\u001b[39m"
      ]
     },
     "execution_count": 3,
     "metadata": {},
     "output_type": "execute_result"
    }
   ],
   "source": [
    "// Generative Grammar:\n",
    "/* Maths →  Negative(Maths) |\n",
    "            Add(Maths, Maths) | \n",
    "            Multiply(Maths, Maths) |\n",
    "            Divide(Maths, Maths) |\n",
    "            Number(Int)\n",
    " */\n",
    "\n",
    "// AST\n",
    "sealed trait Maths\n",
    "case class Number(n:Int) extends Maths\n",
    "case class Negative(m1:Maths) extends Maths\n",
    "case class Add(m1:Maths, m2:Maths) extends Maths\n",
    "case class Divide(m1:Maths, m2:Maths) extends Maths\n",
    "case class Multiply(m1:Maths, m2:Maths) extends Maths\n",
    "\n",
    "\n",
    "// Interpreter\n",
    "def doMaths(m:Maths):Int = {\n",
    "    m match {\n",
    "        case Number(n1) => n1\n",
    "        case Negative(m1) => -doMaths(m1)\n",
    "        case Add(m1, m2) => doMaths(m1) + doMaths(m2)\n",
    "        case Multiply(m1,m2) => doMaths(m1) * doMaths(m2)\n",
    "        case Divide(m1,m2) => doMaths(m1) / doMaths(m2)\n",
    "    }\n",
    "}\n",
    "\n",
    "\n",
    "def testHelper(m:Maths, nExpected:Int) = {\n",
    "    val nGot = doMaths(m)\n",
    "    if (nGot == nExpected) {\n",
    "        println(s\"Success on doMaths($m)\")\n",
    "    } else {\n",
    "        println(s\"Failure on doMaths($m)\")\n",
    "        println(s\"\\tExpected : $nExpected\")\n",
    "        println(s\"\\tGot      : $nGot\")\n",
    "    }  \n",
    "}\n",
    "\n",
    "\n",
    "def myTests() = {\n",
    "    \n",
    "    // base cases\n",
    "    testHelper(Number(1), 1)\n",
    "    testHelper(Number(-5), -5)\n",
    "    \n",
    "    // Negative\n",
    "    val m0:Maths = Negative(Number(2))\n",
    "    val n0:Int = -2\n",
    "    testHelper(m0,n0)\n",
    "    \n",
    "    val m1:Maths = Negative(Negative(Number(2)))\n",
    "    val n1:Int = 2\n",
    "    testHelper(m1,n1)\n",
    "    \n",
    "    // Add\n",
    "    \n",
    "    // Divide\n",
    "    \n",
    "    // Multiply\n",
    "    \n",
    "    // Other\n",
    "    testHelper(Negative(Add(Number(2),Number(3))), -5)\n",
    "    \n",
    "}\n",
    "\n",
    "\n",
    "myTests\n",
    "\n"
   ]
  },
  {
   "cell_type": "markdown",
   "metadata": {},
   "source": [
    "## OurList\n",
    "* Case matching is quite helpful in our interpreter.\n",
    "* It can also be quite helpful for solving a variety of other problems.\n",
    "* Consider the following definition for a singly linked list over Int named **OurList**\n",
    "* Help me write some functions that operate on OurList"
   ]
  },
  {
   "cell_type": "code",
   "execution_count": 4,
   "metadata": {
    "collapsed": false
   },
   "outputs": [
    {
     "data": {
      "text/plain": [
       "defined \u001b[32mtrait\u001b[39m \u001b[36mOurList\u001b[39m\n",
       "defined \u001b[32mclass\u001b[39m \u001b[36mNil\u001b[39m\n",
       "defined \u001b[32mclass\u001b[39m \u001b[36mNode\u001b[39m\n",
       "defined \u001b[32mfunction\u001b[39m \u001b[36mgetHead\u001b[39m\n",
       "defined \u001b[32mfunction\u001b[39m \u001b[36mgetTail\u001b[39m\n",
       "defined \u001b[32mfunction\u001b[39m \u001b[36mcons\u001b[39m"
      ]
     },
     "execution_count": 4,
     "metadata": {},
     "output_type": "execute_result"
    }
   ],
   "source": [
    "// Grammar\n",
    "/*\n",
    "    OurList -> Nil | Node(n, OurList)\n",
    "    n is Scala Int\n",
    " */\n",
    "\n",
    "\n",
    "// AST\n",
    "sealed trait OurList\n",
    "case class Nil() extends OurList\n",
    "case class Node(n:Int, ol:OurList) extends OurList\n",
    "\n",
    "\n",
    "// Functions\n",
    "\n",
    "\n",
    "/* getHead\n",
    " * Scala devs often refer to the head of the list as the first value\n",
    " * in the list. If the list is empty throw \"???\".\n",
    " * @param ol: OurList\n",
    " * @throws: ???, if the list is empty\n",
    " * @returns Int: the first integer in $ol\n",
    " */\n",
    "def getHead(ol:OurList):Int = ol match {\n",
    "    case Nil() => ???\n",
    "    case Node(n,ol) => n\n",
    "}\n",
    "\n",
    "\n",
    "/* getTail\n",
    " * Scala devs often refer to the tail of the list as everything that comes after\n",
    " * the head of the list. If the list is empty throw \"???\".\n",
    " * @param ol: OurList\n",
    " * @throws: ??? if the list is empty\n",
    " * @returns OurList: the remainder of $ol once the head is chopped off\n",
    " */\n",
    "def getTail(ol:OurList):OurList = ol match {\n",
    "    case Nil() => ???\n",
    "    case Node(n,ol) => ol\n",
    "}\n",
    "\n",
    "\n",
    "/* cons\n",
    " * appends $n to $ol\n",
    " * @param n: Int\n",
    " * @param ol: OurList\n",
    " * @returns: $ol with $n prepended to it\n",
    " */\n",
    "def cons(n:Int, ol:OurList):OurList = Node(n, ol)\n",
    "\n"
   ]
  },
  {
   "cell_type": "markdown",
   "metadata": {},
   "source": [
    "## List[Int]\n",
    "* Scala has a data type called a List[A].\n",
    "* One instance of A could be Int\n",
    "* Let us write some functions over List[Int]\n",
    "\n",
    "\n",
    "* But first, let us look at how List[Int] can be created"
   ]
  },
  {
   "cell_type": "code",
   "execution_count": 4,
   "metadata": {
    "collapsed": false
   },
   "outputs": [
    {
     "name": "stderr",
     "output_type": "stream",
     "text": [
      "cmd4.sc:12: value :: is not a member of object cmd4.this.cmd3.Nil\n",
      "val res4_6 = println(1 :: 2 :: 3 :: Nil)\n",
      "                                 ^cmd4.sc:6: type mismatch;\n",
      " found   : cmd4.this.cmd3.Nil.type\n",
      " required: List[Int]\n",
      "val l0:List[Int] = Nil // it's base case is Nil\n",
      "                   ^Compilation Failed"
     ]
    },
    {
     "ename": "",
     "evalue": "",
     "output_type": "error",
     "traceback": [
      "Compilation Failed"
     ]
    }
   ],
   "source": [
    "// One way to construct a List[Int]\n",
    "println(List(1,2,3))\n",
    "\n",
    "// Other ways to construct a List[Int]\n",
    "// Note, the scala List type has a method called \"cons\" which is denoted \"::\"\n",
    "// here is an example of how it's used to construct lists\n",
    "val l0:List[Int] = Nil // it's base case is Nil\n",
    "val l1 = 3 :: l0\n",
    "val l2 = 2 :: l1\n",
    "val l3 = 1 :: l2\n",
    "println(l3)\n",
    "\n",
    "println(1 :: 2 :: 3 :: Nil)"
   ]
  },
  {
   "cell_type": "code",
   "execution_count": null,
   "metadata": {
    "collapsed": false
   },
   "outputs": [],
   "source": [
    "/* :: (cons) can also be used to decompose a list with mattern matching\n",
    "    I like to use \"h\" for \"head\"\n",
    "    I like to use \"t\" for \"tail\"\n",
    " */\n",
    "def getHead(l:List[Int]):Int = l match {\n",
    "    case Nil => ???\n",
    "    case h :: _ => h\n",
    "    // case h :: t => h  // we don't use t, so we might use the _ wildcard\n",
    "}\n",
    "\n",
    "\n",
    "def getTail(l:List[Int]):List[Int] = l match {\n",
    "    case Nil => ???\n",
    "    case _ :: t => t\n",
    "    // case h :: t => t  // we don't use h, so we might use the _ wildcard\n",
    "}\n",
    "\n",
    "\n",
    "/*\n",
    "    I like to \"prime\" my varialbes:\n",
    "        val hp = <do something to h>\n",
    "    An common alternative to priming:\n",
    "        val hNew = <do something to h>\n",
    " */\n",
    "def add1ToEach(l:List[Int]):List[Int] = l match {\n",
    "    case Nil => Nil\n",
    "    case h :: t => h+1 :: add1ToEach(t)\n",
    "    // case h :: t => {\n",
    "    //     val hp = h + 1\n",
    "    //     val tp = add1ToEach(t)\n",
    "    //     val lp = hp :: tp\n",
    "    //     lp\n",
    "    // }\n",
    "}\n",
    "\n",
    "\n",
    "// TODO: add1ToEachTailRec\n",
    "def add1ToEachTailRec(l:List[Int], acc:List[Int] = Nil):List[Int] = l match {\n",
    "    case Nil => acc\n",
    "    case head :: tail => add1ToEachTailRec(tail, acc ::: List(head + 1))\n",
    "//     First try is below\n",
    "//     This fails because it reverses the List\n",
    "//     case head :: tail => add1ToEachTailRec(tail, (head + 1) :: acc)\n",
    "}\n",
    "\n",
    "\n",
    "// TODO: reverse a List\n"
   ]
  },
  {
   "cell_type": "markdown",
   "metadata": {},
   "source": [
    "## List[A]\n",
    "* As I mentioned, Scala has a type List[A]\n",
    "    * where A could be anything\n",
    "    * it might be an Int, like we saw above\n",
    "    * it might not be an Int. It could be a Boolean, String, a Homemade Class, or even another List\n",
    "* some functions can be written to work on List[A]\n",
    "    * Just so long as the function does something generic\n",
    "    * \"Just so long as the functions operations are closed on all types\"\n",
    "        * We'll look at that statement another time"
   ]
  },
  {
   "cell_type": "code",
   "execution_count": null,
   "metadata": {
    "collapsed": false
   },
   "outputs": [],
   "source": [
    "// reversing a List can happen regardless of the type of A\n",
    "// Is reverseList tail recursive ???\n",
    "// How could we make this function faster ???\n",
    "\n",
    "def reverseList[A](l:List[A], acc:List[A] = Nil):List[A] = l match {\n",
    "    case Nil => acc\n",
    "    case h :: t => reverseList(t, h :: acc)\n",
    "}\n",
    "\n",
    "\n",
    "def test[A](l:List[A], lRevExpected:List[A]) = {\n",
    "    val lRevGot = reverseList(l)\n",
    "    if (lRevGot == lRevExpected) {\n",
    "        println(s\"Success on $l\")\n",
    "    } else {\n",
    "        println(s\"Failed to reverse list $l\")\n",
    "        println(s\"\\tExpected : $lRevExpected\")\n",
    "        println(s\"\\tGot      : $lRevExpected\")\n",
    "    }\n",
    "}\n",
    "\n",
    "// write some tests..."
   ]
  },
  {
   "cell_type": "markdown",
   "metadata": {},
   "source": [
    "## Qs ???"
   ]
  },
  {
   "cell_type": "markdown",
   "metadata": {},
   "source": [
    "## More Problems\n",
    "* What else might we want to solve?\n",
    "* Perhaps some trees?"
   ]
  },
  {
   "cell_type": "markdown",
   "metadata": {},
   "source": [
    "## Solutions"
   ]
  },
  {
   "cell_type": "markdown",
   "metadata": {},
   "source": [
    "### Logic"
   ]
  },
  {
   "cell_type": "code",
   "execution_count": null,
   "metadata": {
    "collapsed": false
   },
   "outputs": [],
   "source": [
    "// Generative Grammar:\n",
    "/* Maths →  Negative(Maths) |\n",
    "            Add(Maths, Maths) | \n",
    "            Multiply(Maths, Maths) |\n",
    "            Divide(Maths, Maths) |\n",
    "            Number(Int)\n",
    " */\n",
    "\n",
    "// AST\n",
    "sealed trait Maths\n",
    "case class Number(n:Int) extends Maths\n",
    "case class Negative(m1:Maths) extends Maths\n",
    "case class Add(m1:Maths, m2:Maths) extends Maths\n",
    "case class Divide(m1:Maths, m2:Maths) extends Maths\n",
    "case class Multiply(m1:Maths, m2:Maths) extends Maths\n",
    "\n",
    "\n",
    "// Interpreter\n",
    "def doMaths(m:Maths):Int = m match {\n",
    "    case Number(n) => n\n",
    "    case Negative(m1) => -doMaths(m1)\n",
    "    case Add(m1,m2) => doMaths(m1) + doMaths(m2)\n",
    "    case Divide(m1, m2) => doMaths(m1) / doMaths(m2)\n",
    "    case Multiply(m1,m2) => doMaths(m1) * doMaths(m2)\n",
    "}\n",
    "\n",
    "\n",
    "def testHelper(m:Maths, nExpected:Int) = {\n",
    "    val nGot = doMaths(m)\n",
    "    if (nGot == nExpected) {\n",
    "        println(s\"Success on doMaths($m)\")\n",
    "    } else {\n",
    "        println(s\"Failure on doMaths($m)\")\n",
    "        println(s\"\\tExpected : $nExpected\")\n",
    "        println(s\"\\tGot      : $nGot\")\n",
    "    }  \n",
    "}\n",
    "\n",
    "\n",
    "def myTests() = {\n",
    "    \n",
    "    // base cases\n",
    "    testHelper(Number(1), 1)\n",
    "    testHelper(Number(-5), -5)\n",
    "    \n",
    "    // Negative\n",
    "    testHelper(Negative(Number(5)), -5)\n",
    "    testHelper(Negative(Negative(Number(5))), 5)\n",
    "    \n",
    "    // Add\n",
    "    testHelper(Add(Number(1),Number(4)), 5)\n",
    "    \n",
    "    // Divide\n",
    "    testHelper(Divide(Number(4),Number(2)), 2)\n",
    "    \n",
    "    // Multiply\n",
    "    testHelper(Multiply(Number(1),Number(4)), 4)\n",
    "    \n",
    "    // Other\n",
    "    // 1 + 2 * 3\n",
    "    testHelper(Add(Number(1),Multiply(Number(2),Number(3))), 7)\n",
    "    // (1 + 2) * 3\n",
    "    testHelper(Multiply(Add(Number(1),Number(2)),Number(3)), 9)\n",
    "    \n",
    "}\n",
    "\n",
    "\n",
    "myTests()\n",
    "\n"
   ]
  },
  {
   "cell_type": "markdown",
   "metadata": {},
   "source": [
    "### List[A]"
   ]
  },
  {
   "cell_type": "code",
   "execution_count": null,
   "metadata": {
    "collapsed": false
   },
   "outputs": [],
   "source": [
    "// reversing a List can happen regardless of the type of A\n",
    "// Is this function tail recursive? YES\n",
    "// how could we make this function faster? Add the @tailrec decorator\n",
    "\n",
    "import scala.annotation.tailrec\n",
    "\n",
    "@tailrec\n",
    "def reverseList[A](l:List[A], acc:List[A] = Nil):List[A] = l match {\n",
    "    case Nil => acc\n",
    "    case h :: t => reverseList(t, h :: acc)\n",
    "}\n",
    "\n",
    "\n",
    "def test[A](l:List[A], lRevExpected:List[A]) = {\n",
    "    val lRevGot = reverseList(l)\n",
    "    if (lRevGot == lRevExpected) {\n",
    "        println(s\"Success on $l\")\n",
    "    } else {\n",
    "        println(s\"Failed to reverse list $l\")\n",
    "        println(s\"\\tExpected : $lRevExpected\")\n",
    "        println(s\"\\tGot      : $lRevExpected\")\n",
    "    }\n",
    "}\n",
    "test(List(3,2,1),List(1,2,3))\n",
    "test(\"World!\"::\"Hello \"::Nil, \"Hello \"::\"World!\"::Nil)"
   ]
  },
  {
   "cell_type": "markdown",
   "metadata": {},
   "source": [
    "## TODO\n",
    "* Spot exam 1 is this Friday in your recitation\n",
    "* Homework 3 is now due Tuesday 02/12\n",
    "* Homework and quiz 4 will go live on Friday\n",
    "    * This will be a small homework (since you are also working on the project)\n",
    "* Project 1 will go live this week (likely Friday)\n",
    "* Tentative Friday Recitation Plan\n",
    "    * 30 minute exam\n",
    "    * 5 minute break\n",
    "    * 15 minutes on creating stand-alone compile-able Scala files\n",
    "        * Including executable objects\n",
    "        * Including test files\n",
    "        * Preparation for the first project\n"
   ]
  }
 ],
 "metadata": {
  "anaconda-cloud": {},
  "kernelspec": {
   "display_name": "Scala",
   "language": "scala",
   "name": "scala"
  },
  "language_info": {
   "codemirror_mode": "text/x-scala",
   "file_extension": ".scala",
   "mimetype": "text/x-scala",
   "name": "scala",
   "nbconvert_exporter": "script",
   "version": "2.12.8"
  }
 },
 "nbformat": 4,
 "nbformat_minor": 1
}
