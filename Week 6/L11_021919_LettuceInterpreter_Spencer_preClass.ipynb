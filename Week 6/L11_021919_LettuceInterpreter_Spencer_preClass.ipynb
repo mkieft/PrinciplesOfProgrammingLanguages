{
 "cells": [
  {
   "cell_type": "markdown",
   "metadata": {},
   "source": [
    "# L11: Lettuce Operational Semantics"
   ]
  },
  {
   "cell_type": "markdown",
   "metadata": {},
   "source": [
    "## Overview\n",
    "* The Lettuce AST\n",
    "* Well Formed vs ILL Formed expressions\n",
    "* Interpreter\n",
    "* Evaluation\n",
    "* Teaser on HOFs"
   ]
  },
  {
   "cell_type": "markdown",
   "metadata": {},
   "source": [
    "## The Lettuce AST"
   ]
  },
  {
   "cell_type": "markdown",
   "metadata": {},
   "source": [
    "* Here is a grammar that I'm using for lecture today\n",
    "    * $$\\begin{array}{rcll}\n",
    "\\mathbf{Program} & \\rightarrow & TopLevel(Expr) \\\\\n",
    "\\mathbf{Expr} & \\rightarrow & Value \\\\\n",
    " & | & Ident(\\mathbf{Identifier}) \\\\\n",
    " & | & Plus(\\mathbf{Expr}, \\mathbf{Expr}) \\\\\n",
    " & | & Let( \\mathbf{Identifier}, \\mathbf{Expr}, \\mathbf{Expr}) & \\text{let identifier = expr in expr} \\\\\n",
    "\\mathbf{Value} & \\rightarrow & Const(\\mathbf{Number}) \\\\\n",
    " & | & True \\\\\n",
    " & | & False \\\\\n",
    "\\mathbf{Identifier} & \\rightarrow & String \\\\\n",
    "\\mathbf{Number} & \\rightarrow & Double \\\\\n",
    "\\end{array}$$"
   ]
  },
  {
   "cell_type": "code",
   "execution_count": 1,
   "metadata": {
    "collapsed": false
   },
   "outputs": [
    {
     "data": {
      "text/plain": [
       "defined \u001b[32mtrait\u001b[39m \u001b[36mProgram\u001b[39m\n",
       "defined \u001b[32mtrait\u001b[39m \u001b[36mExpr\u001b[39m\n",
       "defined \u001b[32mclass\u001b[39m \u001b[36mTopLevel\u001b[39m\n",
       "defined \u001b[32mclass\u001b[39m \u001b[36mIdent\u001b[39m\n",
       "defined \u001b[32mclass\u001b[39m \u001b[36mPlus\u001b[39m\n",
       "defined \u001b[32mclass\u001b[39m \u001b[36mLet\u001b[39m\n",
       "defined \u001b[32mtrait\u001b[39m \u001b[36mValue\u001b[39m\n",
       "defined \u001b[32mclass\u001b[39m \u001b[36mConst\u001b[39m\n",
       "defined \u001b[32mobject\u001b[39m \u001b[36mTrue\u001b[39m\n",
       "defined \u001b[32mobject\u001b[39m \u001b[36mFalse\u001b[39m\n",
       "defined \u001b[32mtype\u001b[39m \u001b[36mIdentifier\u001b[39m\n",
       "defined \u001b[32mtype\u001b[39m \u001b[36mNumber\u001b[39m"
      ]
     },
     "execution_count": 1,
     "metadata": {},
     "output_type": "execute_result"
    }
   ],
   "source": [
    "sealed trait Program  // Program\n",
    "sealed trait Expr  // Expr\n",
    "\n",
    "case class TopLevel(e1:Expr) extends Program  // TopLevel(Expr)\n",
    "\n",
    "case class Ident(i1: Identifier) extends Expr  // Ident(Identifier)\n",
    "case class Plus(e1:Expr, e2:Expr) extends Expr  // Plus(Expr, Expr)\n",
    "case class Let(i1:Identifier, e1:Expr, e2:Expr) extends Expr  // Let(Identifier, Expr, Expr)\n",
    "\n",
    "sealed trait Value extends Expr  // Value\n",
    "case class Const(n:Number) extends Value  // Const(Number)\n",
    "case object True extends Value  // True\n",
    "case object False extends Value  // False\n",
    "\n",
    "type Identifier = String  // Identifier\n",
    "type Number = Double  // Number"
   ]
  },
  {
   "cell_type": "markdown",
   "metadata": {},
   "source": [
    "#### Example\n",
    "\n",
    "~~~\n",
    "let w = [\n",
    "        let z = 10 in\n",
    "            z + z\n",
    "    ] in w + w\n",
    "~~~\n",
    "\n",
    "* Note that here, 'z' is a temp variable defined in the binding expression of 'w'\n",
    "* The concrete value of the program is: 40"
   ]
  },
  {
   "cell_type": "code",
   "execution_count": 3,
   "metadata": {
    "collapsed": false
   },
   "outputs": [
    {
     "data": {
      "text/plain": [
       "\u001b[36mprogram1\u001b[39m: \u001b[32mProgram\u001b[39m = \u001b[33mTopLevel\u001b[39m(\n",
       "  \u001b[33mLet\u001b[39m(\n",
       "    \u001b[32m\"w\"\u001b[39m,\n",
       "    \u001b[33mLet\u001b[39m(\u001b[32m\"z\"\u001b[39m, \u001b[33mConst\u001b[39m(\u001b[32m10.0\u001b[39m), \u001b[33mPlus\u001b[39m(\u001b[33mIdent\u001b[39m(\u001b[32m\"z\"\u001b[39m), \u001b[33mIdent\u001b[39m(\u001b[32m\"z\"\u001b[39m))),\n",
       "    \u001b[33mPlus\u001b[39m(\u001b[33mIdent\u001b[39m(\u001b[32m\"w\"\u001b[39m), \u001b[33mIdent\u001b[39m(\u001b[32m\"w\"\u001b[39m))\n",
       "  )\n",
       ")\n",
       "\u001b[36mvalue1\u001b[39m: \u001b[32mValue\u001b[39m = \u001b[33mConst\u001b[39m(\u001b[32m40.0\u001b[39m)"
      ]
     },
     "execution_count": 3,
     "metadata": {},
     "output_type": "execute_result"
    }
   ],
   "source": [
    "val program1: Program = TopLevel(\n",
    "    Let(\n",
    "        \"w\",\n",
    "        Let(\n",
    "            \"z\",\n",
    "            Const(10.0),\n",
    "            Plus(Ident(\"z\"), Ident(\"z\"))\n",
    "        ),\n",
    "        Plus(\n",
    "            Ident(\"w\"),\n",
    "            Ident(\"w\")\n",
    "        )\n",
    "    )\n",
    ")\n",
    "\n",
    "val value1:Value = Const(40.0)\n",
    "\n",
    "// If evaluate was defined, we could assert the following:\n",
    "// assert(evaluate(program1) == value1)"
   ]
  },
  {
   "cell_type": "markdown",
   "metadata": {},
   "source": [
    "## Well Formed vs ILL Formed expressions\n",
    "__Fact:__ Abstract Syntax Trees are built from Context Free Grammars. Unfortunately, due to limitations arising\n",
    "from context freedom (i.e, LHS of each rule is just a single nonterminal), we cannot really enforce rules like \n",
    "- Variables should be declared before use \n",
    "    - **observed in class last week**\n",
    "    - We'll review it today today\n",
    "\n",
    "Consider our definition of the language lettuce. There are some valid expressions that just don't have logical values."
   ]
  },
  {
   "cell_type": "markdown",
   "metadata": {},
   "source": [
    "### Lettuce Design Decisions\n",
    "We shall write our interpreter to catch errors in Lettuce programs at compile time (static time). \n",
    "- Variables should be declared before use (we can catch this using a special declare before use check).\n",
    "    - Catch using the wellFormed function - Scope analysis\n",
    "    - And it's in the course notes"
   ]
  },
  {
   "cell_type": "markdown",
   "metadata": {},
   "source": [
    "## wellFormed\n",
    "* Let us write a function wellFormed that analyzes the scope of variables in our program\n",
    "* It will ensure that variables are declared before use\n",
    "* It will ensure that a variable is not used after the scope has ended\n",
    "* In general, this should help us better understand scope"
   ]
  },
  {
   "cell_type": "markdown",
   "metadata": {},
   "source": [
    "### Inference Rules Plus\n",
    "* Operational sematic\n",
    "    * wellFormed(e, S)\n",
    "* Plus pattern\n",
    "    * e1 + e2\n",
    "* Inference rule\n",
    "    * $$\\begin{array}\n",
    "???\n",
    "\\\\\n",
    "\\hline\n",
    "???\n",
    "\\\\\n",
    "\\end{array} {wellFormedPlus}$$"
   ]
  },
  {
   "cell_type": "code",
   "execution_count": 5,
   "metadata": {
    "collapsed": false
   },
   "outputs": [
    {
     "data": {
      "text/plain": [
       "defined \u001b[32mfunction\u001b[39m \u001b[36mwellFormed\u001b[39m"
      ]
     },
     "execution_count": 5,
     "metadata": {},
     "output_type": "execute_result"
    }
   ],
   "source": [
    "// operational semantic: wellFormed(e, S)\n",
    "def wellFormed(e:Expr, S:Set[String] = Set()):Boolean = {\n",
    "    e match {\n",
    "        case True | False | Const(_) => true  // wellFormedValue\n",
    "        case Let(x, eBind, eBody) => wellFormed(eBind,S) && wellFormed(eBody, S + x) // wellFormedLet\n",
    "        case Ident(x) => S contains x  // wellFormedIdent\n",
    "        case _ => ???  // wellFormedPlus\n",
    "        case _ => false\n",
    "    }\n",
    "}"
   ]
  },
  {
   "cell_type": "markdown",
   "metadata": {},
   "source": [
    "#### Testing wellFormed\n",
    "* Now that we have a wellFormed function, I think we should test it a little bit"
   ]
  },
  {
   "cell_type": "markdown",
   "metadata": {},
   "source": [
    "* Given the partial implementation of wellFormed that we have so far, what sort of expressions ought to be well formed?"
   ]
  },
  {
   "cell_type": "code",
   "execution_count": 6,
   "metadata": {
    "collapsed": false
   },
   "outputs": [
    {
     "ename": "",
     "evalue": "",
     "output_type": "error",
     "traceback": [
      "\u001b[31mscala.NotImplementedError: an implementation is missing\u001b[39m\n  scala.Predef$.$qmark$qmark$qmark(\u001b[32mPredef.scala\u001b[39m:\u001b[32m288\u001b[39m)\n  ammonite.$sess.cmd5$Helper.<init>(\u001b[32mcmd5.sc\u001b[39m:\u001b[32m9\u001b[39m)\n  ammonite.$sess.cmd5$.<init>(\u001b[32mcmd5.sc\u001b[39m:\u001b[32m7\u001b[39m)\n  ammonite.$sess.cmd5$.<clinit>(\u001b[32mcmd5.sc\u001b[39m:\u001b[32m-1\u001b[39m)"
     ]
    }
   ],
   "source": [
    "// Concrete: true\n",
    "val e0: Expr = True\n",
    "assert(wellFormed(e0))\n",
    "\n",
    "// Concrete: let x = 1 in x\n",
    "val e1: Expr = Let(\"x\", Const(1),Ident(\"x\"))\n",
    "assert(wellFormed(e1))\n",
    "\n",
    "// Concrete: let x = 2 in x + x\n",
    "val e2: Expr = ???\n",
    "assert(wellFormed(e2))"
   ]
  },
  {
   "cell_type": "markdown",
   "metadata": {},
   "source": [
    "* Given the partial implementation of wellFormed that we have so far, what sort of expressions ought to be ill formed (not well formed)?"
   ]
  },
  {
   "cell_type": "code",
   "execution_count": 17,
   "metadata": {
    "collapsed": false
   },
   "outputs": [
    {
     "ename": "",
     "evalue": "",
     "output_type": "error",
     "traceback": [
      "\u001b[31mscala.NotImplementedError: an implementation is missing\u001b[39m\n  scala.Predef$.$qmark$qmark$qmark(\u001b[32mPredef.scala\u001b[39m:\u001b[32m288\u001b[39m)\n  ammonite.$sess.cmd16$Helper.<init>(\u001b[32mcmd16.sc\u001b[39m:\u001b[32m8\u001b[39m)\n  ammonite.$sess.cmd16$.<init>(\u001b[32mcmd16.sc\u001b[39m:\u001b[32m7\u001b[39m)\n  ammonite.$sess.cmd16$.<clinit>(\u001b[32mcmd16.sc\u001b[39m:\u001b[32m-1\u001b[39m)"
     ]
    }
   ],
   "source": [
    "// val illFormed:(Expr) => Boolean = (e) => !wellFormed(e)\n",
    "val illFormed:(Expr) => Boolean = !wellFormed(_)  // _ the magician\n",
    "\n",
    "// Concrete: x\n",
    "val e3: Expr = Ident(\"x\")\n",
    "assert(illFormed(e3))\n",
    "\n",
    "// Concrete: let x = 1 + x in x + x\n",
    "val e4: Expr = ???\n",
    "assert(illFormed(e4))"
   ]
  },
  {
   "cell_type": "markdown",
   "metadata": {},
   "source": [
    "* What is the wellFormed function? \n",
    "    * It is a scope analyzer that runs in static time\n",
    "    * It checks at static time if the expression is valid\n",
    "        * static time == compilation time == before evaluation == before dynamic time\n",
    "    * It states a lot about the scope of a variable/identifier\n",
    "* See the course notes for more details"
   ]
  },
  {
   "cell_type": "markdown",
   "metadata": {},
   "source": [
    "## Evaluation of Lettuce\n",
    "* Let’s write an interpreter for the Lettuce language."
   ]
  },
  {
   "cell_type": "markdown",
   "metadata": {},
   "source": [
    "### Operational Semantic (Op. Sem.)\n",
    "* First we’ll define an operational sematic\n",
    "    * If I were a programming linguist I would write the op. sem.:\n",
    "        * $\\sigma \\models \\texttt{e} \\Downarrow v$\n",
    "        * this reads: In a variable environemtn sigma ($\\sigma$), the expression “e” is evaluated in 0-or-many steps to a value “v”\n",
    "    * But I’m not a programming linguist and I don’t love this notation instead, Ill write: “**v = eval(e, env)**”\n",
    "    * What is env? Why is it useful? We didn’t need this for “Logic” or “Maths”, what could this be?\n",
    "    * “env” – often denoted $\\sigma$ (sigma) - is our variable environment. \n",
    "        * It maps Identifiers to values\n",
    "            * …for now... Later on we’ll allow it to map to locations, expressions and values.\n",
    "        * environments map variables “x” to values “v”\n",
    "* Let’s look at the function definition\n",
    "* Op. Sem.:\n",
    "    * v = eval(e, env)"
   ]
  },
  {
   "cell_type": "code",
   "execution_count": 8,
   "metadata": {
    "collapsed": false
   },
   "outputs": [
    {
     "data": {
      "text/plain": [
       "defined \u001b[32mfunction\u001b[39m \u001b[36meval0\u001b[39m"
      ]
     },
     "execution_count": 8,
     "metadata": {},
     "output_type": "execute_result"
    }
   ],
   "source": [
    "// writen as eval0, because, Jupyter Notebooks...\n",
    "def eval0(e:Expr, env:Map[String, Value] = Map()): Value = ???"
   ]
  },
  {
   "cell_type": "markdown",
   "metadata": {},
   "source": [
    "* Observations\n",
    "    * e: Expr, nothing new there\n",
    "    * The type of env is “Map[String, Value]”\n",
    "        * Map[A,B] is a Scala type – often denoted Map[K,V] because key-value pairs...\n",
    "        * It’s an awful lot like python dictionary, or JavaScript Objects\n",
    "        * Generally I would call these a variant of an “associative array”\n",
    "    * The env has a default value \"Map()\" - the empty map\n",
    "    * the return type is a “Value” – a subset of all “Expr”\n",
    "        * Unlike Maths and Logic, Lettuce has many types in it’s value domain\n",
    "            * Maths returned an Int\n",
    "            * Logic returned a Boolean\n",
    "            * eval must return both Doubles and Booleans... but HOW???\n",
    "                * We have an abstract type, \"Value\" that works quite well\n",
    "        * We can no longer return simple Scala types like “Int”, \"Double\", or “Boolean”\n",
    "        * We must return an absract type, here \"Value\""
   ]
  },
  {
   "cell_type": "markdown",
   "metadata": {},
   "source": [
    "### Inference Rules\n",
    "* Now for some inference rules!\n",
    "* I’ll write a rule for True, and ask you to write your own for False and Const(n)"
   ]
  },
  {
   "cell_type": "markdown",
   "metadata": {},
   "source": [
    "* True\n",
    "    * $$\\begin{array} & \\\\\n",
    "\\hline\n",
    "True\\ =\\ eval(True,\\ env)\\\\\n",
    "\\end{array} \\text{evalTrue}$$"
   ]
  },
  {
   "cell_type": "markdown",
   "metadata": {},
   "source": [
    "* False\n",
    "    * $$\\begin{array} & \n",
    "\\\\\n",
    "\\hline\n",
    "False = eval(False, env)\n",
    "\\\\\n",
    "\\end{array} \\text{evalFalse}$$"
   ]
  },
  {
   "cell_type": "markdown",
   "metadata": {},
   "source": [
    "* Const\n",
    "    * $$\\begin{array} & \n",
    "\\\\\n",
    "\\hline\n",
    "Const(n) = eval(Const(n), env) \n",
    "\\\\\n",
    "\\end{array} \\text{evalConst}$$"
   ]
  },
  {
   "cell_type": "markdown",
   "metadata": {},
   "source": [
    "* Let’s code it"
   ]
  },
  {
   "cell_type": "code",
   "execution_count": 9,
   "metadata": {
    "collapsed": false
   },
   "outputs": [
    {
     "data": {
      "text/plain": [
       "defined \u001b[32mfunction\u001b[39m \u001b[36meval1\u001b[39m"
      ]
     },
     "execution_count": 9,
     "metadata": {},
     "output_type": "execute_result"
    }
   ],
   "source": [
    "def eval1(e:Expr, env:Map[String, Value] = Map()): Value = e match {\n",
    "    case _ => ???  // evalTrue\n",
    "    case _ => ???  // evalFalse\n",
    "    case _ => ???  // evalConst\n",
    "    case _ => ???\n",
    "}"
   ]
  },
  {
   "cell_type": "markdown",
   "metadata": {},
   "source": [
    "* Values\n",
    "    * $$\\begin{array} & \n",
    "\\\\\n",
    "\\hline\n",
    "Value = eval(Value, env) \\\\\n",
    "\\end{array} \\text{evalValue}$$"
   ]
  },
  {
   "cell_type": "code",
   "execution_count": 10,
   "metadata": {
    "collapsed": false
   },
   "outputs": [
    {
     "data": {
      "text/plain": [
       "defined \u001b[32mfunction\u001b[39m \u001b[36meval2\u001b[39m"
      ]
     },
     "execution_count": 10,
     "metadata": {},
     "output_type": "execute_result"
    }
   ],
   "source": [
    "def eval2(e:Expr, env:Map[String, Value] = Map()): Value = e match {\n",
    "    case _ => ???  // evalVal\n",
    "    case _ => ???\n",
    "}"
   ]
  },
  {
   "cell_type": "markdown",
   "metadata": {},
   "source": [
    "* Here is an inference rule for Ident\n",
    "    * $$\\begin{array} &\n",
    "Value = env(Identifier) \\\\\n",
    "\\hline\n",
    "Value = eval(Ident(Identifier), env)\\\\\n",
    "\\end{array} {evalIdent}$$"
   ]
  },
  {
   "cell_type": "code",
   "execution_count": 11,
   "metadata": {
    "collapsed": false
   },
   "outputs": [
    {
     "data": {
      "text/plain": [
       "defined \u001b[32mfunction\u001b[39m \u001b[36meval3\u001b[39m"
      ]
     },
     "execution_count": 11,
     "metadata": {},
     "output_type": "execute_result"
    }
   ],
   "source": [
    "def eval3(e:Expr, env:Map[String, Value] = Map()): Value = e match {\n",
    "    case v:Value => v  // evalVal\n",
    "    case _ => ??? // evalIdent\n",
    "}"
   ]
  },
  {
   "cell_type": "markdown",
   "metadata": {},
   "source": [
    "* Now for some more interesting stuff. Let us consider the let bindings – we’ll start with a stupid statement\n",
    "    * Concrete Lettuce: **let x = true in false**\n",
    "        * Lettuce value: **false**\n",
    "        * Expr (abstract syntax): **Let(“x”, True, False)**\n",
    "        * Value (abstract syntax): **False**\n",
    "        * Steps: \n",
    "            * eval(let x = true in false, {}) -->\n",
    "            * eval(false, { “x” -> true } ) --> \n",
    "            * false"
   ]
  },
  {
   "cell_type": "markdown",
   "metadata": {},
   "source": [
    "* A slightly more interesting example\n",
    "    * Concrete Lettuce: **let x = true in x**\n",
    "        * Lettuce value: **true**\n",
    "        * Expr (abstract syntax): **Let(“x”, True, Ident(“x”))**\n",
    "        * Value (abstract syntax): **True**\n",
    "        * Steps: \n",
    "            * eval(let x = true in x, {}) -->\n",
    "            * eval(x, { “x” -> true } ) --> \n",
    "            * true"
   ]
  },
  {
   "cell_type": "markdown",
   "metadata": {},
   "source": [
    "* What is the inference rule for let bindings?\n",
    "    * concrete grammar production: $let\\ x\\ =\\ e_{binding}\\ in\\ e_{body}$\n",
    "    * Generative grammar production: $\\mathbf{Let(Ident(x), Expr_{binding}, Expr_{body})}$\n",
    "    * op. sem.: v = eval(e, env)\n",
    "    * $$ \\begin{array} &\n",
    "v_{binding} = eval(e_{binding}, env)\n",
    "\\hspace{1cm}\n",
    "env_{prime} = env\\ +\\ (x\\ ->\\ v_{binding})\n",
    "\\hspace{1cm}\n",
    "v = eval(e_{body},\\ env_{prime})\n",
    "\\\\\n",
    "\\hline\n",
    "v = eval(\\ let\\ x\\ =\\ e_{binding}\\ in\\ e_{body}\\ ,\\ env) \\\\\n",
    "\\end{array} \\text{evalLet} $$"
   ]
  },
  {
   "cell_type": "code",
   "execution_count": 13,
   "metadata": {
    "collapsed": false
   },
   "outputs": [
    {
     "name": "stdout",
     "output_type": "stream",
     "text": [
      "TESTING\n",
      "all tests passed!!!\n"
     ]
    },
    {
     "data": {
      "text/plain": [
       "defined \u001b[32mfunction\u001b[39m \u001b[36meval4\u001b[39m"
      ]
     },
     "execution_count": 13,
     "metadata": {},
     "output_type": "execute_result"
    }
   ],
   "source": [
    "def eval4(e:Expr, env:Map[String, Value] = Map()): Value = e match {\n",
    "    case v:Value => v // evalValue\n",
    "    case Ident(x) => env(x)  // evalIdent\n",
    "    case Let(x, e1, e2) => {\n",
    "        val v1 = eval4(e1, env)\n",
    "        val envp = env + (x -> v1)\n",
    "        val v = eval4(e2, envp)\n",
    "        v\n",
    "    }  // evalLet\n",
    "    // case Let(x, e1, e2) => eval(e2, env + (x -> eval(e1, env)))\n",
    "    case _ => ???\n",
    "}\n",
    "\n",
    "println(\"TESTING\")\n",
    "assert(eval4(Let(\"x\", True, False)) == False)\n",
    "assert(eval4(Let(\"dog\", True, Ident(\"dog\"))) == True)\n",
    "println(\"all tests passed!!!\")"
   ]
  },
  {
   "cell_type": "markdown",
   "metadata": {},
   "source": [
    "### Understanding the code\n",
    "* consider the assertion\n",
    "    * assert(eval4(Let(\"dog\", True, Ident(\"dog\"))) == True)\n",
    "* How does eval4 take Let(\"dog\",True, Ident(\"dog\")) and create True?\n",
    "* Lets look at a table representation..."
   ]
  },
  {
   "cell_type": "markdown",
   "metadata": {},
   "source": [
    "#### Table 0\n",
    "* i is the index of a call to function eval4\n",
    "* e_i is the value of parameter e during the i<sup>th</sup> call to eval4\n",
    "* env_i is the value of parameter env during the i<sup>th</sup> call to eval4\n",
    "* notes_i is a place for us to make notes for the i<sup>th</sup> call to eval4\n",
    "* value_i is the value of the i<sup>th</sup> call to eval4\n",
    "* eval4(Let(\"dog\",True, Ident(\"dog\"))\n",
    "<table>\n",
    "<thead>\n",
    "    <tr>\n",
    "        <th>i</th>\n",
    "        <th>e_i</th>\n",
    "        <th>env_i</th>\n",
    "        <th>notes_i</th>\n",
    "        <th>value_i</th>\n",
    "    </tr>\n",
    "</thead>\n",
    "<tbody>\n",
    "    <tr>\n",
    "        <td>1</td>\n",
    "        <td>???</td>\n",
    "        <td>???</td>\n",
    "        <td>???</td>\n",
    "        <td>???</td>\n",
    "    </tr>\n",
    "    <tr>\n",
    "        <td>2</td>\n",
    "        <td>???</td>\n",
    "        <td>???</td>\n",
    "        <td>???</td>\n",
    "        <td>???</td>\n",
    "    </tr>\n",
    "    <tr>\n",
    "        <td>3</td>\n",
    "        <td>???</td>\n",
    "        <td>???</td>\n",
    "        <td>???</td>\n",
    "        <td>???</td>\n",
    "    </tr>\n",
    "    <tr>\n",
    "        <td>4</td>\n",
    "        <td>???</td>\n",
    "        <td>???</td>\n",
    "        <td>???</td>\n",
    "        <td>???</td>\n",
    "    </tr>\n",
    "</tbody>\n",
    "</table>"
   ]
  },
  {
   "cell_type": "markdown",
   "metadata": {},
   "source": [
    "#### Table 1\n",
    "* eval4(Let(\"dog\",True, Ident(\"dog\")))\n",
    "<table>\n",
    "<thead>\n",
    "    <tr>\n",
    "        <th>i</th>\n",
    "        <th>e_i</th>\n",
    "        <th>env_i</th>\n",
    "        <th>notes_i</th>\n",
    "        <th>value_i</th>\n",
    "    </tr>\n",
    "</thead>\n",
    "<tbody>\n",
    "    <tr>\n",
    "        <td>1</td>\n",
    "        <td>Let(\"dog\",True, Ident(\"dog\"))</td>\n",
    "        <td>{}</td>\n",
    "        <td>\n",
    "            <ul>\n",
    "                <li>We hit the evalLet case with pattern Let(x,e1,e2)</li>\n",
    "                <ul>\n",
    "                    <li>x = \"dog\"</li>\n",
    "                    <li>e1 = True</li>\n",
    "                    <li>e2 = Ident(\"dog\")</li>\n",
    "                </ul>\n",
    "                <li>We find v1 = eval4(e1,env)</li>\n",
    "                <li>We find envp = env + (x -> v1)</li>\n",
    "                <li>We return eval4(e2, envp)</li>\n",
    "            </ul>\n",
    "        </td>\n",
    "        <td>???</td>\n",
    "    </tr>\n",
    "    <tr>\n",
    "        <td>2</td>\n",
    "        <td>???</td>\n",
    "        <td>???</td>\n",
    "        <td>???</td>\n",
    "        <td>???</td>\n",
    "    </tr>\n",
    "    <tr>\n",
    "        <td>3</td>\n",
    "        <td>???</td>\n",
    "        <td>???</td>\n",
    "        <td>???</td>\n",
    "        <td>???</td>\n",
    "    </tr>\n",
    "</tbody>\n",
    "</table>"
   ]
  },
  {
   "cell_type": "markdown",
   "metadata": {},
   "source": [
    "#### Table 2\n",
    "* Note changes to row 2\n",
    "* eval4(Let(\"dog\",True, Ident(\"dog\")))\n",
    "<table>\n",
    "<thead>\n",
    "    <tr>\n",
    "        <th>i</th>\n",
    "        <th>e_i</th>\n",
    "        <th>env_i</th>\n",
    "        <th>notes_i</th>\n",
    "        <th>value_i</th>\n",
    "    </tr>\n",
    "</thead>\n",
    "<tbody>\n",
    "    <tr>\n",
    "        <td>1</td>\n",
    "        <td>Let(\"dog\",True, Ident(\"dog\"))</td>\n",
    "        <td>{}</td>\n",
    "        <td>\n",
    "            <ul>\n",
    "                <li>We hit the evalLet case with pattern Let(x,e1,e2)</li>\n",
    "                <ul>\n",
    "                    <li>x = \"dog\"</li>\n",
    "                    <li>e1 = True</li>\n",
    "                    <li>e2 = Ident(\"dog\")</li>\n",
    "                </ul>\n",
    "                <li>We find v1 = eval4(e1,env)</li>\n",
    "                <li>We find envp = env + (x -> v1)</li>\n",
    "                <li>We return eval4(e2, envp)</li>\n",
    "            </ul>\n",
    "        </td>\n",
    "        <td>???</td>\n",
    "    </tr>\n",
    "    <tr>\n",
    "        <td>2</td>\n",
    "        <td>True</td>\n",
    "        <td>{}</td>\n",
    "        <td>\n",
    "            <ul>\n",
    "                <li>We hit the evalValue case with pattern True</li>\n",
    "                <li>return the pattern</li>\n",
    "            </ul>\n",
    "        </td>\n",
    "        <td>True</td>\n",
    "    </tr>\n",
    "    <tr>\n",
    "        <td>3</td>\n",
    "        <td>???</td>\n",
    "        <td>???</td>\n",
    "        <td>???</td>\n",
    "        <td>???</td>\n",
    "    </tr>\n",
    "</tbody>\n",
    "</table>"
   ]
  },
  {
   "cell_type": "markdown",
   "metadata": {},
   "source": [
    "#### Table 3\n",
    "* Note changes to notes_1\n",
    "* eval4(Let(\"dog\",True, Ident(\"dog\")))\n",
    "<table>\n",
    "<thead>\n",
    "    <tr>\n",
    "        <th>i</th>\n",
    "        <th>e_i</th>\n",
    "        <th>env_i</th>\n",
    "        <th>notes_i</th>\n",
    "        <th>value_i</th>\n",
    "    </tr>\n",
    "</thead>\n",
    "<tbody>\n",
    "    <tr>\n",
    "        <td>1</td>\n",
    "        <td>Let(\"dog\",True, Ident(\"dog\"))</td>\n",
    "        <td>{}</td>\n",
    "        <td>\n",
    "            <ul>\n",
    "                <li>We hit the evalLet case with pattern Let(x,e1,e2)</li>\n",
    "                <ul>\n",
    "                    <li>x = \"dog\"</li>\n",
    "                    <li>e1 = True</li>\n",
    "                    <li>e2 = Ident(\"dog\")</li>\n",
    "                </ul>\n",
    "                <li>We find v1 = eval4(e1,env)</li>\n",
    "                <ul>\n",
    "                    <li>We've found that v1 = True</li>\n",
    "                </ul>\n",
    "                <li>We find envp = env + (x -> v1)</li>\n",
    "                <ul>\n",
    "                    <li>We've found that v1 = True</li>\n",
    "                    <li>envp = env + (x -> v1)</li>\n",
    "                    <li>envp = {} + (\"dog\" -> True)</li>\n",
    "                    <li>envp = {\"dog\" -> True}</li>\n",
    "                </ul>\n",
    "                <li>We return eval4(e2, envp)</li>\n",
    "            </ul>\n",
    "        </td>\n",
    "        <td>???</td>\n",
    "    </tr>\n",
    "    <tr>\n",
    "        <td>2</td>\n",
    "        <td>True</td>\n",
    "        <td>{}</td>\n",
    "        <td>\n",
    "            <ul>\n",
    "                <li>We hit the evalValue case with pattern True</li>\n",
    "                <li>return the pattern</li>\n",
    "            </ul>\n",
    "        </td>\n",
    "        <td>True</td>\n",
    "    </tr>\n",
    "    <tr>\n",
    "        <td>3</td>\n",
    "        <td>???</td>\n",
    "        <td>???</td>\n",
    "        <td>???</td>\n",
    "        <td>???</td>\n",
    "    </tr>\n",
    "</tbody>\n",
    "</table>"
   ]
  },
  {
   "cell_type": "markdown",
   "metadata": {},
   "source": [
    "#### Table 4\n",
    "* Note changes in last row\n",
    "* eval4(Let(\"dog\",True, Ident(\"dog\")))\n",
    "<table>\n",
    "<thead>\n",
    "    <tr>\n",
    "        <th>i</th>\n",
    "        <th>e_i</th>\n",
    "        <th>env_i</th>\n",
    "        <th>notes_i</th>\n",
    "        <th>value_i</th>\n",
    "    </tr>\n",
    "</thead>\n",
    "<tbody>\n",
    "    <tr>\n",
    "        <td>1</td>\n",
    "        <td>Let(\"dog\",True, Ident(\"dog\"))</td>\n",
    "        <td>{}</td>\n",
    "        <td>\n",
    "            <ul>\n",
    "                <li>We hit the evalLet case with pattern Let(x,e1,e2)</li>\n",
    "                <ul>\n",
    "                    <li>x = \"dog\"</li>\n",
    "                    <li>e1 = True</li>\n",
    "                    <li>e2 = Ident(\"dog\")</li>\n",
    "                </ul>\n",
    "                <li>We find v1 = eval4(e1,env)</li>\n",
    "                <ul>\n",
    "                    <li>We've found that v1 = True</li>\n",
    "                </ul>\n",
    "                <li>We find envp = env + (x -> v1)</li>\n",
    "                <ul>\n",
    "                    <li>We've found that v1 = True</li>\n",
    "                    <li>envp = env + (x -> v1)</li>\n",
    "                    <li>envp = {} + (\"dog\" -> True)</li>\n",
    "                    <li>envp = {\"dog\" -> True}</li>\n",
    "                </ul>\n",
    "                <li>We return eval4(e2, envp)</li>\n",
    "            </ul>\n",
    "        </td>\n",
    "        <td>???</td>\n",
    "    </tr>\n",
    "    <tr>\n",
    "        <td>2</td>\n",
    "        <td>True</td>\n",
    "        <td>{}</td>\n",
    "        <td>\n",
    "            <ul>\n",
    "                <li>We hit the evalValue case with pattern True</li>\n",
    "                <li>return the pattern</li>\n",
    "            </ul>\n",
    "        </td>\n",
    "        <td>True</td>\n",
    "    </tr>\n",
    "    <tr>\n",
    "        <td>3</td>\n",
    "        <td>Ident(\"dog\")</td>\n",
    "        <td>{\"dog\" -> True}</td>\n",
    "        <td>\n",
    "            <ul>\n",
    "                <li>We hit the evalIdent case with pattern Ident(x)</li>\n",
    "                <ul>\n",
    "                    <li>Here, x is \"dog\"</li>\n",
    "                </ul>\n",
    "                <li>We return env(x)</li>\n",
    "                <li>env(x) == {\"dog\" -> True}(\"dog\") == True</li>\n",
    "            </ul>\n",
    "        </td>\n",
    "        <td>True</td>\n",
    "    </tr>\n",
    "</tbody>\n",
    "</table>"
   ]
  },
  {
   "cell_type": "markdown",
   "metadata": {},
   "source": [
    "#### Table 5\n",
    "* Note change to return value call 1\n",
    "* eval4(Let(\"dog\",True, Ident(\"dog\")))\n",
    "<table>\n",
    "<thead>\n",
    "    <tr>\n",
    "        <th>i</th>\n",
    "        <th>e_i</th>\n",
    "        <th>env_i</th>\n",
    "        <th>notes_i</th>\n",
    "        <th>value_i</th>\n",
    "    </tr>\n",
    "</thead>\n",
    "<tbody>\n",
    "    <tr>\n",
    "        <td>1</td>\n",
    "        <td>Let(\"dog\",True, Ident(\"dog\"))</td>\n",
    "        <td>{}</td>\n",
    "        <td>\n",
    "            <ul>\n",
    "                <li>We hit the evalLet case with pattern Let(x,e1,e2)</li>\n",
    "                <ul>\n",
    "                    <li>x = \"dog\"</li>\n",
    "                    <li>e1 = True</li>\n",
    "                    <li>e2 = Ident(\"dog\")</li>\n",
    "                </ul>\n",
    "                <li>We find v1 = eval4(e1,env)</li>\n",
    "                <ul>\n",
    "                    <li>We've found that v1 = True</li>\n",
    "                </ul>\n",
    "                <li>We find envp = env + (x -> v1)</li>\n",
    "                <ul>\n",
    "                    <li>We've found that v1 = True</li>\n",
    "                    <li>envp = env + (x -> v1)</li>\n",
    "                    <li>envp = {} + (\"dog\" -> True)</li>\n",
    "                    <li>envp = {\"dog\" -> True}</li>\n",
    "                </ul>\n",
    "                <li>We return eval4(e2, envp)</li>\n",
    "            </ul>\n",
    "        </td>\n",
    "        <td>True</td>\n",
    "    </tr>\n",
    "    <tr>\n",
    "        <td>2</td>\n",
    "        <td>True</td>\n",
    "        <td>{}</td>\n",
    "        <td>\n",
    "            <ul>\n",
    "                <li>We hit the evalValue case with pattern True</li>\n",
    "                <li>return the pattern</li>\n",
    "            </ul>\n",
    "        </td>\n",
    "        <td>True</td>\n",
    "    </tr>\n",
    "    <tr>\n",
    "        <td>3</td>\n",
    "        <td>Ident(\"dog\")</td>\n",
    "        <td>{\"dog\" -> True}</td>\n",
    "        <td>\n",
    "            <ul>\n",
    "                <li>We hit the evalIdent case with pattern Ident(x)</li>\n",
    "                <ul>\n",
    "                    <li>Here, x is \"dog\"</li>\n",
    "                </ul>\n",
    "                <li>We return env(x)</li>\n",
    "                <li>env(x) == {\"dog\" -> True}(\"dog\") == True</li>\n",
    "            </ul>\n",
    "        </td>\n",
    "        <td>True</td>\n",
    "    </tr>\n",
    "</tbody>\n",
    "</table>"
   ]
  },
  {
   "cell_type": "markdown",
   "metadata": {},
   "source": [
    "## Evaluation\n",
    "* Until now, I've sort of ignored the type Program\n",
    "* And we haven't seen how **wellFormed** and **eval** play together\n",
    "* Here is the gist"
   ]
  },
  {
   "cell_type": "code",
   "execution_count": 14,
   "metadata": {
    "collapsed": false
   },
   "outputs": [
    {
     "data": {
      "text/plain": [
       "defined \u001b[32mfunction\u001b[39m \u001b[36mevaluate\u001b[39m"
      ]
     },
     "execution_count": 14,
     "metadata": {},
     "output_type": "execute_result"
    }
   ],
   "source": [
    "def evaluate(p:Program):Value = {\n",
    "    val TopLevel(e) = p\n",
    "    if (wellFormed(e)) {\n",
    "        eval4(e)\n",
    "    } else {\n",
    "        ???  // throw some sort of error\n",
    "    }\n",
    "}"
   ]
  },
  {
   "cell_type": "markdown",
   "metadata": {},
   "source": [
    "* wellFormed is executed before evaluation - in static time\n",
    "    * static == compilation == before evaluation\n",
    "* Then eval is executed in dynamic time\n",
    "    * dynamic == during evaluation ~~ state dependent"
   ]
  },
  {
   "cell_type": "markdown",
   "metadata": {},
   "source": [
    "### Example"
   ]
  },
  {
   "cell_type": "markdown",
   "metadata": {},
   "source": [
    "* What would happen evaluating this expression:\n",
    "~~~\n",
    "let dog = cat in fish\n",
    "~~~"
   ]
  },
  {
   "cell_type": "markdown",
   "metadata": {},
   "source": [
    "* What would happen evaluating this expression:\n",
    "~~~\n",
    "let dog = 1 + 2 in dog + dog\n",
    "~~~"
   ]
  },
  {
   "cell_type": "markdown",
   "metadata": {},
   "source": [
    "* What would happen evaluating this expression:\n",
    "~~~\n",
    "let dog = 5 + dog in dog\n",
    "~~~"
   ]
  },
  {
   "cell_type": "markdown",
   "metadata": {},
   "source": [
    "* What would happen evaluating this expression:\n",
    "~~~\n",
    "let dog = [\n",
    "    let cat = 1 + 2 in cat + cat\n",
    "] in dog + dog\n",
    "~~~"
   ]
  },
  {
   "cell_type": "markdown",
   "metadata": {},
   "source": [
    "* What would happen evaluating this expression:\n",
    "~~~\n",
    "let dog = [\n",
    "    let cat = 1 + 2 in cat + cat\n",
    "] in dog + cat\n",
    "~~~"
   ]
  },
  {
   "cell_type": "markdown",
   "metadata": {},
   "source": [
    "## Teaser HOF\n",
    "* Until now in this class I’ve only really talked about “First class functions”\n",
    "* But there are also “Higher ordered functions” (HOFs)\n",
    "    * If a function returns a function as output, then it is an HOF\n",
    "    * If a function takes another function as input, then it is an HOF\n",
    "* In homework 3 you implemented an HOF named filterByN for a NumList defined something like:\n",
    "    * $$\\begin{array}\n",
    "\\mathbf{NumList} & \\rightarrow & \\mathbf{EmptyList} \\\\\n",
    "& | &  \\mathbf{Cons(Double, NumList)} \\\\\n",
    "\\end{array}$$\n",
    "* Let’s look at this further, see code bellow:\n"
   ]
  },
  {
   "cell_type": "code",
   "execution_count": 4,
   "metadata": {
    "collapsed": false
   },
   "outputs": [
    {
     "name": "stdout",
     "output_type": "stream",
     "text": [
      "Testing filterByN\n"
     ]
    },
    {
     "ename": "",
     "evalue": "",
     "output_type": "error",
     "traceback": [
      "\u001b[31mscala.NotImplementedError: an implementation is missing\u001b[39m\n  scala.Predef$.$qmark$qmark$qmark(\u001b[32mPredef.scala\u001b[39m:\u001b[32m288\u001b[39m)\n  ammonite.$sess.cmd3$Helper.filterByN(\u001b[32mcmd3.sc\u001b[39m:\u001b[32m7\u001b[39m)\n  ammonite.$sess.cmd3$Helper.<init>(\u001b[32mcmd3.sc\u001b[39m:\u001b[32m31\u001b[39m)\n  ammonite.$sess.cmd3$.<init>(\u001b[32mcmd3.sc\u001b[39m:\u001b[32m7\u001b[39m)\n  ammonite.$sess.cmd3$.<clinit>(\u001b[32mcmd3.sc\u001b[39m:\u001b[32m-1\u001b[39m)"
     ]
    }
   ],
   "source": [
    "// Look at some tests for filterByN\n",
    "// Implement filterByN\n",
    "// Implement a method called filter for NumList - don't use the visitors pattern\n",
    "// Write Tests\n",
    "\n",
    "\n",
    "// sealed trait NumList {\n",
    "//     // Note, no need to use the visitors pattern for this!\n",
    "//     def filter(f:(Double) => Boolean):NumList = this match {\n",
    "//         case EmptyList => ???\n",
    "//         case Cons(h,t) => ???\n",
    "//     }\n",
    "// }\n",
    "\n",
    "sealed trait NumList  // NumList\n",
    "case object EmptyList extends NumList  // EmptyList\n",
    "case class Cons(head:Double, tail:NumList) extends NumList  // Cons(Double, NumList)\n",
    "\n",
    "\n",
    "def filterByN(lst:NumList, f:(Double) => Boolean):NumList = {\n",
    "    ???\n",
    "}\n",
    "\n",
    "\n",
    "//\n",
    "// TESTS\n",
    "//\n",
    "val l0 = EmptyList  // []\n",
    "val l1 = Cons(1, Cons(2, Cons(3, EmptyList)))  // [1,2,3]\n",
    "val l2 = Cons(16, Cons(28, Cons(8, EmptyList)))  // [16, 28, 8]\n",
    "\n",
    "val evenL0 = EmptyList  // []\n",
    "val evenL1 = Cons(2, EmptyList)  // [2]\n",
    "val evenL2 = Cons(16, Cons(28, Cons(8, EmptyList)))  // [16, 28, 8]\n",
    "\n",
    "val oddL0 = EmptyList  // []\n",
    "val oddL1 = Cons(1, Cons(3, EmptyList))  // [1,3]\n",
    "val oddL2 = EmptyList  // []\n",
    "\n",
    "val isEven = (x:Double) => { x % 2 == 0 }\n",
    "val isOdd = (x:Double) => { x % 2 == 1 }\n",
    "\n",
    "println(\"Testing filterByN\")\n",
    "\n",
    "    assert(filterByN(l0, isEven) == evenL0)\n",
    "    assert(filterByN(l1, isEven) == evenL1)\n",
    "    assert(filterByN(l2, isEven) == evenL2)\n",
    "\n",
    "    // Don't need the isEven val...\n",
    "    assert(filterByN(l2, (x:Double) => { x % 2 == 0 }) == evenL2)\n",
    "    assert(filterByN(l2, { _ % 2 == 0 }) == evenL2)\n",
    "\n",
    "    assert(filterByN(l0,isOdd) == oddL0)\n",
    "    assert(filterByN(l1,isOdd) == oddL1)\n",
    "    assert(filterByN(l2,isOdd) == oddL2)\n",
    "    assert(filterByN(l2,{_%2 == 1}) == oddL2)\n",
    "\n",
    "println(\"PASSED filterByN!!!\")\n",
    "\n",
    "\n",
    "// println(\"Testing filter\")\n",
    "//     assert((l0 filter isEven) == evenL0)\n",
    "//     assert((l1 filter isEven) == evenL1)\n",
    "//     assert((l2 filter isEven) == evenL2)\n",
    "//     assert((l0 filter isOdd) == oddL0)\n",
    "//     assert((l1 filter isOdd) == oddL1)\n",
    "//     assert((l2 filter isOdd) == oddL2)\n",
    "// println(\"PASSED filter!!!\")"
   ]
  },
  {
   "cell_type": "markdown",
   "metadata": {},
   "source": [
    "### Scala List[A]\n",
    "#### filter\n",
    "* Scala has a type List[A]\n",
    "* One of the methods of List[A] is a method called filter\n",
    "* filter might looks something like bellow:\n",
    "\n",
    "~~~\n",
    "sealed trait List[+A] {\n",
    "\tdef filter[A](f:(A) => Boolean):List[A] = this match {\n",
    "\t\tcase Nil => Nil\n",
    "\t\tcase head :: tail => {\n",
    "\t\t\tif ( f(head) ) {\n",
    "\t\t\t\thead :: (tail filter f)\n",
    "\t\t\t} else {\n",
    "\t\t\t\ttail filter f\n",
    "\t\t\t}\n",
    "\t\t}\n",
    "\t}\n",
    "}\n",
    "~~~\n",
    "\n",
    "* Note that this works on an abstract type “A”\n",
    "    * It’s nothing special\n",
    "    * It exists in other languages as well\n",
    "\n",
    "* Here is how I can use it:\n",
    "\n",
    "\n"
   ]
  },
  {
   "cell_type": "code",
   "execution_count": null,
   "metadata": {
    "collapsed": true
   },
   "outputs": [],
   "source": [
    "// here A is a double...\n",
    "val lDoubles = List(1.0,2.0,3.0,4.0,5.0,6.0)\n",
    "val lDoublesRelEven3:List[Double] = List(3.0,6.0)\n",
    "val isRelEven3 = (d:Double) => (d%3) == 0\n",
    "assert((lDoubles filter isRelEven3) == lDoublesRelEven3)"
   ]
  },
  {
   "cell_type": "code",
   "execution_count": null,
   "metadata": {
    "collapsed": false
   },
   "outputs": [],
   "source": [
    "// here A is Char\n",
    "val lChars = List('a','b','c','d','e','f','g')\n",
    "val lVowels = List('a','e')\n",
    "val lConst = List('b','c','d', 'f','g')\n",
    "val isVowel = (c:Char) => Set('a','e','i','o','u') contains c\n",
    "assert((lChars filter isVowel) == lVowels)\n",
    "assert((lChars filter {!isVowel(_)}) == lConst)  // _ the all powerfull!"
   ]
  },
  {
   "cell_type": "markdown",
   "metadata": {},
   "source": [
    "#### map\n",
    "* Scala’s type List[A] also has a method map, it might look like bellow:\n",
    "\n",
    "~~~\n",
    "sealed trait List[+A] {\n",
    "\tdef map[A,B](f:(A) => B):List[B] = this match {\n",
    "\t\tcase Nil => Nil\n",
    "\t\tcase head :: tail => f(head) :: (tail map f)\n",
    "\t}\n",
    "}\n",
    "~~~\n",
    "\n",
    "* Here is how I can use it:\n",
    "\n",
    "\n"
   ]
  },
  {
   "cell_type": "code",
   "execution_count": null,
   "metadata": {
    "collapsed": true
   },
   "outputs": [],
   "source": [
    "// here A is an Int\n",
    "// here B is a Boolean\n",
    "val lInts = List(5,8,13)\n",
    "println(lInts map {(n:Int) => n % 2 == 0})\n",
    "assert((lInts map {(n:Int) => n % 2 == 0}) == List(false, true, false))\n",
    "assert((lInts map {_ % 2 == 0}) == List(false, true, false))"
   ]
  },
  {
   "cell_type": "code",
   "execution_count": null,
   "metadata": {
    "collapsed": false
   },
   "outputs": [],
   "source": [
    "// here A is an Int\n",
    "// here B is an Int\n",
    "println(lInts map {(n:Int) => n + 1})\n",
    "assert((lInts map {(n:Int) => n + 1}) == List(6,9,14))\n",
    "assert((lInts map {_ + 1}) == List(6,9,14))"
   ]
  },
  {
   "cell_type": "markdown",
   "metadata": {},
   "source": [
    "#### foldLeft\n",
    "* Scala’s type List[A] also has a method foldLeft\n",
    "* A better name might be “scanFromLeftToRightAndAccumulateSomeValue”\n",
    "* But then I doubt anyone would use it…\n",
    "* it might look like bellow:\n",
    "~~~\n",
    "sealed trait List[+A] {\n",
    "\tdef foldLeft[A,B](acc:B)(f:(B, A) => B):B = this match {\n",
    "\t\tcase Nil => acc\n",
    "\t\tcase head :: tail => {\n",
    "\t\t\tval accPrime = f(acc, head)\n",
    "\t\t\ttail.foldLeft(accPrime)(f)\n",
    "\t\t}\n",
    "\t}\n",
    "}\n",
    "~~~\n",
    "\n",
    "* Here is how I can use it:\n",
    "\n",
    "\n"
   ]
  },
  {
   "cell_type": "code",
   "execution_count": null,
   "metadata": {
    "collapsed": false
   },
   "outputs": [],
   "source": [
    "// Here A is an Int and B is also an Int\n",
    "val sum = List(1,2,3).foldLeft(0){\n",
    "    (acc, h) => {\n",
    "        println(s\"found list element $h\")\n",
    "        println(s\"\\tacc is: $acc\")\n",
    "        acc + h\n",
    "    }\n",
    "}\n",
    "\n",
    "println(s\"sum is: $sum\")\n",
    "assert(List(1,2,3).foldLeft(0){_ + _} == 6)  // #LoDashCan'tCompete"
   ]
  },
  {
   "cell_type": "code",
   "execution_count": null,
   "metadata": {
    "collapsed": false
   },
   "outputs": [],
   "source": [
    "// Here A is Int and B is String\n",
    "def formatList(l:List[Int]):String = {\n",
    "    l.foldLeft(\"\"){\n",
    "        case (\"\", h) => s\"[ $h\"\n",
    "        case (acc, h) => s\"$acc, $h\"\n",
    "    } + \" ]\"\n",
    "}\n",
    "\n",
    "println(formatList(List(1,2,3)))"
   ]
  },
  {
   "cell_type": "markdown",
   "metadata": {},
   "source": [
    "## Overview\n",
    "* The Lettuce AST\n",
    "* Well Formed vs ILL Formed expressions\n",
    "* Interpreter\n",
    "* Evaluation\n",
    "* Teaser on HOFs"
   ]
  },
  {
   "cell_type": "markdown",
   "metadata": {},
   "source": [
    "## TODOs\n",
    "* Homework and Quiz 4 is due Friday 02/22\n",
    "* Homework 5 is due Sunday 02/24 - No Moodle Quiz!\n",
    "* Project 1 is due Monday 03/04\n",
    "* If you have questions about your spot exam, please let us know - in person or over Piazza\n",
    "    * Some time in Recitation this Friday should be dedicated to reviewing the first spot exam."
   ]
  }
 ],
 "metadata": {
  "anaconda-cloud": {},
  "kernelspec": {
   "display_name": "Scala",
   "language": "scala",
   "name": "scala"
  },
  "language_info": {
   "codemirror_mode": "text/x-scala",
   "file_extension": ".scala",
   "mimetype": "text/x-scala",
   "name": "scala",
   "nbconvert_exporter": "script",
   "version": "2.12.8"
  }
 },
 "nbformat": 4,
 "nbformat_minor": 1
}
