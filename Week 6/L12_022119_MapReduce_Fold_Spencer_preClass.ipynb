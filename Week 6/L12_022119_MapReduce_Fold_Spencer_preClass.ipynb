{
 "cells": [
  {
   "cell_type": "markdown",
   "metadata": {},
   "source": [
    "# L12: Map Reduce && Fold\n",
    "* This document is subject to change before Lecture"
   ]
  },
  {
   "cell_type": "markdown",
   "metadata": {},
   "source": [
    "## Overview\n",
    "* Anonymous Functions\n",
    "* HOF\n",
    "* Filter\n",
    "* Map\n",
    "* FoldLeft - Reduce\n",
    "* Loops as HOFs\n",
    "* Other Uses"
   ]
  },
  {
   "cell_type": "markdown",
   "metadata": {},
   "source": [
    "\n",
    "## Anonymous Functions\n",
    "* Scala allows us to create anonymous functions\n",
    "* These are quite helpful if I am only going to use a function once\n",
    "* Let’s look at some cases where it’s helpful and where it is less useful\n"
   ]
  },
  {
   "cell_type": "markdown",
   "metadata": {},
   "source": [
    "### Example 1"
   ]
  },
  {
   "cell_type": "code",
   "execution_count": 3,
   "metadata": {
    "collapsed": false
   },
   "outputs": [
    {
     "name": "stdout",
     "output_type": "stream",
     "text": [
      "3\n",
      "11\n",
      "21\n",
      "226\n"
     ]
    },
    {
     "data": {
      "text/plain": [
       "\u001b[36mx0\u001b[39m: \u001b[32mInt\u001b[39m = \u001b[32m2\u001b[39m\n",
       "\u001b[36mx1\u001b[39m: \u001b[32mInt\u001b[39m = \u001b[32m10\u001b[39m\n",
       "\u001b[36mx2\u001b[39m: \u001b[32mInt\u001b[39m = \u001b[32m20\u001b[39m\n",
       "\u001b[36mx3\u001b[39m: \u001b[32mInt\u001b[39m = \u001b[32m225\u001b[39m"
      ]
     },
     "execution_count": 3,
     "metadata": {},
     "output_type": "execute_result"
    }
   ],
   "source": [
    "val x0 = 2\n",
    "println(x0 + 2 * 7 / 8)\n",
    "val x1 = 10\n",
    "println(x1 + 2 * 7 / 8)\n",
    "val x2 = 20\n",
    "println(x2 + 2 * 7 / 8)\n",
    "val x3 = 225\n",
    "println(x3 + 2 * 7 / 8)"
   ]
  },
  {
   "cell_type": "markdown",
   "metadata": {},
   "source": [
    "* What do we think about the above code block?\n",
    "* Is it easy to read?\n",
    "* Could it be easier to read?\n",
    "* It is just an opinion, but I think the bellow refactoring of the code is easier to read"
   ]
  },
  {
   "cell_type": "code",
   "execution_count": 4,
   "metadata": {
    "collapsed": false
   },
   "outputs": [
    {
     "name": "stdout",
     "output_type": "stream",
     "text": [
      "3\n",
      "11\n",
      "21\n",
      "226\n"
     ]
    },
    {
     "data": {
      "text/plain": [
       "defined \u001b[32mfunction\u001b[39m \u001b[36mfoo\u001b[39m"
      ]
     },
     "execution_count": 4,
     "metadata": {},
     "output_type": "execute_result"
    }
   ],
   "source": [
    "def foo(x:Int):Unit = {\n",
    "    println(x + 2 * 7 / 8)\n",
    "}\n",
    "\n",
    "foo(2)\n",
    "foo(10)\n",
    "foo(20)\n",
    "foo(225)"
   ]
  },
  {
   "cell_type": "markdown",
   "metadata": {},
   "source": [
    "* Example 1 uses a named function\n",
    "* Functions are useful for taking a pattern of work and abstracting it to something more general"
   ]
  },
  {
   "cell_type": "markdown",
   "metadata": {},
   "source": [
    "### Qs ???"
   ]
  },
  {
   "cell_type": "markdown",
   "metadata": {},
   "source": [
    "### Example 2"
   ]
  },
  {
   "cell_type": "code",
   "execution_count": 6,
   "metadata": {
    "collapsed": false
   },
   "outputs": [
    {
     "data": {
      "text/plain": [
       "defined \u001b[32mtrait\u001b[39m \u001b[36mMaths\u001b[39m\n",
       "defined \u001b[32mtype\u001b[39m \u001b[36mNumber\u001b[39m\n",
       "defined \u001b[32mclass\u001b[39m \u001b[36mPlus\u001b[39m\n",
       "defined \u001b[32mclass\u001b[39m \u001b[36mTimes\u001b[39m\n",
       "defined \u001b[32mclass\u001b[39m \u001b[36mDiv\u001b[39m\n",
       "defined \u001b[32mclass\u001b[39m \u001b[36mMinus\u001b[39m\n",
       "defined \u001b[32mclass\u001b[39m \u001b[36mConst\u001b[39m"
      ]
     },
     "execution_count": 6,
     "metadata": {},
     "output_type": "execute_result"
    }
   ],
   "source": [
    "sealed trait Maths\n",
    "type Number = Double\n",
    "\n",
    "case class Plus(m1:Maths, m2:Maths) extends Maths\n",
    "case class Minus(m1:Maths, m2:Maths) extends Maths\n",
    "case class Times(m1:Maths, m2:Maths) extends Maths\n",
    "case class Div(m1:Maths, m2:Maths) extends Maths\n",
    "case class Const(n1:Number) extends Maths"
   ]
  },
  {
   "cell_type": "markdown",
   "metadata": {},
   "source": [
    "* The folowing code block is a straight forward implementation of eval that we've seen before"
   ]
  },
  {
   "cell_type": "code",
   "execution_count": 7,
   "metadata": {
    "collapsed": false
   },
   "outputs": [
    {
     "data": {
      "text/plain": [
       "defined \u001b[32mfunction\u001b[39m \u001b[36meval0\u001b[39m"
      ]
     },
     "execution_count": 7,
     "metadata": {},
     "output_type": "execute_result"
    }
   ],
   "source": [
    "def eval0(e:Maths):Number = e match {\n",
    "    case Const(n) => n\n",
    "    case Plus(m1, m2) => eval0(m1) + eval0(m2)\n",
    "    case Minus(m1, m2) => eval0(m1) - eval0(m2)\n",
    "    case Times(m1, m2) => eval0(m1) * eval0(m2)\n",
    "    case Div(m1,m2) => eval0(m1) / eval0(m2)\n",
    "}"
   ]
  },
  {
   "cell_type": "markdown",
   "metadata": {},
   "source": [
    "* The folowing code block reimplements eval using an \"apply\" patter (I don't know the technical term)\n",
    "* It also uses many named functions that are only used once\n",
    "    * plus\n",
    "    * minus\n",
    "    * times\n",
    "    * div"
   ]
  },
  {
   "cell_type": "code",
   "execution_count": 9,
   "metadata": {
    "collapsed": false
   },
   "outputs": [
    {
     "data": {
      "text/plain": [
       "defined \u001b[32mfunction\u001b[39m \u001b[36meval1\u001b[39m"
      ]
     },
     "execution_count": 9,
     "metadata": {},
     "output_type": "execute_result"
    }
   ],
   "source": [
    "def eval1(e:Maths):Number = {\n",
    "    \n",
    "    def applyBinary(m1:Maths, m2:Maths)(f:(Number,Number) => Number):Number = {\n",
    "        val n1 = eval1(m1)\n",
    "        val n2 = eval1(m2)\n",
    "        f(n1,n2)\n",
    "    }\n",
    "    \n",
    "    e match {\n",
    "        case Const(n) => n\n",
    "        case Plus(m1, m2) => {\n",
    "            def plus(n1:Number, n2:Number):Number = { n1 + n2 }\n",
    "            applyBinary(m1,m2)(plus)\n",
    "        }\n",
    "        case Minus(m1, m2) => {\n",
    "            def minus(n1:Number, n2:Number):Number = { n1 - n2 }\n",
    "            applyBinary(m1,m2)(minus)\n",
    "        }\n",
    "        case Times(m1, m2) => {\n",
    "            def times(n1:Number, n2:Number):Number = { n1 * n2 }\n",
    "            applyBinary(m1,m2)(times)\n",
    "        }\n",
    "        case Div(m1, m2) => {\n",
    "            def div(n1:Number, n2:Number):Number = { n1 / n2 }\n",
    "            applyBinary(m1,m2)(div)\n",
    "        }\n",
    "     }\n",
    "}"
   ]
  },
  {
   "cell_type": "markdown",
   "metadata": {},
   "source": [
    "* Now that one doesn't look pleasant to read\n",
    "* I think that is because we have all these named functions that we only use once.\n",
    "* Below I have reimplemented this yet again"
   ]
  },
  {
   "cell_type": "code",
   "execution_count": 11,
   "metadata": {
    "collapsed": false
   },
   "outputs": [
    {
     "data": {
      "text/plain": [
       "defined \u001b[32mfunction\u001b[39m \u001b[36meval2\u001b[39m"
      ]
     },
     "execution_count": 11,
     "metadata": {},
     "output_type": "execute_result"
    }
   ],
   "source": [
    "def eval2(e:Maths):Number = {\n",
    "    \n",
    "    def applyBinary(m1:Maths, m2:Maths)(f:(Number,Number) => Number):Number = {\n",
    "        val n1 = eval2(m1)\n",
    "        val n2 = eval2(m2)\n",
    "        f(n1,n2)\n",
    "    }\n",
    "    \n",
    "    e match {\n",
    "        case Const(n) => n\n",
    "        case Plus(m1, m2) => applyBinary(m1,m2){(n1, n2) => n1 + n2}\n",
    "        case Minus(m1, m2) => applyBinary(m1,m2){(n1, n2) => n1 - n2}\n",
    "        case Times(m1, m2) => applyBinary(m1,m2){(n1, n2) => n1 * n2}\n",
    "        case Div(m1, m2) => applyBinary(m1,m2){(n1, n2) => n1 / n2}\n",
    "    }\n",
    "}"
   ]
  },
  {
   "cell_type": "markdown",
   "metadata": {},
   "source": [
    "* I think that is a bit easier to read\n",
    "* It's a bit easier to maintain than our initial implementation\n",
    "* It uses a named functions:\n",
    "    * eval2\n",
    "    * applyBinary\n",
    "* And it uses many anonymous functions\n",
    "    *  (n1, n2) => n1 + n2\n",
    "    *  (n1, n2) => n1 - n2\n",
    "    *  (n1, n2) => n1 * n2\n",
    "    *  (n1, n2) => n1 / n2\n",
    "* Scala has one more more trick I'd like to show you... the '_'"
   ]
  },
  {
   "cell_type": "code",
   "execution_count": 12,
   "metadata": {
    "collapsed": false
   },
   "outputs": [
    {
     "data": {
      "text/plain": [
       "defined \u001b[32mfunction\u001b[39m \u001b[36meval3\u001b[39m"
      ]
     },
     "execution_count": 12,
     "metadata": {},
     "output_type": "execute_result"
    }
   ],
   "source": [
    "def eval3(e:Maths):Number = {\n",
    "    \n",
    "    def applyBinary(m1:Maths, m2:Maths)(f:(Number,Number) => Number):Number = {\n",
    "        val n1 = eval3(m1)\n",
    "        val n2 = eval3(m2)\n",
    "        f(n1,n2)\n",
    "    }\n",
    "    \n",
    "    e match {\n",
    "        case Const(n) => n\n",
    "        case Plus(m1, m2) => applyBinary(m1,m2){ _ + _ }\n",
    "        case Minus(m1, m2) => applyBinary(m1,m2){ _ - _ }\n",
    "        case Times(m1, m2) => applyBinary(m1,m2){ _ * _ }\n",
    "        case Div(m1, m2) => applyBinary(m1,m2){ _ / _ }\n",
    "    }\n",
    "}"
   ]
  },
  {
   "cell_type": "markdown",
   "metadata": {},
   "source": [
    "* I'll let you make assumptions about what the '_' is doing there, but you might want to go google it"
   ]
  },
  {
   "cell_type": "markdown",
   "metadata": {},
   "source": [
    "* As we've seen in Example 2, anonymous functions can be quite useful\n",
    "* In particular if we decompose a problem into parts\n",
    "    * I had things of the form 'eval(m1) \\$\\$ eval(m2)'\n",
    "    * I decomposed to:\n",
    "        * An 'apply' function that takes 2 maths and a function about \\$\\$\n",
    "        * And expressions that make use of the 'apply' function\n",
    "* Anonymous functions help make code more legible if a function will only be used once\n",
    "* When you are first learning HOFs:\n",
    "    * you may not be comfortable using anonymous funcitons\n",
    "        * I suppose that is fine\n",
    "        * Start by writing a named function as I did in 'eval1'\n",
    "        * Then anonymize the functions like 'eval2'\n",
    "        * If you are feeling adventurous, try using the '_' as I did in 'eval3'"
   ]
  },
  {
   "cell_type": "markdown",
   "metadata": {},
   "source": [
    "### Qs ???"
   ]
  },
  {
   "cell_type": "markdown",
   "metadata": {},
   "source": [
    "## HOF\n",
    "\n",
    "In many languages, the use of for-loops/while loops to iterate is replaced by operations on data structures such as `map`, `filter` and `fold`. In this lecture, we provide a brief overview with some examples. We show how many varieties of loops or equivalently recursion, can be systematically replaced by these operations.\n",
    "\n",
    "The main idea behind functional programming is that `functions are first class objects`. What this means is that just like integers, strings, lists and other data, functions can be passed around. \n",
    "1. They can be used as arguments to other functions.\n",
    "2. Functions can be created from inside a function and returned as a value.\n",
    "3. You can have variables (vars) that can be assigned to functions.\n",
    "4. and many more ideas that we will revisit later...\n",
    "\n",
    "Gist:\n",
    "* Until now in this class I’ve only really talked about “First class functions”\n",
    "* But there are also “Higher ordered functions” (HOFs)\n",
    "    * If a function returns a function as output, then it is an HOF\n",
    "    * If a function takes another function as input, then it is an HOF\n",
    "* These have so many practical applications...\n"
   ]
  },
  {
   "cell_type": "markdown",
   "metadata": {},
   "source": [
    "## Filter"
   ]
  },
  {
   "cell_type": "markdown",
   "metadata": {},
   "source": [
    "### NumList\n",
    "* In homework 3 you implemented an HOF named filterByN for a NumList defined something like:\n",
    "    * $$\\begin{array}\n",
    "\\mathbf{NumList} & \\rightarrow & \\mathbf{EmptyList} \\\\\n",
    "& | &  \\mathbf{Cons(Double, NumList)} \\\\\n",
    "\\end{array}$$\n",
    "* Let’s look at this further, see code bellow:"
   ]
  },
  {
   "cell_type": "code",
   "execution_count": 1,
   "metadata": {
    "collapsed": false
   },
   "outputs": [
    {
     "data": {
      "text/plain": [
       "defined \u001b[32mtrait\u001b[39m \u001b[36mNumList\u001b[39m\n",
       "defined \u001b[32mobject\u001b[39m \u001b[36mEmptyList\u001b[39m\n",
       "defined \u001b[32mclass\u001b[39m \u001b[36mCons\u001b[39m\n",
       "defined \u001b[32mfunction\u001b[39m \u001b[36mfilterByN\u001b[39m\n",
       "\u001b[36ml0\u001b[39m: \u001b[32mEmptyList\u001b[39m.type = EmptyList\n",
       "\u001b[36ml1\u001b[39m: \u001b[32mCons\u001b[39m = \u001b[33mCons\u001b[39m(\u001b[32m1.0\u001b[39m, \u001b[33mCons\u001b[39m(\u001b[32m2.0\u001b[39m, \u001b[33mCons\u001b[39m(\u001b[32m3.0\u001b[39m, EmptyList)))\n",
       "\u001b[36ml2\u001b[39m: \u001b[32mCons\u001b[39m = \u001b[33mCons\u001b[39m(\u001b[32m16.0\u001b[39m, \u001b[33mCons\u001b[39m(\u001b[32m28.0\u001b[39m, \u001b[33mCons\u001b[39m(\u001b[32m8.0\u001b[39m, EmptyList)))\n",
       "\u001b[36mevenL0\u001b[39m: \u001b[32mEmptyList\u001b[39m.type = EmptyList\n",
       "\u001b[36mevenL1\u001b[39m: \u001b[32mCons\u001b[39m = \u001b[33mCons\u001b[39m(\u001b[32m2.0\u001b[39m, EmptyList)\n",
       "\u001b[36mevenL2\u001b[39m: \u001b[32mCons\u001b[39m = \u001b[33mCons\u001b[39m(\u001b[32m16.0\u001b[39m, \u001b[33mCons\u001b[39m(\u001b[32m28.0\u001b[39m, \u001b[33mCons\u001b[39m(\u001b[32m8.0\u001b[39m, EmptyList)))\n",
       "\u001b[36misEven\u001b[39m: \u001b[32mDouble\u001b[39m => \u001b[32mBoolean\u001b[39m = ammonite.$sess.cmd0$Helper$$Lambda$3217/188875775@47803a68\n",
       "\u001b[36misOdd\u001b[39m: \u001b[32mDouble\u001b[39m => \u001b[32mBoolean\u001b[39m = ammonite.$sess.cmd0$Helper$$Lambda$3219/658755917@5fc79ba7\n",
       "\u001b[36moddL0\u001b[39m: \u001b[32mEmptyList\u001b[39m.type = EmptyList\n",
       "\u001b[36moddL1\u001b[39m: \u001b[32mCons\u001b[39m = \u001b[33mCons\u001b[39m(\u001b[32m1.0\u001b[39m, \u001b[33mCons\u001b[39m(\u001b[32m3.0\u001b[39m, EmptyList))\n",
       "\u001b[36moddL2\u001b[39m: \u001b[32mEmptyList\u001b[39m.type = EmptyList"
      ]
     },
     "execution_count": 1,
     "metadata": {},
     "output_type": "execute_result"
    }
   ],
   "source": [
    "sealed trait NumList {\n",
    "    def filter(f:(Double) => Boolean):NumList = this match {\n",
    "        case EmptyList => EmptyList\n",
    "        case Cons(h,t) => if (f(h)) { Cons(h, t filter f) } else { t filter f }\n",
    "    }\n",
    "}\n",
    "case object EmptyList extends NumList\n",
    "case class Cons(head:Double, tail:NumList) extends NumList\n",
    "\n",
    "\n",
    "def filterByN(lst:NumList, f:(Double) => Boolean):NumList = lst match{\n",
    "    case EmptyList => EmptyList\n",
    "    case Cons(head, tail) => {\n",
    "        if (f(head)) {\n",
    "            Cons(head, filterByN(tail, f))\n",
    "        } else {\n",
    "            filterByN(tail, f)\n",
    "        }\n",
    "    }\n",
    "}\n",
    "\n",
    "\n",
    "//\n",
    "// TESTS\n",
    "//\n",
    "val l0 = EmptyList  // []\n",
    "val l1 = Cons(1, Cons(2, Cons(3, EmptyList)))  // [1,2,3]\n",
    "val l2 = Cons(16, Cons(28, Cons(8, EmptyList)))  // [16, 28, 8]\n",
    "\n",
    "val evenL0 = EmptyList  // []\n",
    "val evenL1 = Cons(2, EmptyList)  // [2]\n",
    "val evenL2 = Cons(16, Cons(28, Cons(8, EmptyList)))  // [16, 28, 8]\n",
    "\n",
    "val isEven = (x:Double) => { x % 2 == 0 }\n",
    "assert(filterByN(l0, isEven) == evenL0)\n",
    "assert(filterByN(l1, isEven) == evenL1)\n",
    "assert(filterByN(l2, isEven) == evenL2)\n",
    "// Don't need the isEven val...\n",
    "assert(filterByN(l2, (x:Double) => { x % 2 == 0 }) == evenL2)\n",
    "\n",
    "val isOdd = (x:Double) => { x % 2 == 1 }\n",
    "val oddL0 = EmptyList  // []\n",
    "val oddL1 = Cons(1, Cons(3, EmptyList))  // [1,3]\n",
    "val oddL2 = EmptyList  // []\n",
    "\n",
    "\n",
    "assert((l0 filter isEven) == evenL0)\n",
    "assert((l1 filter isEven) == evenL1)\n",
    "assert((l2 filter isEven) == evenL2)\n",
    "assert((l0 filter isOdd) == oddL0)\n",
    "assert((l1 filter isOdd) == oddL1)\n",
    "assert((l2 filter isOdd) == oddL2)"
   ]
  },
  {
   "cell_type": "markdown",
   "metadata": {},
   "source": [
    "### filter\n",
    "* Scala has a type List[A]\n",
    "* One of the methods of List[A] is a method called filter\n",
    "* filter\n",
    "    * operates on a List[A] 'l'\n",
    "    * and a function from A to Boolean 'f'\n",
    "    * and returns a List[A] 'lp\n",
    "    * This will go through 'l' and observe each element 'li'\n",
    "        * This will find 'bi' equal to f(li)\n",
    "        * if 'bi' is true\n",
    "            * then li is put into output lp\n",
    "            * else it is not put in the output\n",
    "* **NOTE: the nature of filter makes it a solid candidate for parallelization**\n",
    "* filter might looks something like bellow:\n",
    "\n",
    "~~~\n",
    "sealed trait List[+A] {\n",
    "\tdef filter[A](f:(A) => Boolean):List[A] = this match {\n",
    "\t\tcase Nil => Nil\n",
    "\t\tcase head :: tail => {\n",
    "\t\t\tif ( f(head) ) {\n",
    "\t\t\t\thead :: (tail filter f)\n",
    "\t\t\t} else {\n",
    "\t\t\t\ttail filter f\n",
    "\t\t\t}\n",
    "\t\t}\n",
    "\t}\n",
    "}\n",
    "~~~\n",
    "\n",
    "* Note that this works on an abstract type “A”\n",
    "    * It’s nothing special\n",
    "    * It exists in other languages as well\n",
    "\n",
    "* Here is how I can use filter method of List[A] in scala:\n",
    "\n",
    "\n"
   ]
  },
  {
   "cell_type": "code",
   "execution_count": 3,
   "metadata": {
    "collapsed": false
   },
   "outputs": [
    {
     "data": {
      "text/plain": [
       "\u001b[36mlDoubles\u001b[39m: \u001b[32mList\u001b[39m[\u001b[32mDouble\u001b[39m] = \u001b[33mList\u001b[39m(\u001b[32m1.0\u001b[39m, \u001b[32m2.0\u001b[39m, \u001b[32m3.0\u001b[39m, \u001b[32m4.0\u001b[39m, \u001b[32m5.0\u001b[39m, \u001b[32m6.0\u001b[39m)\n",
       "\u001b[36mlDoublesRelEven3\u001b[39m: \u001b[32mList\u001b[39m[\u001b[32mDouble\u001b[39m] = \u001b[33mList\u001b[39m(\u001b[32m3.0\u001b[39m, \u001b[32m6.0\u001b[39m)\n",
       "\u001b[36misRelEven3\u001b[39m: \u001b[32mDouble\u001b[39m => \u001b[32mBoolean\u001b[39m = ammonite.$sess.cmd2$Helper$$Lambda$3382/1648454356@e308a9c"
      ]
     },
     "execution_count": 3,
     "metadata": {},
     "output_type": "execute_result"
    }
   ],
   "source": [
    "// here A is a double...\n",
    "val lDoubles = List(1.0,2.0,3.0,4.0,5.0,6.0)\n",
    "val lDoublesRelEven3:List[Double] = List(3.0,6.0)\n",
    "val isRelEven3 = (d:Double) => (d%3) == 0\n",
    "assert((lDoubles filter isRelEven3) == lDoublesRelEven3)"
   ]
  },
  {
   "cell_type": "code",
   "execution_count": 4,
   "metadata": {
    "collapsed": false
   },
   "outputs": [
    {
     "data": {
      "text/plain": [
       "\u001b[36mlChars\u001b[39m: \u001b[32mList\u001b[39m[\u001b[32mChar\u001b[39m] = \u001b[33mList\u001b[39m(\u001b[32m'a'\u001b[39m, \u001b[32m'b'\u001b[39m, \u001b[32m'c'\u001b[39m, \u001b[32m'd'\u001b[39m, \u001b[32m'e'\u001b[39m, \u001b[32m'f'\u001b[39m, \u001b[32m'g'\u001b[39m)\n",
       "\u001b[36mlVowels\u001b[39m: \u001b[32mList\u001b[39m[\u001b[32mChar\u001b[39m] = \u001b[33mList\u001b[39m(\u001b[32m'a'\u001b[39m, \u001b[32m'e'\u001b[39m)\n",
       "\u001b[36mlConst\u001b[39m: \u001b[32mList\u001b[39m[\u001b[32mChar\u001b[39m] = \u001b[33mList\u001b[39m(\u001b[32m'b'\u001b[39m, \u001b[32m'c'\u001b[39m, \u001b[32m'd'\u001b[39m, \u001b[32m'f'\u001b[39m, \u001b[32m'g'\u001b[39m)\n",
       "\u001b[36misVowel\u001b[39m: \u001b[32mChar\u001b[39m => \u001b[32mBoolean\u001b[39m = ammonite.$sess.cmd3$Helper$$Lambda$3394/1549925612@627a7e72"
      ]
     },
     "execution_count": 4,
     "metadata": {},
     "output_type": "execute_result"
    }
   ],
   "source": [
    "// here A is Char\n",
    "val lChars = List('a','b','c','d','e','f','g')\n",
    "val lVowels = List('a','e')\n",
    "val lConst = List('b','c','d', 'f','g')\n",
    "val isVowel = (c:Char) => Set('a','e','i','o','u') contains c\n",
    "assert((lChars filter isVowel) == lVowels)\n",
    "assert((lChars filter {!isVowel(_)}) == lConst)  // shows some fancy scala\n",
    "// _ the all powerfull!"
   ]
  },
  {
   "cell_type": "markdown",
   "metadata": {},
   "source": [
    "* filter operates on a collection of data of length 'n'\n",
    "* filter returns a collection of data of length 'm'\n",
    "    * such that m <= n\n",
    "* filter will not change any data in your collection"
   ]
  },
  {
   "cell_type": "code",
   "execution_count": 12,
   "metadata": {
    "collapsed": false
   },
   "outputs": [],
   "source": [
    "// Other examples???"
   ]
  },
  {
   "cell_type": "markdown",
   "metadata": {},
   "source": [
    "## map\n",
    "* Scala’s type List[A] also has a method 'map'\n",
    "* Map\n",
    "    * inputs:\n",
    "        * l: List[A]\n",
    "        * f: (A) => B\n",
    "    * output: List[B]\n",
    "    * let each element of l be denoted as 'li'\n",
    "    * f(li) produces 'lip'\n",
    "    * join each lip in order to construct an output lp\n",
    "* **NOTE: the nature of map makes it a solid candidate for parallelization**\n",
    "* it might look like bellow:\n",
    "\n",
    "~~~\n",
    "sealed trait List[+A] {\n",
    "\tdef map[A,B](f:(A) => B):List[B] = this match {\n",
    "\t\tcase Nil => Nil\n",
    "\t\tcase head :: tail => f(head) :: (tail map f)\n",
    "\t}\n",
    "}\n",
    "~~~\n",
    "\n",
    "* Here is how I can use it:\n",
    "\n",
    "\n"
   ]
  },
  {
   "cell_type": "code",
   "execution_count": 5,
   "metadata": {
    "collapsed": false
   },
   "outputs": [
    {
     "name": "stdout",
     "output_type": "stream",
     "text": [
      "List(false, true, false)\n"
     ]
    },
    {
     "data": {
      "text/plain": [
       "\u001b[36mlInts\u001b[39m: \u001b[32mList\u001b[39m[\u001b[32mInt\u001b[39m] = \u001b[33mList\u001b[39m(\u001b[32m5\u001b[39m, \u001b[32m8\u001b[39m, \u001b[32m13\u001b[39m)"
      ]
     },
     "execution_count": 5,
     "metadata": {},
     "output_type": "execute_result"
    }
   ],
   "source": [
    "// here A is an Int\n",
    "// here B is a Boolean\n",
    "val lInts = List(5,8,13)\n",
    "println(lInts map {(n:Int) => n % 2 == 0})\n",
    "assert((lInts map {(n:Int) => n % 2 == 0}) == List(false, true, false))\n",
    "assert((lInts map {_ % 2 == 0}) == List(false, true, false))"
   ]
  },
  {
   "cell_type": "code",
   "execution_count": 6,
   "metadata": {
    "collapsed": false
   },
   "outputs": [
    {
     "name": "stdout",
     "output_type": "stream",
     "text": [
      "List(6, 9, 14)\n"
     ]
    }
   ],
   "source": [
    "// here A is an Int\n",
    "// here B is an Int\n",
    "println(lInts map {(n:Int) => n + 1})\n",
    "assert((lInts map {(n:Int) => n + 1}) == List(6,9,14))\n",
    "assert((lInts map {_ + 1}) == List(6,9,14))"
   ]
  },
  {
   "cell_type": "markdown",
   "metadata": {},
   "source": [
    "* map operates on a collection of length 'n' and returns a collection of length 'n'\n",
    "* map changes all the data in the collection by applying the same function to each datum of the collection"
   ]
  },
  {
   "cell_type": "code",
   "execution_count": null,
   "metadata": {
    "collapsed": true
   },
   "outputs": [],
   "source": [
    "// ??? more things using map"
   ]
  },
  {
   "cell_type": "markdown",
   "metadata": {},
   "source": [
    "## foldLeft\n",
    "* Scala’s type List[A] also has a method foldLeft\n",
    "* A better name might be “scanFromLeftToRightAndAccumulateSomeValue”\n",
    "    * But then I doubt anyone would use it…\n",
    "* foldLeft\n",
    "    * input:\n",
    "        * l: List[A]\n",
    "        * acci: B\n",
    "        * f: (B,A) => B\n",
    "    * output lp: B\n",
    "    * scan the list from left to right observe some element of l 'li'\n",
    "    * compute f(acci, li) and use that as 'acci' for the next 'li' observed\n",
    "    \n",
    "* **NOTE: foldLeft is not so easily parallellized as map and filter**\n",
    "* **NOTE: map and filter can be built using foldLeft**\n",
    "* it might look like bellow:\n",
    "\n",
    "~~~\n",
    "sealed trait List[+A] {\n",
    "\tdef foldLeft[A,B](acc:B)(f:(B, A) => B):B = this match {\n",
    "\t\tcase Nil => acc\n",
    "\t\tcase head :: tail => {\n",
    "\t\t\tval accPrime = f(acc, head)\n",
    "\t\t\ttail.foldLeft(accPrime)(f)\n",
    "\t\t}\n",
    "\t}\n",
    "}\n",
    "~~~\n",
    "\n",
    "* Here is how I can use it:\n",
    "\n",
    "\n"
   ]
  },
  {
   "cell_type": "code",
   "execution_count": 7,
   "metadata": {
    "collapsed": false
   },
   "outputs": [
    {
     "name": "stdout",
     "output_type": "stream",
     "text": [
      "found list element 1\n",
      "\tacc is: 0\n",
      "found list element 2\n",
      "\tacc is: 1\n",
      "found list element 3\n",
      "\tacc is: 3\n",
      "sum is: 6\n"
     ]
    },
    {
     "data": {
      "text/plain": [
       "\u001b[36msum\u001b[39m: \u001b[32mInt\u001b[39m = \u001b[32m6\u001b[39m"
      ]
     },
     "execution_count": 7,
     "metadata": {},
     "output_type": "execute_result"
    }
   ],
   "source": [
    "// Here A and B are both Lists[Int]\n",
    "val sum = List(1,2,3).foldLeft(0){\n",
    "    (acc, h) => {\n",
    "        println(s\"found list element $h\")\n",
    "        println(s\"\\tacc is: $acc\")\n",
    "        acc + h\n",
    "    }\n",
    "}\n",
    "\n",
    "println(s\"sum is: $sum\")\n",
    "assert(List(1,2,3).foldLeft(0){_ + _} == 6)  // #LoDashCan'tCompete"
   ]
  },
  {
   "cell_type": "code",
   "execution_count": 8,
   "metadata": {
    "collapsed": false
   },
   "outputs": [
    {
     "name": "stdout",
     "output_type": "stream",
     "text": [
      "[ 1, 2, 3 ]\n"
     ]
    },
    {
     "data": {
      "text/plain": [
       "defined \u001b[32mfunction\u001b[39m \u001b[36mformatList\u001b[39m"
      ]
     },
     "execution_count": 8,
     "metadata": {},
     "output_type": "execute_result"
    }
   ],
   "source": [
    "// Here A is Int and B is String\n",
    "def formatList(l:List[Int]):String = {\n",
    "    l.foldLeft(\"\"){\n",
    "        case (\"\", h) => s\"[ $h\"\n",
    "        case (acc, h) => s\"$acc, $h\"\n",
    "    } + \" ]\"\n",
    "}\n",
    "\n",
    "println(formatList(List(1,2,3)))"
   ]
  },
  {
   "cell_type": "markdown",
   "metadata": {},
   "source": [
    "* foldLeft operates on a collection of lenth 'n' and can return anything\n",
    "* it can be used to implement 'filter' and 'map'"
   ]
  },
  {
   "cell_type": "code",
   "execution_count": 13,
   "metadata": {
    "collapsed": false
   },
   "outputs": [
    {
     "data": {
      "text/plain": [
       "defined \u001b[32mfunction\u001b[39m \u001b[36mfoldFilter\u001b[39m"
      ]
     },
     "execution_count": 13,
     "metadata": {},
     "output_type": "execute_result"
    }
   ],
   "source": [
    "// filter\n",
    "def foldFilter[A](l:List[A])(f:A => Boolean):List[A] = {\n",
    "    // implement filter using foldLeft\n",
    "    ???\n",
    "}"
   ]
  },
  {
   "cell_type": "code",
   "execution_count": 14,
   "metadata": {
    "collapsed": false
   },
   "outputs": [
    {
     "data": {
      "text/plain": [
       "defined \u001b[32mfunction\u001b[39m \u001b[36mfoldMap\u001b[39m"
      ]
     },
     "execution_count": 14,
     "metadata": {},
     "output_type": "execute_result"
    }
   ],
   "source": [
    "// map\n",
    "def foldMap[A,B](l:List[A])(f:A => B): List[B] = {\n",
    "    // implement map using foldLeft\n",
    "    ???\n",
    "}"
   ]
  },
  {
   "cell_type": "code",
   "execution_count": 15,
   "metadata": {
    "collapsed": false
   },
   "outputs": [
    {
     "data": {
      "text/plain": [
       "defined \u001b[32mfunction\u001b[39m \u001b[36mfoldExists\u001b[39m"
      ]
     },
     "execution_count": 15,
     "metadata": {},
     "output_type": "execute_result"
    }
   ],
   "source": [
    "// exists\n",
    "/*\n",
    "    search over collection List[A]\n",
    "    for each datum:A observed\n",
    "        if f(datum)\n",
    "            then: return true\n",
    "            else: continue\n",
    "    return false\n",
    " */\n",
    "def foldExists[A](l:List[A])(f:A => Boolean):Boolean = {\n",
    "    // implement exists using foldLeft\n",
    "    ???\n",
    "}"
   ]
  },
  {
   "cell_type": "markdown",
   "metadata": {},
   "source": [
    "## Other Uses\n",
    "* These HOFs can replace loops\n",
    "* These HOFs are constructs that can easily be applied to other types\n",
    "* These HOFs are constructs that can easily be made in other languages."
   ]
  },
  {
   "cell_type": "markdown",
   "metadata": {},
   "source": [
    "### Loops as HOFs\n",
    "* consider the python statement:\n",
    "~~~\n",
    "x = [5, 10, 2]\n",
    "i = 0\n",
    "l = len(x)\n",
    "product = 0\n",
    "while i < l:\n",
    "    x_i = x[i]\n",
    "    print(x_i)\n",
    "    product = product * x_i\n",
    "    i = i + 1\n",
    "print(product)\n",
    "~~~\n",
    "* What is it's value?\n",
    "    * ???\n",
    "* Can we write it in Scala without a loop?"
   ]
  },
  {
   "cell_type": "code",
   "execution_count": 1,
   "metadata": {
    "collapsed": false
   },
   "outputs": [
    {
     "ename": "",
     "evalue": "",
     "output_type": "error",
     "traceback": [
      "\u001b[31mscala.NotImplementedError: an implementation is missing\u001b[39m\n  scala.Predef$.$qmark$qmark$qmark(\u001b[32mPredef.scala\u001b[39m:\u001b[32m288\u001b[39m)\n  ammonite.$sess.cmd0$Helper.<init>(\u001b[32mcmd0.sc\u001b[39m:\u001b[32m2\u001b[39m)\n  ammonite.$sess.cmd0$.<init>(\u001b[32mcmd0.sc\u001b[39m:\u001b[32m7\u001b[39m)\n  ammonite.$sess.cmd0$.<clinit>(\u001b[32mcmd0.sc\u001b[39m:\u001b[32m-1\u001b[39m)"
     ]
    }
   ],
   "source": [
    "val x:List[Int] = List(5, 10, 2)\n",
    "???"
   ]
  },
  {
   "cell_type": "markdown",
   "metadata": {},
   "source": [
    "### Trees\n",
    "* Let's look at \"map\" on\n",
    "    * a binary tree\n",
    "    * a binned tree"
   ]
  },
  {
   "cell_type": "markdown",
   "metadata": {},
   "source": [
    "#### Binary Tree"
   ]
  },
  {
   "cell_type": "code",
   "execution_count": 22,
   "metadata": {
    "collapsed": false
   },
   "outputs": [
    {
     "data": {
      "text/plain": [
       "defined \u001b[32mclass\u001b[39m \u001b[36mTree\u001b[39m\n",
       "defined \u001b[32mobject\u001b[39m \u001b[36mEmptyTree\u001b[39m\n",
       "defined \u001b[32mclass\u001b[39m \u001b[36mNode\u001b[39m\n",
       "defined \u001b[32mfunction\u001b[39m \u001b[36mmapt\u001b[39m"
      ]
     },
     "execution_count": 22,
     "metadata": {},
     "output_type": "execute_result"
    }
   ],
   "source": [
    "sealed abstract class Tree[+A]\n",
    "case object EmptyTree extends Tree\n",
    "case class Node[A](left:Tree[A], data:A, right:Tree[A]) extends Tree[A]\n",
    "\n",
    "// ideally this is a method...\n",
    "// but that is hard because of all the As up there...\n",
    "// sorry...\n",
    "// mapt will apply 'f' to each data point 'd' in tree 't'\n",
    "def mapt[A,B](t:Tree[A])(f:(A) => B):Tree[B] = ???"
   ]
  },
  {
   "cell_type": "code",
   "execution_count": 16,
   "metadata": {
    "collapsed": false
   },
   "outputs": [
    {
     "data": {
      "text/plain": [
       "\u001b[36mt0\u001b[39m: \u001b[32mTree\u001b[39m[\u001b[32mInt\u001b[39m] = \u001b[33mNode\u001b[39m(\u001b[33mNode\u001b[39m(EmptyTree, \u001b[32m1\u001b[39m, EmptyTree), \u001b[32m6\u001b[39m, EmptyTree)\n",
       "\u001b[36mt0PlusPlus\u001b[39m: \u001b[32mTree\u001b[39m[\u001b[32mInt\u001b[39m] = \u001b[33mNode\u001b[39m(\u001b[33mNode\u001b[39m(EmptyTree, \u001b[32m2\u001b[39m, EmptyTree), \u001b[32m7\u001b[39m, EmptyTree)"
      ]
     },
     "execution_count": 16,
     "metadata": {},
     "output_type": "execute_result"
    }
   ],
   "source": [
    "val t0:Tree[Int] = Node(Node(EmptyTree, 1, EmptyTree), 6, EmptyTree)\n",
    "val t0PlusPlus:Tree[Int] = Node(Node(EmptyTree, 2, EmptyTree), 7, EmptyTree)\n",
    "\n",
    "assert(t0PlusPlus == mapt(t0){(d:Int) => d + 1})\n",
    "assert(t0PlusPlus == mapt(t0){ _ + 1 })"
   ]
  },
  {
   "cell_type": "code",
   "execution_count": null,
   "metadata": {
    "collapsed": true
   },
   "outputs": [],
   "source": [
    "// More with Tree[A] ???"
   ]
  },
  {
   "cell_type": "markdown",
   "metadata": {},
   "source": [
    "#### Binned Tree\n",
    "* The binned binary search tree is a practical data structure\n",
    "    * It has applications in Databases\n",
    "    * Involves datasets where duplicates are important\n",
    "* In practice, it is a balanced binary search tree which stores non-empty repetative lists of data at each node in the tree\n",
    "* example:\n",
    "    * $$\\begin{array} &\n",
    "Tree\\ starts\\ as & : & EmptyTree \\\\\n",
    "add\\ a\\ 5 & : & Node(EmptyTree, \\textbf{List(5)}, EmptyTree) \\\\\n",
    "add\\ a\\ 2 & : & Node(Node(EmptyTree,\\textbf{List(2)},EmptyTree), \\textbf{List(5)}, EmptyTree) \\\\\n",
    "add\\ another\\ 5 & : & Node(Node(EmptyTree,\\textbf{List(2)},EmptyTree), \\textbf{List(5, 5)}, EmptyTree) \\\\\n",
    "add\\ another\\ 5 & : & Node(Node(EmptyTree,\\textbf{List(2)},EmptyTree), \\textbf{List(5, 5, 5)}, EmptyTree) \\\\\n",
    "remove\\ a\\ 2 & : & Node(EmptyTree, \\textbf{List(5, 5, 5)}, EmptyTree) \\\\\n",
    "remove\\ a\\ 5 & : & Node(EmptyTree, \\textbf{List(5, 5)}, EmptyTree) \\\\\n",
    "\\end{array} $$\n"
   ]
  },
  {
   "cell_type": "code",
   "execution_count": 18,
   "metadata": {
    "collapsed": false
   },
   "outputs": [
    {
     "data": {
      "text/plain": [
       "defined \u001b[32mtype\u001b[39m \u001b[36mBinnedTree\u001b[39m\n",
       "defined \u001b[32mfunction\u001b[39m \u001b[36mmapbt\u001b[39m"
      ]
     },
     "execution_count": 18,
     "metadata": {},
     "output_type": "execute_result"
    }
   ],
   "source": [
    "type BinnedTree[A] = Tree[List[A]]\n",
    "\n",
    "// map on bt shall apply f to every element in every list in bt\n",
    "def mapbt[A,B](bt:BinnedTree[A])(f:(A) => B):BinnedTree[B] = ???"
   ]
  },
  {
   "cell_type": "code",
   "execution_count": 20,
   "metadata": {
    "collapsed": false
   },
   "outputs": [
    {
     "data": {
      "text/plain": [
       "\u001b[36mbt0\u001b[39m: \u001b[32mBinnedTree\u001b[39m[\u001b[32mInt\u001b[39m] = \u001b[33mNode\u001b[39m(\n",
       "  \u001b[33mNode\u001b[39m(EmptyTree, \u001b[33mList\u001b[39m(\u001b[32m1\u001b[39m, \u001b[32m1\u001b[39m, \u001b[32m1\u001b[39m), EmptyTree),\n",
       "  \u001b[33mList\u001b[39m(\u001b[32m5\u001b[39m, \u001b[32m10\u001b[39m, \u001b[32m25\u001b[39m),\n",
       "  EmptyTree\n",
       ")\n",
       "\u001b[36mbt0PlusPlus\u001b[39m: \u001b[32mBinnedTree\u001b[39m[\u001b[32mInt\u001b[39m] = \u001b[33mNode\u001b[39m(\n",
       "  \u001b[33mNode\u001b[39m(EmptyTree, \u001b[33mList\u001b[39m(\u001b[32m2\u001b[39m, \u001b[32m2\u001b[39m, \u001b[32m2\u001b[39m), EmptyTree),\n",
       "  \u001b[33mList\u001b[39m(\u001b[32m6\u001b[39m, \u001b[32m11\u001b[39m, \u001b[32m26\u001b[39m),\n",
       "  EmptyTree\n",
       ")"
      ]
     },
     "execution_count": 20,
     "metadata": {},
     "output_type": "execute_result"
    }
   ],
   "source": [
    "val bt0:BinnedTree[Int] = Node(Node(EmptyTree, List(1,1,1),EmptyTree), List(5,10,25), EmptyTree)\n",
    "val bt0PlusPlus:BinnedTree[Int] = Node(Node(EmptyTree, List(2,2,2),EmptyTree), List(6,11,26), EmptyTree)\n",
    "\n",
    "assert(bt0PlusPlus == mapbt(bt0){ _ + 1 })"
   ]
  },
  {
   "cell_type": "markdown",
   "metadata": {},
   "source": [
    "### Python\n",
    "* How do I do this magical thing in Python ?!\n",
    "* See code..."
   ]
  },
  {
   "cell_type": "markdown",
   "metadata": {},
   "source": [
    "## FoldRight\n",
    "* similar to foldLeft, but it will scan the list from Right to Left then accumulate something\n",
    "* it might look like:\n",
    "~~~\n",
    "sealed trait List[+A] {\n",
    "    def foldRight[A,B](acc:A)(f:(A,B) => B) B = this match {\n",
    "        case EmptyListy => acc\n",
    "        case h :: t => {\n",
    "            val accp = t.foldRight(acc)(f)\n",
    "            f(h,accp)\n",
    "        }\n",
    "    }\n",
    "}\n",
    "~~~\n",
    "* Note that the parameter 'f' looks a bit different from foldLeft"
   ]
  },
  {
   "cell_type": "code",
   "execution_count": 3,
   "metadata": {
    "collapsed": false
   },
   "outputs": [
    {
     "name": "stdout",
     "output_type": "stream",
     "text": [
      "The List is : List(1, 2, 3)\n",
      "folding Left\n",
      "\tFound element 1\n",
      "\tFound element 2\n",
      "\tFound element 3\n",
      "folding Right\n",
      "\tFound element 3\n",
      "\tFound element 2\n",
      "\tFound element 1\n"
     ]
    },
    {
     "data": {
      "text/plain": [
       "\u001b[36mlst\u001b[39m: \u001b[32mList\u001b[39m[\u001b[32mInt\u001b[39m] = \u001b[33mList\u001b[39m(\u001b[32m1\u001b[39m, \u001b[32m2\u001b[39m, \u001b[32m3\u001b[39m)\n",
       "\u001b[36mlstProduct\u001b[39m: \u001b[32mInt\u001b[39m = \u001b[32m6\u001b[39m\n",
       "\u001b[36mproductLeft\u001b[39m: \u001b[32mInt\u001b[39m = \u001b[32m6\u001b[39m\n",
       "\u001b[36mproductRight\u001b[39m: \u001b[32mInt\u001b[39m = \u001b[32m6\u001b[39m"
      ]
     },
     "execution_count": 3,
     "metadata": {},
     "output_type": "execute_result"
    }
   ],
   "source": [
    "val lst = List(1,2,3)\n",
    "val lstProduct = 6\n",
    "\n",
    "println(s\"The List is : $lst\")\n",
    "\n",
    "println(\"folding Left\")\n",
    "val productLeft = lst.foldLeft(1){\n",
    "    (acc, h) => {  // Note this line\n",
    "        println(s\"\\tFound element $h\")\n",
    "        acc * h\n",
    "    }\n",
    "}\n",
    "\n",
    "println(\"folding Right\")\n",
    "val productRight = lst.foldRight(1){\n",
    "    (h, acc) => {  // Note this line\n",
    "        println(s\"\\tFound element $h\")\n",
    "        acc * h\n",
    "    }\n",
    "}\n",
    "\n",
    "assert(lstProduct == productLeft)\n",
    "assert(lstProduct == productRight)\n",
    "assert(lstProduct == lst.foldLeft(1){ _ * _ })\n",
    "assert(lstProduct == lst.foldRight(1){ _ * _ })"
   ]
  },
  {
   "cell_type": "markdown",
   "metadata": {},
   "source": [
    "## Practice Problems"
   ]
  },
  {
   "cell_type": "code",
   "execution_count": null,
   "metadata": {
    "collapsed": true
   },
   "outputs": [],
   "source": [
    "// given a list, reverse the list\n",
    "\n",
    "// ??? without an HOF\n",
    "\n",
    "// ??? with an HOF"
   ]
  },
  {
   "cell_type": "code",
   "execution_count": null,
   "metadata": {
    "collapsed": true
   },
   "outputs": [],
   "source": [
    "// find the count of even numbers in a list\n",
    "\n",
    "// ??? without an HOF\n",
    "\n",
    "// ??? with an HOF"
   ]
  },
  {
   "cell_type": "code",
   "execution_count": 3,
   "metadata": {
    "collapsed": true
   },
   "outputs": [],
   "source": [
    "// does the list contain an odd number?\n",
    "\n",
    "// ??? without an HOF\n",
    "\n",
    "// ??? with an HOF"
   ]
  },
  {
   "cell_type": "markdown",
   "metadata": {},
   "source": [
    "## Overview\n",
    "* HOF\n",
    "* Filter\n",
    "* Map\n",
    "* FoldLeft - Reduce\n",
    "* Loops as HOFs\n",
    "* Other Uses"
   ]
  },
  {
   "cell_type": "markdown",
   "metadata": {},
   "source": [
    "## TODOs\n",
    "* Homework and Quiz 4 is due Friday 02/22\n",
    "* Homework 5 is due Sunday 02/24 - No Moodle Quiz!\n",
    "* Project 1 is due Monday 03/04\n",
    "* If you have questions about your spot exam, please let us know - in person or over Piazza\n",
    "    * Some time in Recitation this Friday should be dedicated to reviewing the first spot exam."
   ]
  }
 ],
 "metadata": {
  "anaconda-cloud": {},
  "kernelspec": {
   "display_name": "Scala",
   "language": "scala",
   "name": "scala"
  },
  "language_info": {
   "codemirror_mode": "text/x-scala",
   "file_extension": ".scala",
   "mimetype": "text/x-scala",
   "name": "scala",
   "nbconvert_exporter": "script",
   "version": "2.12.8"
  }
 },
 "nbformat": 4,
 "nbformat_minor": 1
}
